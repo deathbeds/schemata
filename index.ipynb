{
 "cells": [
  {
   "cell_type": "markdown",
   "id": "42826dca",
   "metadata": {},
   "source": [
    "# schemata\n",
    "\n",
    "[![rtd-badge]][rtd]\n",
    "[![gh-badge]][gh-actions]\n",
    "[![cov-badge]][cov]\n",
    "\n",
    "\n",
    "[gh-badge]: https://github.com/deathbeds/schemata/actions/workflows/python-package.yml/badge.svg\n",
    "[gh-actions]: https://github.com/deathbeds/schemata/actions/workflows/python-package.yml\n",
    "[rtd-badge]: https://readthedocs.org/projects/schemata/badge/\n",
    "[rtd]: https://schemata.readthedocs.io/en/edits/readme.html\n",
    "[cov-badge]: https://img.shields.io/codecov/c/github/deathbeds/schemata?token=hob01Xmh6Z\n",
    "[cov]: https://app.codecov.io/gh/deathbeds/schemata\n",
    "\n",
    "`schemata` is a composable type and trait system for python. through `schemata`s fluent and symbollic type compositions we can define complex scenarios in python, as an extension of the jsonschema specification.\n",
    "\n",
    "    pip install schemata"
   ]
  },
  {
   "cell_type": "markdown",
   "id": "c42d240c",
   "metadata": {},
   "source": [
    "## describing many facets of a data structure\n",
    "\n",
    "`schemata` makes it possible to combine different forms of schema like:\n",
    "\n",
    "* react json schema ui with ipywidgets\n",
    "* validation with an external `jsonschema` dependency\n",
    "* rdf context\n",
    "* exporting to other pythonic models like `traitlets`, `ipywidgets` and `pydantic`"
   ]
  },
  {
   "cell_type": "code",
   "execution_count": 1,
   "id": "e9081141",
   "metadata": {},
   "outputs": [],
   "source": [
    "    from schemata import *"
   ]
  },
  {
   "cell_type": "markdown",
   "id": "898304e4",
   "metadata": {},
   "source": [
    "we use python syntax to compose our schema."
   ]
  },
  {
   "cell_type": "code",
   "execution_count": 2,
   "id": "8565c4c5",
   "metadata": {},
   "outputs": [],
   "source": [
    "    class Thing(Dict):\n",
    "        \n",
    "        class Name(String.minLength(1)+ Type__[XSD.string]):\n",
    "            \"the users name. user a single to satisfy any naming except empty.\"\n",
    "        name: Name.default(\"schemata\").text()\n",
    "        positive_integer: Integer[1:] + Type__[XSD.integer]            "
   ]
  },
  {
   "cell_type": "raw",
   "id": "c4c018ac",
   "metadata": {},
   "source": [
    "<details><summary>click to expand the schema for `Thing`</summary>"
   ]
  },
  {
   "cell_type": "code",
   "execution_count": 3,
   "id": "ae003b97",
   "metadata": {},
   "outputs": [
    {
     "data": {
      "text/plain": [
       "{'type': 'object',\n",
       " 'properties': {'name': {'type': 'string',\n",
       "   'minLength': 1,\n",
       "   '@type': 'http://www.w3.org/2001/XMLSchema#string',\n",
       "   'default': 'schemata',\n",
       "   'ui:widget': 'text'},\n",
       "  'positive_integer': {'type': 'integer',\n",
       "   'minimum': 1,\n",
       "   '@type': 'http://www.w3.org/2001/XMLSchema#integer'}},\n",
       " 'definitions': {'Name': {'type': 'string',\n",
       "   'minLength': 1,\n",
       "   '@type': 'http://www.w3.org/2001/XMLSchema#string',\n",
       "   'description': 'the users name. user a single to satisfy any naming except empty.'}}}"
      ]
     },
     "execution_count": 3,
     "metadata": {},
     "output_type": "execute_result"
    }
   ],
   "source": [
    "Thing.schema(True)"
   ]
  },
  {
   "cell_type": "code",
   "execution_count": 4,
   "id": "d2e494b9",
   "metadata": {},
   "outputs": [
    {
     "data": {
      "text/plain": [
       "{'name': 'yo'}"
      ]
     },
     "execution_count": 4,
     "metadata": {},
     "output_type": "execute_result"
    }
   ],
   "source": [
    "Thing.cast()(\"yo\")"
   ]
  },
  {
   "cell_type": "markdown",
   "id": "a0c43811",
   "metadata": {},
   "source": [
    "</details>"
   ]
  },
  {
   "cell_type": "markdown",
   "id": "1fb805c4",
   "metadata": {},
   "source": [
    "## validation"
   ]
  },
  {
   "cell_type": "code",
   "execution_count": 5,
   "id": "84d037d8",
   "metadata": {},
   "outputs": [],
   "source": [
    "    assert Thing() == dict(name=\"schemata\")"
   ]
  },
  {
   "cell_type": "code",
   "execution_count": 6,
   "id": "9b2d0027",
   "metadata": {},
   "outputs": [],
   "source": [
    "    assert Thing(name=\"not schemata\") == dict(name=\"not schemata\")"
   ]
  },
  {
   "cell_type": "code",
   "execution_count": 7,
   "id": "8608caf4",
   "metadata": {},
   "outputs": [],
   "source": [
    "    assert Thing(name=\"not schemata\")\\\n",
    "    == Thing.cast()(\"not schemata\")\\\n",
    "    == dict(name=\"not schemata\")"
   ]
  },
  {
   "cell_type": "code",
   "execution_count": 8,
   "id": "1a8c677f",
   "metadata": {},
   "outputs": [],
   "source": [
    "    exceptions.raises(Thing.cast(), 1)"
   ]
  },
  {
   "cell_type": "markdown",
   "id": "00d3d8be",
   "metadata": {},
   "source": [
    "## rich display"
   ]
  },
  {
   "cell_type": "markdown",
   "id": "64d3fc4b",
   "metadata": {},
   "source": [
    "## metadata context"
   ]
  },
  {
   "cell_type": "code",
   "execution_count": null,
   "id": "18ed6e6e",
   "metadata": {},
   "outputs": [],
   "source": []
  }
 ],
 "metadata": {
  "kernelspec": {
   "display_name": "Python 3",
   "language": "python",
   "name": "python3"
  },
  "language_info": {
   "codemirror_mode": {
    "name": "ipython",
    "version": 3
   },
   "file_extension": ".py",
   "mimetype": "text/x-python",
   "name": "python",
   "nbconvert_exporter": "python",
   "pygments_lexer": "ipython3",
   "version": "3.7.7"
  }
 },
 "nbformat": 4,
 "nbformat_minor": 5
}
