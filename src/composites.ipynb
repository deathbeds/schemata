{
 "cells": [
  {
   "cell_type": "markdown",
   "id": "c0877697",
   "metadata": {},
   "source": [
    "# `composites`"
   ]
  },
  {
   "cell_type": "code",
   "execution_count": 17,
   "id": "3951e196",
   "metadata": {},
   "outputs": [],
   "source": [
    "    from schemata import *; import pytest"
   ]
  },
  {
   "cell_type": "markdown",
   "id": "749b79cc",
   "metadata": {},
   "source": [
    "`composites` are types that define conditions on other type. the composites are:"
   ]
  },
  {
   "cell_type": "code",
   "execution_count": 18,
   "id": "99ca1a6c",
   "metadata": {},
   "outputs": [
    {
     "name": "stdout",
     "output_type": "stream",
     "text": [
      "AllOf, AnyOf, OneOf, Not, If, Else, Then\n"
     ]
    }
   ],
   "source": [
    "    print(\"AllOf, AnyOf, OneOf, Not, If, Else, Then\")"
   ]
  },
  {
   "cell_type": "code",
   "execution_count": 10,
   "id": "0d139e94",
   "metadata": {},
   "outputs": [],
   "source": [
    "    Number = AnyOf[Integer, Float]"
   ]
  },
  {
   "cell_type": "code",
   "execution_count": 14,
   "id": "5c8b4c05",
   "metadata": {},
   "outputs": [],
   "source": [
    "    PositiveNumber = AllOf[\n",
    "        Number, Integer.ExclusiveMinimum[0]\n",
    "    ]"
   ]
  },
  {
   "cell_type": "code",
   "execution_count": 16,
   "id": "ceffbebe",
   "metadata": {},
   "outputs": [
    {
     "data": {
      "text/plain": [
       "1"
      ]
     },
     "execution_count": 16,
     "metadata": {},
     "output_type": "execute_result"
    }
   ],
   "source": [
    "    PositiveNumber(1)"
   ]
  },
  {
   "cell_type": "code",
   "execution_count": null,
   "id": "c2d4f3b2",
   "metadata": {},
   "outputs": [],
   "source": [
    "    assert (\n",
    "        Number\n",
    "    )"
   ]
  },
  {
   "cell_type": "code",
   "execution_count": 9,
   "id": "4bc6bb2f",
   "metadata": {},
   "outputs": [],
   "source": [
    "    assert (\n",
    "        AllOf[Integer, Integer.Minimum[0], Integer.Maximum[6]]\n",
    "    )"
   ]
  },
  {
   "cell_type": "code",
   "execution_count": 6,
   "id": "ea8960f9",
   "metadata": {},
   "outputs": [],
   "source": [
    "    class AnAllOf(\n",
    "        , \n",
    "        Examples[\n",
    "            tuple(range(1, 10))\n",
    "        ]\n",
    "    ):\n",
    "        pass"
   ]
  },
  {
   "cell_type": "code",
   "execution_count": null,
   "id": "36acf07b",
   "metadata": {},
   "outputs": [],
   "source": []
  }
 ],
 "metadata": {
  "kernelspec": {
   "display_name": "Python 3",
   "language": "python",
   "name": "python3"
  },
  "language_info": {
   "codemirror_mode": {
    "name": "ipython",
    "version": 3
   },
   "file_extension": ".py",
   "mimetype": "text/x-python",
   "name": "python",
   "nbconvert_exporter": "python",
   "pygments_lexer": "ipython3",
   "version": "3.7.7"
  }
 },
 "nbformat": 4,
 "nbformat_minor": 5
}
