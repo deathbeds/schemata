{
 "cells": [
  {
   "cell_type": "code",
   "execution_count": 1,
   "id": "7ad2a2a8",
   "metadata": {},
   "outputs": [],
   "source": [
    "from schemata import *"
   ]
  },
  {
   "cell_type": "code",
   "execution_count": 2,
   "id": "048d2eaf",
   "metadata": {},
   "outputs": [],
   "source": [
    "from schemata.compat import ipywidgets"
   ]
  },
  {
   "cell_type": "code",
   "execution_count": 3,
   "id": "5cf59d6d",
   "metadata": {},
   "outputs": [
    {
     "data": {
      "application/vnd.jupyter.widget-view+json": {
       "model_id": "b571c0bb04c3435f95e92b8e34a57c0c",
       "version_major": 2,
       "version_minor": 0
      },
      "text/plain": [
       "Checkbox(value=True, description='true checkbox')"
      ]
     },
     "metadata": {},
     "output_type": "display_data"
    }
   ],
   "source": [
    "ipywidgets.get_widget(true, description=\"true checkbox\")"
   ]
  },
  {
   "cell_type": "code",
   "execution_count": 4,
   "id": "8f7709df",
   "metadata": {},
   "outputs": [
    {
     "data": {
      "application/vnd.jupyter.widget-view+json": {
       "model_id": "fcd240f090894784817e0ae32b030513",
       "version_major": 2,
       "version_minor": 0
      },
      "text/plain": [
       "Checkbox(value=False, description='false checkbox')"
      ]
     },
     "metadata": {},
     "output_type": "display_data"
    }
   ],
   "source": [
    "ipywidgets.get_widget(false, description=\"false checkbox\")"
   ]
  },
  {
   "cell_type": "code",
   "execution_count": 5,
   "id": "ff6cec90",
   "metadata": {},
   "outputs": [],
   "source": [
    "NEG = Integer.slider().minimum(-10).maximum(1).description(\"my negative integer\")"
   ]
  },
  {
   "cell_type": "code",
   "execution_count": 6,
   "id": "c5b61c61",
   "metadata": {},
   "outputs": [
    {
     "data": {
      "application/vnd.jupyter.widget-view+json": {
       "model_id": "992edc5eb6bd4eafab04bb1f6a06dfed",
       "version_major": 2,
       "version_minor": 0
      },
      "text/plain": [
       "IntSlider(value=-2, description='my negative integer', max=1, min=-10)"
      ]
     },
     "metadata": {},
     "output_type": "display_data"
    }
   ],
   "source": [
    "ipywidgets.get_widget(NEG(-2))"
   ]
  },
  {
   "cell_type": "code",
   "execution_count": 7,
   "id": "5a2b7e63",
   "metadata": {},
   "outputs": [],
   "source": [
    "WIDE = ui.Layout[dict(width=\"100%\")]"
   ]
  },
  {
   "cell_type": "code",
   "execution_count": 8,
   "id": "b2159445",
   "metadata": {},
   "outputs": [
    {
     "data": {
      "application/vnd.jupyter.widget-view+json": {
       "model_id": "4c25272b81b54ae49820405f6cb64c26",
       "version_major": 2,
       "version_minor": 0
      },
      "text/plain": [
       "IntSlider(value=-2, description='my negative integer', layout=Layout(width='100%'), max=1, min=-10)"
      ]
     },
     "metadata": {},
     "output_type": "display_data"
    }
   ],
   "source": [
    "ipywidgets.get_widget(NEG[WIDE](-2))"
   ]
  },
  {
   "cell_type": "code",
   "execution_count": 9,
   "id": "2c7e453b",
   "metadata": {},
   "outputs": [],
   "source": [
    "NEGF = Float.cast().slider().minimum(-10).maximum(1).description(\"my negative integer\")"
   ]
  },
  {
   "cell_type": "code",
   "execution_count": 10,
   "id": "72dae59c",
   "metadata": {},
   "outputs": [
    {
     "data": {
      "application/vnd.jupyter.widget-view+json": {
       "model_id": "19f528c62f6642d5ba04995a82a1db8d",
       "version_major": 2,
       "version_minor": 0
      },
      "text/plain": [
       "FloatSlider(value=-2.0, description='my negative integer', max=1.0, min=-10.0)"
      ]
     },
     "metadata": {},
     "output_type": "display_data"
    }
   ],
   "source": [
    "ipywidgets.get_widget(NEGF(-2))"
   ]
  },
  {
   "cell_type": "code",
   "execution_count": 11,
   "id": "afefeab0",
   "metadata": {},
   "outputs": [
    {
     "data": {
      "application/vnd.jupyter.widget-view+json": {
       "model_id": "50e404fe34a34b4696905ff7d921f178",
       "version_major": 2,
       "version_minor": 0
      },
      "text/plain": [
       "FloatSlider(value=-2.0, description='my negative integer', layout=Layout(width='100%'), max=1.0, min=-10.0)"
      ]
     },
     "metadata": {},
     "output_type": "display_data"
    }
   ],
   "source": [
    "ipywidgets.get_widget(NEGF[WIDE](-2))"
   ]
  },
  {
   "cell_type": "code",
   "execution_count": 12,
   "id": "a33bc076",
   "metadata": {},
   "outputs": [
    {
     "data": {
      "application/vnd.jupyter.widget-view+json": {
       "model_id": "b08d8f3f5ffb4370b5fa1e13855cd5a4",
       "version_major": 2,
       "version_minor": 0
      },
      "text/plain": [
       "Text(value='123')"
      ]
     },
     "metadata": {},
     "output_type": "display_data"
    }
   ],
   "source": [
    "ipywidgets.get_widget(String.text()(\"123\"))"
   ]
  },
  {
   "cell_type": "code",
   "execution_count": 13,
   "id": "dac6d8f9",
   "metadata": {},
   "outputs": [
    {
     "data": {
      "application/vnd.jupyter.widget-view+json": {
       "model_id": "c920a17f0bf345cf9bc07fb763534105",
       "version_major": 2,
       "version_minor": 0
      },
      "text/plain": [
       "Textarea(value='abc')"
      ]
     },
     "metadata": {},
     "output_type": "display_data"
    }
   ],
   "source": [
    "ipywidgets.get_widget(String.textarea()(\"abc\"))"
   ]
  },
  {
   "cell_type": "code",
   "execution_count": null,
   "id": "1bbfe810",
   "metadata": {},
   "outputs": [],
   "source": []
  }
 ],
 "metadata": {
  "kernelspec": {
   "display_name": "Python 3",
   "language": "python",
   "name": "python3"
  },
  "language_info": {
   "codemirror_mode": {
    "name": "ipython",
    "version": 3
   },
   "file_extension": ".py",
   "mimetype": "text/x-python",
   "name": "python",
   "nbconvert_exporter": "python",
   "pygments_lexer": "ipython3",
   "version": "3.7.7"
  }
 },
 "nbformat": 4,
 "nbformat_minor": 5
}
