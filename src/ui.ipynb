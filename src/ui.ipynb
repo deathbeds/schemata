{
 "cells": [
  {
   "cell_type": "code",
   "execution_count": 1,
   "id": "f786b5cd",
   "metadata": {},
   "outputs": [],
   "source": [
    "from schemata import *"
   ]
  },
  {
   "cell_type": "code",
   "execution_count": 2,
   "id": "1230c139",
   "metadata": {},
   "outputs": [],
   "source": [
    "from schemata.compat import ipywidgets"
   ]
  },
  {
   "cell_type": "code",
   "execution_count": 3,
   "id": "5861589e",
   "metadata": {},
   "outputs": [
    {
     "data": {
      "application/vnd.jupyter.widget-view+json": {
       "model_id": "88297b688c434f6fbbe6f3b599ac3a86",
       "version_major": 2,
       "version_minor": 0
      },
      "text/plain": [
       "Checkbox(value=True, description='true checkbox')"
      ]
     },
     "metadata": {},
     "output_type": "display_data"
    }
   ],
   "source": [
    "compat.ipywidgets.get_widget(true, description=\"true checkbox\")"
   ]
  },
  {
   "cell_type": "code",
   "execution_count": 4,
   "id": "3b2b1c05",
   "metadata": {},
   "outputs": [
    {
     "data": {
      "application/vnd.jupyter.widget-view+json": {
       "model_id": "fda1c2094f8945d69e83c4613d53749a",
       "version_major": 2,
       "version_minor": 0
      },
      "text/plain": [
       "Checkbox(value=False, description='false checkbox')"
      ]
     },
     "metadata": {},
     "output_type": "display_data"
    }
   ],
   "source": [
    "compat.ipywidgets.get_widget(false, description=\"false checkbox\")"
   ]
  },
  {
   "cell_type": "code",
   "execution_count": 5,
   "id": "6d008758",
   "metadata": {},
   "outputs": [],
   "source": [
    "NEG = Integer.slider().minimum(-10).maximum(1).description(\"my negative integer\")"
   ]
  },
  {
   "cell_type": "code",
   "execution_count": 6,
   "id": "403978af",
   "metadata": {},
   "outputs": [
    {
     "data": {
      "application/vnd.jupyter.widget-view+json": {
       "model_id": "8216e2c17d6e4fb2a2e2a03509082b16",
       "version_major": 2,
       "version_minor": 0
      },
      "text/plain": [
       "IntSlider(value=-2, description='my negative integer', max=1, min=-10)"
      ]
     },
     "metadata": {},
     "output_type": "display_data"
    }
   ],
   "source": [
    "compat.ipywidgets.get_widget(NEG(-2))"
   ]
  },
  {
   "cell_type": "code",
   "execution_count": 7,
   "id": "828c0a41",
   "metadata": {},
   "outputs": [],
   "source": [
    "WIDE = ui.Layout[dict(width=\"100%\")]"
   ]
  },
  {
   "cell_type": "code",
   "execution_count": 8,
   "id": "a37071f6",
   "metadata": {},
   "outputs": [
    {
     "data": {
      "application/vnd.jupyter.widget-view+json": {
       "model_id": "5dc216303f0b413784f86d9087141472",
       "version_major": 2,
       "version_minor": 0
      },
      "text/plain": [
       "IntSlider(value=-2, description='my negative integer', layout=Layout(width='100%'), max=1, min=-10)"
      ]
     },
     "metadata": {},
     "output_type": "display_data"
    }
   ],
   "source": [
    "compat.ipywidgets.get_widget(NEG[WIDE](-2))"
   ]
  },
  {
   "cell_type": "code",
   "execution_count": 9,
   "id": "4e03c86d",
   "metadata": {},
   "outputs": [],
   "source": [
    "NEGF = Float.cast().slider().minimum(-10).maximum(1).description(\"my negative integer\")"
   ]
  },
  {
   "cell_type": "code",
   "execution_count": 10,
   "id": "df2a333a",
   "metadata": {},
   "outputs": [
    {
     "data": {
      "application/vnd.jupyter.widget-view+json": {
       "model_id": "103204cfeaec4b468a060614643a55bf",
       "version_major": 2,
       "version_minor": 0
      },
      "text/plain": [
       "FloatSlider(value=-2.0, description='my negative integer', max=1.0, min=-10.0)"
      ]
     },
     "metadata": {},
     "output_type": "display_data"
    }
   ],
   "source": [
    "compat.ipywidgets.get_widget(NEGF(-2))"
   ]
  },
  {
   "cell_type": "code",
   "execution_count": 11,
   "id": "aabc95f4",
   "metadata": {},
   "outputs": [
    {
     "data": {
      "application/vnd.jupyter.widget-view+json": {
       "model_id": "13398c5d38a04013a4dace6330ab2b49",
       "version_major": 2,
       "version_minor": 0
      },
      "text/plain": [
       "FloatSlider(value=-2.0, description='my negative integer', layout=Layout(width='100%'), max=1.0, min=-10.0)"
      ]
     },
     "metadata": {},
     "output_type": "display_data"
    }
   ],
   "source": [
    "compat.ipywidgets.get_widget(NEGF[WIDE](-2))"
   ]
  },
  {
   "cell_type": "code",
   "execution_count": 12,
   "id": "4aca96ec",
   "metadata": {},
   "outputs": [
    {
     "data": {
      "application/vnd.jupyter.widget-view+json": {
       "model_id": "bd040a36d873422198bbea3c8b84d21d",
       "version_major": 2,
       "version_minor": 0
      },
      "text/plain": [
       "Text(value='123')"
      ]
     },
     "metadata": {},
     "output_type": "display_data"
    }
   ],
   "source": [
    "compat.ipywidgets.get_widget(String.text()(\"123\"))"
   ]
  },
  {
   "cell_type": "code",
   "execution_count": 13,
   "id": "7cce9951",
   "metadata": {},
   "outputs": [
    {
     "data": {
      "application/vnd.jupyter.widget-view+json": {
       "model_id": "064ef7bf2f2646658687d65823046eec",
       "version_major": 2,
       "version_minor": 0
      },
      "text/plain": [
       "Textarea(value='abc')"
      ]
     },
     "metadata": {},
     "output_type": "display_data"
    }
   ],
   "source": [
    "compat.ipywidgets.get_widget(String.textarea()(\"abc\"))"
   ]
  },
  {
   "cell_type": "code",
   "execution_count": null,
   "id": "b376e79a",
   "metadata": {},
   "outputs": [],
   "source": []
  }
 ],
 "metadata": {
  "kernelspec": {
   "display_name": "Python 3",
   "language": "python",
   "name": "python3"
  },
  "language_info": {
   "codemirror_mode": {
    "name": "ipython",
    "version": 3
   },
   "file_extension": ".py",
   "mimetype": "text/x-python",
   "name": "python",
   "nbconvert_exporter": "python",
   "pygments_lexer": "ipython3",
   "version": "3.7.7"
  }
 },
 "nbformat": 4,
 "nbformat_minor": 5
}
