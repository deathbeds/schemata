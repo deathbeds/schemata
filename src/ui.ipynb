{
 "cells": [
  {
   "cell_type": "code",
   "execution_count": 1,
   "id": "30394df9",
   "metadata": {},
   "outputs": [],
   "source": [
    "from schemata import *"
   ]
  },
  {
   "cell_type": "code",
   "execution_count": 2,
   "id": "8de918dc",
   "metadata": {},
   "outputs": [],
   "source": [
    "NEG = Integer.slider().minimum(-10).maximum(1).description(\"my negative integer\")"
   ]
  },
  {
   "cell_type": "code",
   "execution_count": 3,
   "id": "fd1cfd90",
   "metadata": {},
   "outputs": [
    {
     "data": {
      "application/vnd.jupyter.widget-view+json": {
       "model_id": "4e2b806009754f0fa53b60493bb4af6f",
       "version_major": 2,
       "version_minor": 0
      },
      "text/plain": [
       "IntSlider(value=-2, description='my negative integer', max=1, min=-10)"
      ]
     },
     "metadata": {},
     "output_type": "display_data"
    }
   ],
   "source": [
    "NEG(-2)"
   ]
  },
  {
   "cell_type": "code",
   "execution_count": 4,
   "id": "3d826035",
   "metadata": {},
   "outputs": [],
   "source": [
    "WIDE = Layout[dict(width=\"100%\")]"
   ]
  },
  {
   "cell_type": "code",
   "execution_count": 5,
   "id": "c580dd0b",
   "metadata": {},
   "outputs": [
    {
     "data": {
      "application/vnd.jupyter.widget-view+json": {
       "model_id": "0e9d82df22234bb9ad21e340b962e8e6",
       "version_major": 2,
       "version_minor": 0
      },
      "text/plain": [
       "IntSlider(value=-2, description='my negative integer', layout=Layout(width='100%'), max=1, min=-10)"
      ]
     },
     "metadata": {},
     "output_type": "display_data"
    }
   ],
   "source": [
    "NEG[WIDE](-2)"
   ]
  },
  {
   "cell_type": "code",
   "execution_count": 14,
   "id": "608de191",
   "metadata": {},
   "outputs": [],
   "source": [
    "NEGF = Float.cast().slider().minimum(-10).maximum(1).description(\"my negative integer\")"
   ]
  },
  {
   "cell_type": "code",
   "execution_count": 15,
   "id": "1bfc8f1b",
   "metadata": {},
   "outputs": [
    {
     "data": {
      "application/vnd.jupyter.widget-view+json": {
       "model_id": "1ee6465b099a422bbf03c82139b933ff",
       "version_major": 2,
       "version_minor": 0
      },
      "text/plain": [
       "FloatSlider(value=-2.0, description='my negative integer', max=1.0, min=-10.0)"
      ]
     },
     "metadata": {},
     "output_type": "display_data"
    }
   ],
   "source": [
    "NEGF(-2)"
   ]
  },
  {
   "cell_type": "code",
   "execution_count": 16,
   "id": "048b0092",
   "metadata": {},
   "outputs": [
    {
     "data": {
      "application/vnd.jupyter.widget-view+json": {
       "model_id": "674ac00c5eb849d998fe4843d6a4f25b",
       "version_major": 2,
       "version_minor": 0
      },
      "text/plain": [
       "FloatSlider(value=-2.0, description='my negative integer', layout=Layout(width='100%'), max=1.0, min=-10.0)"
      ]
     },
     "metadata": {},
     "output_type": "display_data"
    }
   ],
   "source": [
    "NEGF[WIDE](-2)"
   ]
  },
  {
   "cell_type": "code",
   "execution_count": 12,
   "id": "153ddce0",
   "metadata": {},
   "outputs": [
    {
     "data": {
      "application/vnd.jupyter.widget-view+json": {
       "model_id": "827e95531100431f9e0214a81cca483b",
       "version_major": 2,
       "version_minor": 0
      },
      "text/plain": [
       "Text(value='123')"
      ]
     },
     "metadata": {},
     "output_type": "display_data"
    }
   ],
   "source": [
    "String.text()(\"123\")"
   ]
  },
  {
   "cell_type": "code",
   "execution_count": 13,
   "id": "2013df0f",
   "metadata": {},
   "outputs": [
    {
     "data": {
      "application/vnd.jupyter.widget-view+json": {
       "model_id": "3187fd5bd6a043488112c18af8f6e211",
       "version_major": 2,
       "version_minor": 0
      },
      "text/plain": [
       "Textarea(value='abc')"
      ]
     },
     "metadata": {},
     "output_type": "display_data"
    }
   ],
   "source": [
    "String.textarea()(\"abc\")"
   ]
  },
  {
   "cell_type": "code",
   "execution_count": null,
   "id": "5f1060bb",
   "metadata": {},
   "outputs": [],
   "source": []
  }
 ],
 "metadata": {
  "kernelspec": {
   "display_name": "Python 3",
   "language": "python",
   "name": "python3"
  },
  "language_info": {
   "codemirror_mode": {
    "name": "ipython",
    "version": 3
   },
   "file_extension": ".py",
   "mimetype": "text/x-python",
   "name": "python",
   "nbconvert_exporter": "python",
   "pygments_lexer": "ipython3",
   "version": "3.7.7"
  }
 },
 "nbformat": 4,
 "nbformat_minor": 5
}
