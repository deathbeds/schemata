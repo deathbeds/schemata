{
 "cells": [
  {
   "cell_type": "code",
   "execution_count": 1,
   "id": "c297df71",
   "metadata": {},
   "outputs": [],
   "source": [
    "from schemata import *"
   ]
  },
  {
   "cell_type": "code",
   "execution_count": 2,
   "id": "bd4dc5b4",
   "metadata": {},
   "outputs": [],
   "source": [
    "import schemata.compat.ipywidgets"
   ]
  },
  {
   "cell_type": "code",
   "execution_count": 3,
   "id": "baf1e2b3",
   "metadata": {},
   "outputs": [
    {
     "data": {
      "application/vnd.jupyter.widget-view+json": {
       "model_id": "44c7b673b4c74a22be523ac5970917fb",
       "version_major": 2,
       "version_minor": 0
      },
      "text/plain": [
       "Checkbox(value=True, description='true checkbox')"
      ]
     },
     "metadata": {},
     "output_type": "display_data"
    }
   ],
   "source": [
    "compat.ipywidgets.get_widget(true, description=\"true checkbox\")"
   ]
  },
  {
   "cell_type": "code",
   "execution_count": 4,
   "id": "51e3a09c",
   "metadata": {},
   "outputs": [
    {
     "data": {
      "application/vnd.jupyter.widget-view+json": {
       "model_id": "93bf21f7c91642c4929bd0405adbd92b",
       "version_major": 2,
       "version_minor": 0
      },
      "text/plain": [
       "Checkbox(value=False, description='false checkbox')"
      ]
     },
     "metadata": {},
     "output_type": "display_data"
    }
   ],
   "source": [
    "compat.ipywidgets.get_widget(false, description=\"false checkbox\")"
   ]
  },
  {
   "cell_type": "code",
   "execution_count": 5,
   "id": "adf2a65d",
   "metadata": {},
   "outputs": [],
   "source": [
    "NEG = Integer.slider().minimum(-10).maximum(1).description(\"my negative integer\")"
   ]
  },
  {
   "cell_type": "code",
   "execution_count": 6,
   "id": "7bd6fc86",
   "metadata": {},
   "outputs": [
    {
     "data": {
      "application/vnd.jupyter.widget-view+json": {
       "model_id": "b1e85224733844ae9d88cb13ab2c19f0",
       "version_major": 2,
       "version_minor": 0
      },
      "text/plain": [
       "IntSlider(value=-2, description='my negative integer', max=1, min=-10)"
      ]
     },
     "metadata": {},
     "output_type": "display_data"
    }
   ],
   "source": [
    "compat.ipywidgets.get_widget(NEG(-2))"
   ]
  },
  {
   "cell_type": "code",
   "execution_count": 7,
   "id": "c826c8cf",
   "metadata": {},
   "outputs": [],
   "source": [
    "WIDE = ui.Layout[dict(width=\"100%\")]"
   ]
  },
  {
   "cell_type": "code",
   "execution_count": 8,
   "id": "7941a4a7",
   "metadata": {},
   "outputs": [
    {
     "data": {
      "application/vnd.jupyter.widget-view+json": {
       "model_id": "33d91913747044329e28005b50535e23",
       "version_major": 2,
       "version_minor": 0
      },
      "text/plain": [
       "IntSlider(value=-2, description='my negative integer', layout=Layout(width='100%'), max=1, min=-10)"
      ]
     },
     "metadata": {},
     "output_type": "display_data"
    }
   ],
   "source": [
    "compat.ipywidgets.get_widget(NEG[WIDE](-2))"
   ]
  },
  {
   "cell_type": "code",
   "execution_count": 9,
   "id": "cd0ffa86",
   "metadata": {},
   "outputs": [],
   "source": [
    "NEGF = Float.cast().slider().minimum(-10).maximum(1).description(\"my negative integer\")"
   ]
  },
  {
   "cell_type": "code",
   "execution_count": 10,
   "id": "532d44fa",
   "metadata": {},
   "outputs": [
    {
     "data": {
      "application/vnd.jupyter.widget-view+json": {
       "model_id": "40529279467a486ebde282cd9bfc46f6",
       "version_major": 2,
       "version_minor": 0
      },
      "text/plain": [
       "FloatSlider(value=-2.0, description='my negative integer', max=1.0, min=-10.0)"
      ]
     },
     "metadata": {},
     "output_type": "display_data"
    }
   ],
   "source": [
    "compat.ipywidgets.get_widget(NEGF(-2))"
   ]
  },
  {
   "cell_type": "code",
   "execution_count": 11,
   "id": "748a2f0a",
   "metadata": {},
   "outputs": [
    {
     "data": {
      "application/vnd.jupyter.widget-view+json": {
       "model_id": "fb857be572ef4df0bb42146c8464d982",
       "version_major": 2,
       "version_minor": 0
      },
      "text/plain": [
       "FloatSlider(value=-2.0, description='my negative integer', layout=Layout(width='100%'), max=1.0, min=-10.0)"
      ]
     },
     "metadata": {},
     "output_type": "display_data"
    }
   ],
   "source": [
    "compat.ipywidgets.get_widget(NEGF[WIDE](-2))"
   ]
  },
  {
   "cell_type": "code",
   "execution_count": 12,
   "id": "39b8a2cf",
   "metadata": {},
   "outputs": [
    {
     "data": {
      "application/vnd.jupyter.widget-view+json": {
       "model_id": "194449d3ae974c1396ec73d98db9485c",
       "version_major": 2,
       "version_minor": 0
      },
      "text/plain": [
       "Text(value='123')"
      ]
     },
     "metadata": {},
     "output_type": "display_data"
    }
   ],
   "source": [
    "compat.ipywidgets.get_widget(String.text()(\"123\"))"
   ]
  },
  {
   "cell_type": "code",
   "execution_count": 13,
   "id": "5b726da5",
   "metadata": {},
   "outputs": [
    {
     "data": {
      "application/vnd.jupyter.widget-view+json": {
       "model_id": "61a19680c89e4753896cab555691504f",
       "version_major": 2,
       "version_minor": 0
      },
      "text/plain": [
       "Textarea(value='abc')"
      ]
     },
     "metadata": {},
     "output_type": "display_data"
    }
   ],
   "source": [
    "compat.ipywidgets.get_widget(String.textarea()(\"abc\"))"
   ]
  },
  {
   "cell_type": "code",
   "execution_count": null,
   "id": "09b6b7db",
   "metadata": {},
   "outputs": [],
   "source": []
  }
 ],
 "metadata": {
  "kernelspec": {
   "display_name": "Python 3",
   "language": "python",
   "name": "python3"
  },
  "language_info": {
   "codemirror_mode": {
    "name": "ipython",
    "version": 3
   },
   "file_extension": ".py",
   "mimetype": "text/x-python",
   "name": "python",
   "nbconvert_exporter": "python",
   "pygments_lexer": "ipython3",
   "version": "3.7.7"
  }
 },
 "nbformat": 4,
 "nbformat_minor": 5
}
