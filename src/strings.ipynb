{
 "cells": [
  {
   "cell_type": "markdown",
   "id": "7e003e7e",
   "metadata": {},
   "source": [
    "# the `String` types\n",
    "\n",
    "`jsonschema` provides the default `String` along with other `String.Format` types."
   ]
  },
  {
   "cell_type": "code",
   "execution_count": 1,
   "id": "f07ecf8a",
   "metadata": {},
   "outputs": [],
   "source": [
    "    from schemata import *"
   ]
  },
  {
   "cell_type": "code",
   "execution_count": 2,
   "id": "6f4d65f5",
   "metadata": {},
   "outputs": [],
   "source": [
    "    assert String() == \"\" == str()"
   ]
  },
  {
   "cell_type": "markdown",
   "id": "327e12b4",
   "metadata": {},
   "source": [
    "## constraining `String` types"
   ]
  },
  {
   "cell_type": "code",
   "execution_count": 3,
   "id": "6e026e3c",
   "metadata": {},
   "outputs": [],
   "source": [
    "    String.Pattern, String.MaxLength, String.MinLength, formats.Format;"
   ]
  },
  {
   "cell_type": "markdown",
   "id": "42bd6a84",
   "metadata": {},
   "source": [
    "### defining `String` patterns"
   ]
  },
  {
   "cell_type": "code",
   "execution_count": 4,
   "id": "db2c3f05",
   "metadata": {},
   "outputs": [],
   "source": [
    "    assert String[\"^[a-z]\"] == String.pattern(\"^[a-z]\")\n",
    "    assert String[\"^[a-z]\"](\"abc\") == \"abc\"\n",
    "    exceptions.raises(String[\"^[a-z]\"], \"123\")"
   ]
  },
  {
   "cell_type": "markdown",
   "id": "ced1df35",
   "metadata": {},
   "source": [
    "### defining the length of a `String`"
   ]
  },
  {
   "cell_type": "code",
   "execution_count": 5,
   "id": "a1325bd2",
   "metadata": {},
   "outputs": [],
   "source": [
    "    constrained_length = String.MinLength[3] + String.MaxLength[10]"
   ]
  },
  {
   "cell_type": "code",
   "execution_count": 6,
   "id": "e63a62a1",
   "metadata": {},
   "outputs": [
    {
     "data": {
      "text/plain": [
       "{'type': 'string', 'pattern': '^a', 'minLength': 3, 'maxLength': 10}"
      ]
     },
     "execution_count": 6,
     "metadata": {},
     "output_type": "execute_result"
    }
   ],
   "source": [
    "    (String[\"^a\"][constrained_length]).schema()"
   ]
  },
  {
   "cell_type": "markdown",
   "id": "8ba27205",
   "metadata": {},
   "source": [
    "## `String.Format`s"
   ]
  },
  {
   "cell_type": "markdown",
   "id": "5a8e1a47",
   "metadata": {},
   "source": [
    "## `DateTime, Date and Time`"
   ]
  },
  {
   "cell_type": "code",
   "execution_count": 36,
   "id": "953e8029",
   "metadata": {},
   "outputs": [],
   "source": [
    "    exceptions.assertIsInstance(strings.DateTime(), str)\n",
    "    exceptions.assertIsInstance(strings.Date(), str)\n",
    "    exceptions.assertIsInstance(strings.Time(), str)\n",
    "    assert strings.DateTime()\n",
    "    assert strings.Time()\n",
    "    assert strings.Date()"
   ]
  },
  {
   "cell_type": "markdown",
   "id": "61550724",
   "metadata": {},
   "source": [
    "there a single datetime flavored type while the prior ones are strings"
   ]
  },
  {
   "cell_type": "code",
   "execution_count": 8,
   "id": "fde0b4a4",
   "metadata": {},
   "outputs": [],
   "source": [
    "    exceptions.assertIsInstance(DateTime(), __import__(\"datetime\").datetime)"
   ]
  },
  {
   "cell_type": "markdown",
   "id": "fc6b6f6c",
   "metadata": {},
   "source": [
    "### `Uri and UriTemplate`s"
   ]
  },
  {
   "cell_type": "code",
   "execution_count": 9,
   "id": "bfa1f8f1",
   "metadata": {},
   "outputs": [],
   "source": [
    "    Uri, UriTemplate, Email, JsonPointer, Uuid;"
   ]
  },
  {
   "cell_type": "code",
   "execution_count": 10,
   "id": "724ae1b7",
   "metadata": {},
   "outputs": [],
   "source": [
    "    url = Uri(\"https://api.github.com\")"
   ]
  },
  {
   "cell_type": "code",
   "execution_count": 11,
   "id": "ad6792c2",
   "metadata": {},
   "outputs": [
    {
     "data": {
      "text/plain": [
       "'https://api.github.com/users{/user}/gists{?page,time}'"
      ]
     },
     "execution_count": 11,
     "metadata": {},
     "output_type": "execute_result"
    }
   ],
   "source": [
    "    template = UriTemplate(url + \"/users{/user}/gists{?page,time}\"); template"
   ]
  },
  {
   "cell_type": "markdown",
   "id": "e816ecfd",
   "metadata": {},
   "source": [
    "### `Email`"
   ]
  },
  {
   "cell_type": "code",
   "execution_count": 12,
   "id": "243828f5",
   "metadata": {},
   "outputs": [],
   "source": [
    "    Email(\"tony@email.com\")\n",
    "    exceptions.raises(Email, \"\")"
   ]
  },
  {
   "cell_type": "markdown",
   "id": "e2d6515a",
   "metadata": {},
   "source": [
    "### `Uuid` universally unique identifiers"
   ]
  },
  {
   "cell_type": "code",
   "execution_count": 13,
   "id": "3c135ab7",
   "metadata": {},
   "outputs": [],
   "source": [
    "    assert Uuid() == '00000000-0000-0000-0000-000000000000'"
   ]
  },
  {
   "cell_type": "code",
   "execution_count": 14,
   "id": "364c0fdd",
   "metadata": {},
   "outputs": [],
   "source": [
    "    assert Uuid[1](), Uuid[4]()\n",
    "    exceptions.raises(Uuid, \"what\")"
   ]
  },
  {
   "cell_type": "markdown",
   "id": "ba44e464",
   "metadata": {},
   "source": [
    "### `JsonPointer`"
   ]
  },
  {
   "cell_type": "code",
   "execution_count": 15,
   "id": "e4a00e86",
   "metadata": {},
   "outputs": [],
   "source": [
    "    JsonPointer(\"/a/b\") == \"/a/b\"\n",
    "    assert (JsonPointer(\"/a/b\") / \"c\") == \"/a/b/c\"\n",
    "    assert JsonPointer(\"/foo/bar\").resolve(dict(foo=dict(bar=\"baz\"))) == \"baz\""
   ]
  },
  {
   "cell_type": "code",
   "execution_count": 16,
   "id": "13737e3e",
   "metadata": {},
   "outputs": [],
   "source": [
    "    import jsonpointer"
   ]
  },
  {
   "cell_type": "code",
   "execution_count": 17,
   "id": "44d48a13",
   "metadata": {},
   "outputs": [],
   "source": [
    "    exceptions.raises(JsonPointer, \"a\")"
   ]
  },
  {
   "cell_type": "markdown",
   "id": "53fddc6e",
   "metadata": {},
   "source": [
    "## string templates\n",
    "\n",
    "`schemata` defines template types than can be used to enforce the form of a string."
   ]
  },
  {
   "cell_type": "code",
   "execution_count": 18,
   "id": "a0a29b25",
   "metadata": {},
   "outputs": [],
   "source": [
    "    F, Jinja;"
   ]
  },
  {
   "cell_type": "markdown",
   "id": "3c0c49ad",
   "metadata": {},
   "source": [
    "### `F`-string templates"
   ]
  },
  {
   "cell_type": "code",
   "execution_count": 19,
   "id": "0c3da90c",
   "metadata": {},
   "outputs": [
    {
     "data": {
      "text/plain": [
       "\"Hello y'all, you the greatest\""
      ]
     },
     "execution_count": 19,
     "metadata": {},
     "output_type": "execute_result"
    }
   ],
   "source": [
    "    F[\"Hello {0}, you the {1}\"](\"y'all\", \"greatest\")"
   ]
  },
  {
   "cell_type": "markdown",
   "id": "db1119c5",
   "metadata": {},
   "source": [
    "### `Jinja` templates"
   ]
  },
  {
   "cell_type": "code",
   "execution_count": 20,
   "id": "58a2615c",
   "metadata": {},
   "outputs": [
    {
     "data": {
      "text/plain": [
       "\"Hello folks, you're the sweetest\""
      ]
     },
     "execution_count": 20,
     "metadata": {},
     "output_type": "execute_result"
    }
   ],
   "source": [
    "    Jinja[\"Hello {{name}}, you're the {{description}}\"](name=\"folks\", description=\"sweetest\")"
   ]
  },
  {
   "cell_type": "markdown",
   "id": "96de1101",
   "metadata": {},
   "source": [
    "## `String` `mediatypes`\n",
    "\n",
    "adding `mediatypes` to `String` objects may effect the display of the objects in your notebooks. it also brings loads and dumps methods"
   ]
  },
  {
   "cell_type": "markdown",
   "id": "cd76202a",
   "metadata": {},
   "source": [
    "### `mediatypes.Markdown`"
   ]
  },
  {
   "cell_type": "code",
   "execution_count": 21,
   "id": "d4bbe748",
   "metadata": {},
   "outputs": [
    {
     "data": {
      "text/markdown": [
       "* I'm a markdown list"
      ],
      "text/plain": [
       "\"* I'm a markdown list\""
      ]
     },
     "execution_count": 21,
     "metadata": {},
     "output_type": "execute_result"
    }
   ],
   "source": [
    "    String.add(mediatypes.Markdown)(\"* I'm a markdown list\")"
   ]
  },
  {
   "cell_type": "code",
   "execution_count": 22,
   "id": "c9ee00e0",
   "metadata": {},
   "outputs": [
    {
     "data": {
      "text/markdown": [
       "* hi\n",
       "* bye"
      ],
      "text/plain": [
       "'* hi\\n* bye'"
      ]
     },
     "execution_count": 22,
     "metadata": {},
     "output_type": "execute_result"
    }
   ],
   "source": [
    "    F[\"* {}\\n* {}\"].add(mediatypes.Markdown)(\"hi\", \"bye\")"
   ]
  },
  {
   "cell_type": "markdown",
   "id": "4a486c37",
   "metadata": {},
   "source": [
    "### `mediatypes.Html`"
   ]
  },
  {
   "cell_type": "code",
   "execution_count": 23,
   "id": "527f214e",
   "metadata": {},
   "outputs": [
    {
     "data": {
      "text/html": [
       "<span>a span</span>"
      ],
      "text/plain": [
       "'<span>a span</span>'"
      ]
     },
     "execution_count": 23,
     "metadata": {},
     "output_type": "execute_result"
    }
   ],
   "source": [
    "    F[\"<span>{}</span>\"].add(mediatypes.Html)(\"a span\")"
   ]
  },
  {
   "cell_type": "markdown",
   "id": "c4850e9f",
   "metadata": {},
   "source": [
    "### `mediatypes.Toml`"
   ]
  },
  {
   "cell_type": "code",
   "execution_count": 24,
   "id": "aa6ee627",
   "metadata": {},
   "outputs": [
    {
     "data": {
      "text/plain": [
       "{'a': 1}"
      ]
     },
     "execution_count": 24,
     "metadata": {},
     "output_type": "execute_result"
    }
   ],
   "source": [
    "    String.add(mediatypes.Toml)(\"a= 1\").loads()"
   ]
  },
  {
   "cell_type": "markdown",
   "id": "01cc142b",
   "metadata": {},
   "source": [
    "### `mediatypes.Yaml`"
   ]
  },
  {
   "cell_type": "code",
   "execution_count": 25,
   "id": "e6f2d546",
   "metadata": {},
   "outputs": [
    {
     "data": {
      "text/plain": [
       "{'a': 1}"
      ]
     },
     "execution_count": 25,
     "metadata": {},
     "output_type": "execute_result"
    }
   ],
   "source": [
    "    String.add(mediatypes.Yaml)(\"a: 1\").loads()"
   ]
  }
 ],
 "metadata": {
  "kernelspec": {
   "display_name": "Python 3",
   "language": "python",
   "name": "python3"
  },
  "language_info": {
   "codemirror_mode": {
    "name": "ipython",
    "version": 3
   },
   "file_extension": ".py",
   "mimetype": "text/x-python",
   "name": "python",
   "nbconvert_exporter": "python",
   "pygments_lexer": "ipython3",
   "version": "3.7.7"
  }
 },
 "nbformat": 4,
 "nbformat_minor": 5
}
