{
 "cells": [
  {
   "cell_type": "markdown",
   "id": "8e25e176",
   "metadata": {},
   "source": [
    "# the `String` types\n",
    "\n",
    "`jsonschema` provides the default `String` along with other `String.Format` types."
   ]
  },
  {
   "cell_type": "code",
   "execution_count": 1,
   "id": "72c66c18",
   "metadata": {},
   "outputs": [],
   "source": [
    "    from schemata import *"
   ]
  },
  {
   "cell_type": "code",
   "execution_count": null,
   "id": "03815b06",
   "metadata": {},
   "outputs": [],
   "source": [
    "    assert String() == \"\" == str()"
   ]
  },
  {
   "cell_type": "markdown",
   "id": "5e2c3f5e",
   "metadata": {},
   "source": [
    "## constraining `String` types"
   ]
  },
  {
   "cell_type": "code",
   "execution_count": 3,
   "id": "78276798",
   "metadata": {},
   "outputs": [],
   "source": [
    "    String.Pattern, String.MaxLength, String.MinLength, formats.Format;"
   ]
  },
  {
   "cell_type": "markdown",
   "id": "2f0f5c68",
   "metadata": {},
   "source": [
    "### defining `String` patterns"
   ]
  },
  {
   "cell_type": "code",
   "execution_count": 4,
   "id": "2c72c312",
   "metadata": {},
   "outputs": [],
   "source": [
    "    assert String[\"^[a-z]\"] == String.pattern(\"^[a-z]\")"
   ]
  },
  {
   "cell_type": "markdown",
   "id": "18c85479",
   "metadata": {},
   "source": [
    "### defining the length of a `String`"
   ]
  },
  {
   "cell_type": "code",
   "execution_count": 5,
   "id": "77f627e3",
   "metadata": {},
   "outputs": [],
   "source": [
    "    constrained_length = String.minLength(3).maxLength(10)"
   ]
  },
  {
   "cell_type": "code",
   "execution_count": 6,
   "id": "abbdc415",
   "metadata": {},
   "outputs": [],
   "source": [
    "    assert String[3:10] == constrained_length"
   ]
  },
  {
   "cell_type": "code",
   "execution_count": 7,
   "id": "75b2e5ca",
   "metadata": {},
   "outputs": [],
   "source": [
    "    assert String[\"^a\"].add(constrained_length) == String[3:10:\"^a\"]"
   ]
  },
  {
   "cell_type": "markdown",
   "id": "f18df10c",
   "metadata": {},
   "source": [
    "## `String.Format`s"
   ]
  },
  {
   "cell_type": "markdown",
   "id": "0160b891",
   "metadata": {},
   "source": [
    "## `DateTime, Date and Time`"
   ]
  },
  {
   "cell_type": "code",
   "execution_count": 8,
   "id": "8477add3",
   "metadata": {},
   "outputs": [],
   "source": [
    "    exceptions.assertIsInstance(strings.DateTime(), str)\n",
    "    exceptions.assertIsInstance(strings.Date(), str)\n",
    "    exceptions.assertIsInstance(strings.Time(), str)"
   ]
  },
  {
   "cell_type": "markdown",
   "id": "fe576796",
   "metadata": {},
   "source": [
    "there a single datetime flavored type while the prior ones are strings"
   ]
  },
  {
   "cell_type": "code",
   "execution_count": 9,
   "id": "95158152",
   "metadata": {},
   "outputs": [],
   "source": [
    "    exceptions.assertIsInstance(DateTime(), __import__(\"datetime\").datetime)"
   ]
  },
  {
   "cell_type": "markdown",
   "id": "3a031e34",
   "metadata": {},
   "source": [
    "### `Uri and UriTemplate`s"
   ]
  },
  {
   "cell_type": "code",
   "execution_count": 10,
   "id": "49609f29",
   "metadata": {},
   "outputs": [],
   "source": [
    "    Uri, UriTemplate, Email, JsonPointer, Uuid;"
   ]
  },
  {
   "cell_type": "code",
   "execution_count": 11,
   "id": "f0a07353",
   "metadata": {},
   "outputs": [],
   "source": [
    "    url = Uri(\"https://api.github.com\")"
   ]
  },
  {
   "cell_type": "code",
   "execution_count": 12,
   "id": "5ae81d93",
   "metadata": {},
   "outputs": [
    {
     "data": {
      "text/plain": [
       "'https://api.github.com/users{/user}/gists{?page,time}'"
      ]
     },
     "execution_count": 12,
     "metadata": {},
     "output_type": "execute_result"
    }
   ],
   "source": [
    "    template = UriTemplate(url + \"/users{/user}/gists{?page,time}\"); template"
   ]
  },
  {
   "cell_type": "code",
   "execution_count": 13,
   "id": "258f734a",
   "metadata": {},
   "outputs": [
    {
     "data": {
      "text/plain": [
       "'https://api.github.com/users/mona/gists?page=1'"
      ]
     },
     "execution_count": 13,
     "metadata": {},
     "output_type": "execute_result"
    }
   ],
   "source": [
    "    template.render(user=\"mona\", page=\"1\")"
   ]
  },
  {
   "cell_type": "code",
   "execution_count": 14,
   "id": "e240facf",
   "metadata": {},
   "outputs": [
    {
     "data": {
      "text/plain": [
       "'https://api.github.com/users/tonyfast/gists?page=1'"
      ]
     },
     "execution_count": 14,
     "metadata": {},
     "output_type": "execute_result"
    }
   ],
   "source": [
    "    Uri.cache()[template](\"tonyfast\", 1)"
   ]
  },
  {
   "cell_type": "code",
   "execution_count": 15,
   "id": "a5289f52",
   "metadata": {},
   "outputs": [
    {
     "data": {
      "text/plain": [
       "'https://api.github.com/users/tonyfast/gists'"
      ]
     },
     "execution_count": 15,
     "metadata": {},
     "output_type": "execute_result"
    }
   ],
   "source": [
    "    Uri[template](\"tonyfast\")"
   ]
  },
  {
   "cell_type": "markdown",
   "id": "f2149486",
   "metadata": {},
   "source": [
    "### `Email`"
   ]
  },
  {
   "cell_type": "code",
   "execution_count": 16,
   "id": "57b897bb",
   "metadata": {},
   "outputs": [],
   "source": [
    "    Email(\"tony@email.com\")\n",
    "    exceptions.raises(Email, \"\")"
   ]
  },
  {
   "cell_type": "markdown",
   "id": "d3371fc7",
   "metadata": {},
   "source": [
    "### `Uuid` universally unique identifiers"
   ]
  },
  {
   "cell_type": "code",
   "execution_count": 17,
   "id": "6abf2eb5",
   "metadata": {},
   "outputs": [],
   "source": [
    "    assert Uuid() == '00000000-0000-0000-0000-000000000000'"
   ]
  },
  {
   "cell_type": "code",
   "execution_count": 18,
   "id": "0da24bcd",
   "metadata": {},
   "outputs": [],
   "source": [
    "    assert Uuid[1](), Uuid[4]()\n",
    "    exceptions.raises(Uuid, \"what\")"
   ]
  },
  {
   "cell_type": "markdown",
   "id": "707ebefd",
   "metadata": {},
   "source": [
    "### `JsonPointer`"
   ]
  },
  {
   "cell_type": "code",
   "execution_count": 19,
   "id": "d0ad516b",
   "metadata": {},
   "outputs": [],
   "source": [
    "    JsonPointer(\"/a/b\") == \"/a/b\"\n",
    "    assert (JsonPointer(\"/a/b\") / \"c\") == \"/a/b/c\"\n",
    "    assert JsonPointer(\"/foo/bar\").resolve(dict(foo=dict(bar=\"baz\"))) == \"baz\""
   ]
  },
  {
   "cell_type": "markdown",
   "id": "6606d71f",
   "metadata": {},
   "source": [
    "## string templates\n",
    "\n",
    "`schemata` defines template types than can be used to enforce the form of a string."
   ]
  },
  {
   "cell_type": "code",
   "execution_count": 20,
   "id": "dfeeae6c",
   "metadata": {},
   "outputs": [],
   "source": [
    "    F, Jinja;"
   ]
  },
  {
   "cell_type": "markdown",
   "id": "ff7a5949",
   "metadata": {},
   "source": [
    "### `F`-string templates"
   ]
  },
  {
   "cell_type": "code",
   "execution_count": 21,
   "id": "a38ce214",
   "metadata": {},
   "outputs": [
    {
     "data": {
      "text/plain": [
       "\"Hello y'all, you the greatest\""
      ]
     },
     "execution_count": 21,
     "metadata": {},
     "output_type": "execute_result"
    }
   ],
   "source": [
    "    F[\"Hello {0}, you the {1}\"](\"y'all\", \"greatest\")"
   ]
  },
  {
   "cell_type": "markdown",
   "id": "7e7afc5e",
   "metadata": {},
   "source": [
    "### `Jinja` templates"
   ]
  },
  {
   "cell_type": "code",
   "execution_count": 22,
   "id": "334d8a87",
   "metadata": {},
   "outputs": [
    {
     "data": {
      "text/plain": [
       "\"Hello folks, you're the sweetest\""
      ]
     },
     "execution_count": 22,
     "metadata": {},
     "output_type": "execute_result"
    }
   ],
   "source": [
    "    Jinja[\"Hello {{name}}, you're the {{description}}\"](name=\"folks\", description=\"sweetest\")"
   ]
  },
  {
   "cell_type": "markdown",
   "id": "1523c488",
   "metadata": {},
   "source": [
    "## `String` `mediatypes`\n",
    "\n",
    "adding `mediatypes` to `String` objects may effect the display of the objects in your notebooks. it also brings loads and dumps methods"
   ]
  },
  {
   "cell_type": "markdown",
   "id": "01c9c11c",
   "metadata": {},
   "source": [
    "### `mediatypes.Markdown`"
   ]
  },
  {
   "cell_type": "code",
   "execution_count": 23,
   "id": "b4fb158b",
   "metadata": {},
   "outputs": [
    {
     "data": {
      "text/markdown": [
       "* I'm a markdown list"
      ],
      "text/plain": [
       "\"* I'm a markdown list\""
      ]
     },
     "execution_count": 23,
     "metadata": {},
     "output_type": "execute_result"
    }
   ],
   "source": [
    "    String.add(mediatypes.Markdown)(\"* I'm a markdown list\")"
   ]
  },
  {
   "cell_type": "code",
   "execution_count": 24,
   "id": "98339da4",
   "metadata": {},
   "outputs": [
    {
     "data": {
      "text/markdown": [
       "* hi\n",
       "* bye"
      ],
      "text/plain": [
       "'* hi\\n* bye'"
      ]
     },
     "execution_count": 24,
     "metadata": {},
     "output_type": "execute_result"
    }
   ],
   "source": [
    "    F[\"* {}\\n* {}\"].add(mediatypes.Markdown)(\"hi\", \"bye\")"
   ]
  },
  {
   "cell_type": "markdown",
   "id": "e614eeb8",
   "metadata": {},
   "source": [
    "### `mediatypes.Html`"
   ]
  },
  {
   "cell_type": "code",
   "execution_count": 25,
   "id": "5407cb08",
   "metadata": {},
   "outputs": [
    {
     "data": {
      "text/html": [
       "<span>a span</span>"
      ],
      "text/plain": [
       "'<span>a span</span>'"
      ]
     },
     "execution_count": 25,
     "metadata": {},
     "output_type": "execute_result"
    }
   ],
   "source": [
    "    F[\"<span>{}</span>\"].add(mediatypes.Html)(\"a span\")"
   ]
  },
  {
   "cell_type": "markdown",
   "id": "391edd83",
   "metadata": {},
   "source": [
    "### `mediatypes.Toml`"
   ]
  },
  {
   "cell_type": "code",
   "execution_count": 26,
   "id": "bca45ed6",
   "metadata": {},
   "outputs": [
    {
     "data": {
      "text/plain": [
       "{'a': 1}"
      ]
     },
     "execution_count": 26,
     "metadata": {},
     "output_type": "execute_result"
    }
   ],
   "source": [
    "    String.add(mediatypes.Toml)(\"a= 1\").loads()"
   ]
  },
  {
   "cell_type": "markdown",
   "id": "95ae87bc",
   "metadata": {},
   "source": [
    "### `mediatypes.Yaml`"
   ]
  },
  {
   "cell_type": "code",
   "execution_count": 27,
   "id": "03caca27",
   "metadata": {},
   "outputs": [
    {
     "data": {
      "text/plain": [
       "{'a': 1}"
      ]
     },
     "execution_count": 27,
     "metadata": {},
     "output_type": "execute_result"
    }
   ],
   "source": [
    "    String.add(mediatypes.Yaml)(\"a: 1\").loads()"
   ]
  }
 ],
 "metadata": {
  "kernelspec": {
   "display_name": "Python 3",
   "language": "python",
   "name": "python3"
  },
  "language_info": {
   "codemirror_mode": {
    "name": "ipython",
    "version": 3
   },
   "file_extension": ".py",
   "mimetype": "text/x-python",
   "name": "python",
   "nbconvert_exporter": "python",
   "pygments_lexer": "ipython3",
   "version": "3.7.7"
  }
 },
 "nbformat": 4,
 "nbformat_minor": 5
}
