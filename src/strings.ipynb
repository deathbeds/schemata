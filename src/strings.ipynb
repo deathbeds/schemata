{
 "cells": [
  {
   "cell_type": "markdown",
   "id": "cf321c5c",
   "metadata": {},
   "source": [
    "# the `String` types\n",
    "\n",
    "`jsonschema` provides the default `String` along with other `String.Format` types."
   ]
  },
  {
   "cell_type": "code",
   "execution_count": 1,
   "id": "38686e31",
   "metadata": {},
   "outputs": [],
   "source": [
    "    from schemata import *"
   ]
  },
  {
   "cell_type": "code",
   "execution_count": 2,
   "id": "f66a4ca4",
   "metadata": {},
   "outputs": [],
   "source": [
    "    assert String() == \"\" == str()"
   ]
  },
  {
   "cell_type": "markdown",
   "id": "c418dce2",
   "metadata": {},
   "source": [
    "## constraining `String` types"
   ]
  },
  {
   "cell_type": "code",
   "execution_count": 3,
   "id": "51fbfa62",
   "metadata": {},
   "outputs": [],
   "source": [
    "    String.Pattern, String.MaxLength, String.MinLength, formats.Format;"
   ]
  },
  {
   "cell_type": "markdown",
   "id": "09d5677a",
   "metadata": {},
   "source": [
    "### defining `String` patterns"
   ]
  },
  {
   "cell_type": "code",
   "execution_count": 4,
   "id": "1b3e96d6",
   "metadata": {},
   "outputs": [],
   "source": [
    "    assert String[\"^[a-z]\"] == String.pattern(\"^[a-z]\")"
   ]
  },
  {
   "cell_type": "markdown",
   "id": "b6c94cbd",
   "metadata": {},
   "source": [
    "### defining the length of a `String`"
   ]
  },
  {
   "cell_type": "code",
   "execution_count": 5,
   "id": "d07cc227",
   "metadata": {},
   "outputs": [],
   "source": [
    "    constrained_length = String.minLength(3).maxLength(10)"
   ]
  },
  {
   "cell_type": "code",
   "execution_count": 6,
   "id": "e6fdbe79",
   "metadata": {},
   "outputs": [],
   "source": [
    "    assert String[3:10] == constrained_length"
   ]
  },
  {
   "cell_type": "code",
   "execution_count": 7,
   "id": "f5457148",
   "metadata": {},
   "outputs": [],
   "source": [
    "    assert String[\"^a\"].add(constrained_length) == String[3:10:\"^a\"]"
   ]
  },
  {
   "cell_type": "markdown",
   "id": "582d4387",
   "metadata": {},
   "source": [
    "## `String.Format`s"
   ]
  },
  {
   "cell_type": "markdown",
   "id": "c80bcf6d",
   "metadata": {},
   "source": [
    "## `DateTime, Date and Time`"
   ]
  },
  {
   "cell_type": "code",
   "execution_count": 8,
   "id": "6c98d41a",
   "metadata": {},
   "outputs": [],
   "source": [
    "    exceptions.assertIsInstance(strings.DateTime(), str)\n",
    "    exceptions.assertIsInstance(strings.Date(), str)\n",
    "    exceptions.assertIsInstance(strings.Time(), str)"
   ]
  },
  {
   "cell_type": "markdown",
   "id": "a37e7b54",
   "metadata": {},
   "source": [
    "there a single datetime flavored type while the prior ones are strings"
   ]
  },
  {
   "cell_type": "code",
   "execution_count": 9,
   "id": "4c76c2f1",
   "metadata": {},
   "outputs": [],
   "source": [
    "    exceptions.assertIsInstance(DateTime(), __import__(\"datetime\").datetime)"
   ]
  },
  {
   "cell_type": "markdown",
   "id": "f488b59f",
   "metadata": {},
   "source": [
    "### `Uri and UriTemplate`s"
   ]
  },
  {
   "cell_type": "code",
   "execution_count": 10,
   "id": "92a29e79",
   "metadata": {},
   "outputs": [],
   "source": [
    "    Uri, UriTemplate, Email, JsonPointer, Uuid;"
   ]
  },
  {
   "cell_type": "code",
   "execution_count": 11,
   "id": "849a49af",
   "metadata": {},
   "outputs": [],
   "source": [
    "    url = Uri(\"https://api.github.com\")"
   ]
  },
  {
   "cell_type": "code",
   "execution_count": 12,
   "id": "20a07e9e",
   "metadata": {},
   "outputs": [
    {
     "data": {
      "text/plain": [
       "'https://api.github.com/users{/user}/gists{?page,time}'"
      ]
     },
     "execution_count": 12,
     "metadata": {},
     "output_type": "execute_result"
    }
   ],
   "source": [
    "    template = UriTemplate(url + \"/users{/user}/gists{?page,time}\"); template"
   ]
  },
  {
   "cell_type": "code",
   "execution_count": 13,
   "id": "5c3ab86c",
   "metadata": {},
   "outputs": [
    {
     "data": {
      "text/plain": [
       "'https://api.github.com/users/mona/gists?page=1'"
      ]
     },
     "execution_count": 13,
     "metadata": {},
     "output_type": "execute_result"
    }
   ],
   "source": [
    "    template.render(user=\"mona\", page=\"1\")"
   ]
  },
  {
   "cell_type": "code",
   "execution_count": 14,
   "id": "726051f1",
   "metadata": {},
   "outputs": [
    {
     "data": {
      "text/plain": [
       "'https://api.github.com/users/tonyfast/gists?page=1'"
      ]
     },
     "execution_count": 14,
     "metadata": {},
     "output_type": "execute_result"
    }
   ],
   "source": [
    "    Uri.cache()[template](\"tonyfast\", 1)"
   ]
  },
  {
   "cell_type": "code",
   "execution_count": 15,
   "id": "0e9812d6",
   "metadata": {},
   "outputs": [
    {
     "data": {
      "text/plain": [
       "'https://api.github.com/users/tonyfast/gists'"
      ]
     },
     "execution_count": 15,
     "metadata": {},
     "output_type": "execute_result"
    }
   ],
   "source": [
    "    Uri[template](\"tonyfast\")"
   ]
  },
  {
   "cell_type": "markdown",
   "id": "66be2a5c",
   "metadata": {},
   "source": [
    "### `Email`"
   ]
  },
  {
   "cell_type": "code",
   "execution_count": 16,
   "id": "6d775b38",
   "metadata": {},
   "outputs": [],
   "source": [
    "    Email(\"tony@email.com\")\n",
    "    exceptions.raises(Email, \"\")"
   ]
  },
  {
   "cell_type": "markdown",
   "id": "77d18b3d",
   "metadata": {},
   "source": [
    "### `Uuid` universally unique identifiers"
   ]
  },
  {
   "cell_type": "code",
   "execution_count": 17,
   "id": "acda0e94",
   "metadata": {},
   "outputs": [],
   "source": [
    "    assert Uuid() == '00000000-0000-0000-0000-000000000000'"
   ]
  },
  {
   "cell_type": "code",
   "execution_count": 18,
   "id": "fd9eef0e",
   "metadata": {},
   "outputs": [],
   "source": [
    "    assert Uuid[1](), Uuid[4]()\n",
    "    exceptions.raises(Uuid, \"what\")"
   ]
  },
  {
   "cell_type": "markdown",
   "id": "d939dbfb",
   "metadata": {},
   "source": [
    "### `JsonPointer`"
   ]
  },
  {
   "cell_type": "code",
   "execution_count": 19,
   "id": "7cf972e4",
   "metadata": {},
   "outputs": [],
   "source": [
    "    JsonPointer(\"/a/b\") == \"/a/b\"\n",
    "    assert (JsonPointer(\"/a/b\") / \"c\") == \"/a/b/c\"\n",
    "    assert JsonPointer(\"/foo/bar\").resolve(dict(foo=dict(bar=\"baz\"))) == \"baz\""
   ]
  },
  {
   "cell_type": "markdown",
   "id": "b072ddeb",
   "metadata": {},
   "source": [
    "## string templates\n",
    "\n",
    "`schemata` defines template types than can be used to enforce the form of a string."
   ]
  },
  {
   "cell_type": "code",
   "execution_count": 20,
   "id": "e1204225",
   "metadata": {},
   "outputs": [],
   "source": [
    "    F, Jinja;"
   ]
  },
  {
   "cell_type": "markdown",
   "id": "a8d95e8c",
   "metadata": {},
   "source": [
    "### `F`-string templates"
   ]
  },
  {
   "cell_type": "code",
   "execution_count": 21,
   "id": "56089f16",
   "metadata": {},
   "outputs": [
    {
     "data": {
      "text/plain": [
       "\"Hello y'all, you the greatest\""
      ]
     },
     "execution_count": 21,
     "metadata": {},
     "output_type": "execute_result"
    }
   ],
   "source": [
    "    F[\"Hello {0}, you the {1}\"](\"y'all\", \"greatest\")"
   ]
  },
  {
   "cell_type": "markdown",
   "id": "914f3007",
   "metadata": {},
   "source": [
    "### `Jinja` templates"
   ]
  },
  {
   "cell_type": "code",
   "execution_count": 22,
   "id": "65d65794",
   "metadata": {},
   "outputs": [
    {
     "data": {
      "text/plain": [
       "\"Hello folks, you're the sweetest\""
      ]
     },
     "execution_count": 22,
     "metadata": {},
     "output_type": "execute_result"
    }
   ],
   "source": [
    "    Jinja[\"Hello {{name}}, you're the {{description}}\"](name=\"folks\", description=\"sweetest\")"
   ]
  },
  {
   "cell_type": "markdown",
   "id": "859acaff",
   "metadata": {},
   "source": [
    "## `String` `mediatypes`\n",
    "\n",
    "adding `mediatypes` to `String` objects may effect the display of the objects in your notebooks. it also brings loads and dumps methods"
   ]
  },
  {
   "cell_type": "markdown",
   "id": "06715d76",
   "metadata": {},
   "source": [
    "### `mediatypes.Markdown`"
   ]
  },
  {
   "cell_type": "code",
   "execution_count": 23,
   "id": "3d17bf7c",
   "metadata": {},
   "outputs": [
    {
     "data": {
      "text/markdown": [
       "* I'm a markdown list"
      ],
      "text/plain": [
       "\"* I'm a markdown list\""
      ]
     },
     "execution_count": 23,
     "metadata": {},
     "output_type": "execute_result"
    }
   ],
   "source": [
    "    String.add(mediatypes.Markdown)(\"* I'm a markdown list\")"
   ]
  },
  {
   "cell_type": "code",
   "execution_count": 24,
   "id": "e0ff1587",
   "metadata": {},
   "outputs": [
    {
     "data": {
      "text/markdown": [
       "* hi\n",
       "* bye"
      ],
      "text/plain": [
       "'* hi\\n* bye'"
      ]
     },
     "execution_count": 24,
     "metadata": {},
     "output_type": "execute_result"
    }
   ],
   "source": [
    "    F[\"* {}\\n* {}\"].add(mediatypes.Markdown)(\"hi\", \"bye\")"
   ]
  },
  {
   "cell_type": "markdown",
   "id": "33e91664",
   "metadata": {},
   "source": [
    "### `mediatypes.Html`"
   ]
  },
  {
   "cell_type": "code",
   "execution_count": 25,
   "id": "5d9c91b5",
   "metadata": {},
   "outputs": [
    {
     "data": {
      "text/html": [
       "<span>a span</span>"
      ],
      "text/plain": [
       "'<span>a span</span>'"
      ]
     },
     "execution_count": 25,
     "metadata": {},
     "output_type": "execute_result"
    }
   ],
   "source": [
    "    F[\"<span>{}</span>\"].add(mediatypes.Html)(\"a span\")"
   ]
  },
  {
   "cell_type": "markdown",
   "id": "dac388c5",
   "metadata": {},
   "source": [
    "### `mediatypes.Toml`"
   ]
  },
  {
   "cell_type": "code",
   "execution_count": 26,
   "id": "4853349c",
   "metadata": {},
   "outputs": [
    {
     "data": {
      "text/plain": [
       "{'a': 1}"
      ]
     },
     "execution_count": 26,
     "metadata": {},
     "output_type": "execute_result"
    }
   ],
   "source": [
    "    String.add(mediatypes.Toml)(\"a= 1\").loads()"
   ]
  },
  {
   "cell_type": "markdown",
   "id": "8eff9e67",
   "metadata": {},
   "source": [
    "### `mediatypes.Yaml`"
   ]
  },
  {
   "cell_type": "code",
   "execution_count": 27,
   "id": "9ec93691",
   "metadata": {},
   "outputs": [
    {
     "data": {
      "text/plain": [
       "{'a': 1}"
      ]
     },
     "execution_count": 27,
     "metadata": {},
     "output_type": "execute_result"
    }
   ],
   "source": [
    "    String.add(mediatypes.Yaml)(\"a: 1\").loads()"
   ]
  }
 ],
 "metadata": {
  "kernelspec": {
   "display_name": "Python 3",
   "language": "python",
   "name": "python3"
  },
  "language_info": {
   "codemirror_mode": {
    "name": "ipython",
    "version": 3
   },
   "file_extension": ".py",
   "mimetype": "text/x-python",
   "name": "python",
   "nbconvert_exporter": "python",
   "pygments_lexer": "ipython3",
   "version": "3.7.7"
  }
 },
 "nbformat": 4,
 "nbformat_minor": 5
}
