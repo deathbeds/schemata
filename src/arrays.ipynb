{
 "cells": [
  {
   "cell_type": "markdown",
   "id": "493571ff",
   "metadata": {},
   "source": [
    "# the `Sequence` types"
   ]
  },
  {
   "cell_type": "code",
   "execution_count": 1,
   "id": "57b99cf5",
   "metadata": {},
   "outputs": [],
   "source": [
    "    from schemata import *\n",
    "    import string"
   ]
  },
  {
   "cell_type": "code",
   "execution_count": 2,
   "id": "db7184ac",
   "metadata": {},
   "outputs": [],
   "source": [
    "    assert List.cast().sorted()(reversed(string.ascii_lowercase))\\\n",
    "    == list(string.ascii_lowercase)"
   ]
  },
  {
   "cell_type": "code",
   "execution_count": 3,
   "id": "26c5ceea",
   "metadata": {},
   "outputs": [],
   "source": [
    "    assert List.cast().default(\"abc\")()\\\n",
    "    == list(\"abc\")"
   ]
  },
  {
   "cell_type": "code",
   "execution_count": 4,
   "id": "1b1873e1",
   "metadata": {},
   "outputs": [],
   "source": [
    "    assert Tuple.cast().default(\"abc\")()\\\n",
    "    == tuple(\"abc\")"
   ]
  },
  {
   "cell_type": "code",
   "execution_count": 5,
   "id": "dcd45418",
   "metadata": {},
   "outputs": [],
   "source": [
    "    assert Set.cast().default(\"abc\")()\\\n",
    "    == set(\"abc\")"
   ]
  },
  {
   "cell_type": "markdown",
   "id": "6416ae3e",
   "metadata": {},
   "source": [
    "## constraining array types    "
   ]
  },
  {
   "cell_type": "code",
   "execution_count": 6,
   "id": "ca2949ed",
   "metadata": {},
   "outputs": [],
   "source": [
    "    Arrays.Items, Arrays.MinItems, Arrays.MaxItems, \\\n",
    "    Arrays.AdditionalItems, Arrays.UniqueItems, Arrays.Contains;"
   ]
  },
  {
   "cell_type": "markdown",
   "id": "8b410605",
   "metadata": {},
   "source": [
    "### constraining `Sequence` types"
   ]
  },
  {
   "cell_type": "code",
   "execution_count": 7,
   "id": "0c5e1674",
   "metadata": {},
   "outputs": [],
   "source": [
    "    assert List[Integer]\\\n",
    "    == List.items(Integer)"
   ]
  },
  {
   "cell_type": "code",
   "execution_count": 8,
   "id": "740495df",
   "metadata": {},
   "outputs": [],
   "source": [
    "    assert List[dict(a=Integer)]\\\n",
    "    == List.items(Dict[dict(a=Integer)])"
   ]
  },
  {
   "cell_type": "markdown",
   "id": "055d04f7",
   "metadata": {},
   "source": [
    "### constraining `Sequence` dimensions"
   ]
  },
  {
   "cell_type": "code",
   "execution_count": 9,
   "id": "f2672f47",
   "metadata": {},
   "outputs": [
    {
     "data": {
      "text/plain": [
       "{'type': 'array', 'items': (slice(1, 10, None), slice(1, 3, None))}"
      ]
     },
     "execution_count": 9,
     "metadata": {},
     "output_type": "execute_result"
    }
   ],
   "source": [
    "    List[1:10, 1:3].schema()"
   ]
  },
  {
   "cell_type": "markdown",
   "id": "5f96e52d",
   "metadata": {},
   "source": [
    "## sorting `Arrays` types"
   ]
  },
  {
   "cell_type": "code",
   "execution_count": 10,
   "id": "961608f0",
   "metadata": {},
   "outputs": [],
   "source": [
    "    Arrays.Reversed, Arrays.Sorted;"
   ]
  },
  {
   "cell_type": "code",
   "execution_count": 11,
   "id": "4d0e979d",
   "metadata": {},
   "outputs": [],
   "source": [
    "    assert List.cast().sorted()(reversed(string.ascii_lowercase))\\\n",
    "    == list(string.ascii_lowercase)"
   ]
  },
  {
   "cell_type": "code",
   "execution_count": 12,
   "id": "7c59f2e3",
   "metadata": {},
   "outputs": [],
   "source": [
    "    assert List.cast().reversed(True).sorted()(reversed(string.ascii_lowercase))\\\n",
    "    == list(reversed(string.ascii_lowercase))"
   ]
  }
 ],
 "metadata": {
  "kernelspec": {
   "display_name": "Python 3",
   "language": "python",
   "name": "python3"
  },
  "language_info": {
   "codemirror_mode": {
    "name": "ipython",
    "version": 3
   },
   "file_extension": ".py",
   "mimetype": "text/x-python",
   "name": "python",
   "nbconvert_exporter": "python",
   "pygments_lexer": "ipython3",
   "version": "3.7.7"
  }
 },
 "nbformat": 4,
 "nbformat_minor": 5
}
