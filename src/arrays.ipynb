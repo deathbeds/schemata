{
 "cells": [
  {
   "cell_type": "markdown",
   "id": "16235b29",
   "metadata": {},
   "source": [
    "# the `Sequence` types"
   ]
  },
  {
   "cell_type": "code",
   "execution_count": 1,
   "id": "c25aefa2",
   "metadata": {},
   "outputs": [],
   "source": [
    "    from schemata import *\n",
    "    import string"
   ]
  },
  {
   "cell_type": "code",
   "execution_count": 6,
   "id": "ecb27043",
   "metadata": {},
   "outputs": [],
   "source": [
    "    assert List.cast().default(\"abc\")()\\\n",
    "    == list(\"abc\")"
   ]
  },
  {
   "cell_type": "code",
   "execution_count": 7,
   "id": "eff3d899",
   "metadata": {},
   "outputs": [],
   "source": [
    "    assert Tuple.cast().default(\"abc\")()\\\n",
    "    == tuple(\"abc\")"
   ]
  },
  {
   "cell_type": "code",
   "execution_count": 8,
   "id": "da987ee2",
   "metadata": {},
   "outputs": [],
   "source": [
    "    assert Set.cast().default(\"abc\")()\\\n",
    "    == set(\"abc\")"
   ]
  },
  {
   "cell_type": "markdown",
   "id": "820af9be",
   "metadata": {},
   "source": [
    "## constraining array types    "
   ]
  },
  {
   "cell_type": "code",
   "execution_count": 2,
   "id": "c7521f61",
   "metadata": {},
   "outputs": [],
   "source": [
    "    Sequence.Items, Sequence.MinItems, Sequence.MaxItems, \\\n",
    "    Sequence.AdditionalItems, Sequence.UniqueItems, Sequence.Contains;"
   ]
  },
  {
   "cell_type": "markdown",
   "id": "6b72b186",
   "metadata": {},
   "source": [
    "### constraining `Sequence` types"
   ]
  },
  {
   "cell_type": "code",
   "execution_count": 3,
   "id": "e3b063aa",
   "metadata": {},
   "outputs": [],
   "source": [
    "    assert List[Integer]\\\n",
    "    == List.items(Integer)"
   ]
  },
  {
   "cell_type": "code",
   "execution_count": 4,
   "id": "860e68dd",
   "metadata": {},
   "outputs": [],
   "source": [
    "    assert List[dict(a=Integer)]\\\n",
    "    == List.items(Dict[dict(a=Integer)])"
   ]
  },
  {
   "cell_type": "markdown",
   "id": "acd78112",
   "metadata": {},
   "source": [
    "### constraining `Sequence` dimensions"
   ]
  },
  {
   "cell_type": "code",
   "execution_count": 5,
   "id": "5b22bcdc",
   "metadata": {},
   "outputs": [
    {
     "data": {
      "text/plain": [
       "{'type': 'array',\n",
       " 'minItems': 1,\n",
       " 'maxItems': 3,\n",
       " 'items': {'minItems': 1, 'maxItems': 10}}"
      ]
     },
     "execution_count": 5,
     "metadata": {},
     "output_type": "execute_result"
    }
   ],
   "source": [
    "    List[1:10, 1:3].schema()"
   ]
  },
  {
   "cell_type": "markdown",
   "id": "ca0fde58",
   "metadata": {},
   "source": [
    "## sorting `Sequence` types"
   ]
  },
  {
   "cell_type": "code",
   "execution_count": 6,
   "id": "827cdc72",
   "metadata": {},
   "outputs": [],
   "source": [
    "    Sequence.Reversed, Sequence.Sorted;"
   ]
  },
  {
   "cell_type": "code",
   "execution_count": 7,
   "id": "c39aecc1",
   "metadata": {},
   "outputs": [],
   "source": [
    "    assert List.cast().sorted()(reversed(string.ascii_lowercase))\\\n",
    "    == list(string.ascii_lowercase)"
   ]
  },
  {
   "cell_type": "code",
   "execution_count": 8,
   "id": "a1750cc3",
   "metadata": {},
   "outputs": [],
   "source": [
    "    assert List.cast().reversed(True).sorted()(reversed(string.ascii_lowercase))\\\n",
    "    == list(reversed(string.ascii_lowercase))"
   ]
  },
  {
   "cell_type": "code",
   "execution_count": null,
   "id": "0284d9f0",
   "metadata": {},
   "outputs": [],
   "source": []
  }
 ],
 "metadata": {
  "kernelspec": {
   "display_name": "Python 3",
   "language": "python",
   "name": "python3"
  },
  "language_info": {
   "codemirror_mode": {
    "name": "ipython",
    "version": 3
   },
   "file_extension": ".py",
   "mimetype": "text/x-python",
   "name": "python",
   "nbconvert_exporter": "python",
   "pygments_lexer": "ipython3",
   "version": "3.7.7"
  }
 },
 "nbformat": 4,
 "nbformat_minor": 5
}
