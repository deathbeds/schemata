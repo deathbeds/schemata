{
 "cells": [
  {
   "cell_type": "markdown",
   "id": "f08bfe78",
   "metadata": {},
   "source": [
    "# the `Sequence` types"
   ]
  },
  {
   "cell_type": "code",
   "execution_count": 1,
   "id": "7c2d99c6",
   "metadata": {},
   "outputs": [],
   "source": [
    "    from schemata import *\n",
    "    import string"
   ]
  },
  {
   "cell_type": "code",
   "execution_count": 2,
   "id": "4d84b2d2",
   "metadata": {},
   "outputs": [],
   "source": [
    "    assert List.cast().sorted()(reversed(string.ascii_lowercase))\\\n",
    "    == list(string.ascii_lowercase)"
   ]
  },
  {
   "cell_type": "code",
   "execution_count": 3,
   "id": "d289064e",
   "metadata": {},
   "outputs": [],
   "source": [
    "    assert List.cast().default(\"abc\")()\\\n",
    "    == list(\"abc\")"
   ]
  },
  {
   "cell_type": "code",
   "execution_count": 4,
   "id": "1a771733",
   "metadata": {},
   "outputs": [],
   "source": [
    "    assert Tuple.cast().default(\"abc\")()\\\n",
    "    == tuple(\"abc\")"
   ]
  },
  {
   "cell_type": "code",
   "execution_count": 5,
   "id": "1aa8119d",
   "metadata": {},
   "outputs": [],
   "source": [
    "    assert Set.cast().default(\"abc\")()\\\n",
    "    == set(\"abc\")"
   ]
  },
  {
   "cell_type": "markdown",
   "id": "01e94b27",
   "metadata": {},
   "source": [
    "## constraining array types    "
   ]
  },
  {
   "cell_type": "code",
   "execution_count": 6,
   "id": "31e9accd",
   "metadata": {},
   "outputs": [],
   "source": [
    "    Arrays.Items, Arrays.MinItems, Arrays.MaxItems, \\\n",
    "    Arrays.AdditionalItems, Arrays.UniqueItems, Arrays.Contains;"
   ]
  },
  {
   "cell_type": "markdown",
   "id": "397c33a4",
   "metadata": {},
   "source": [
    "### constraining `Sequence` types"
   ]
  },
  {
   "cell_type": "code",
   "execution_count": 7,
   "id": "6cd7967b",
   "metadata": {},
   "outputs": [],
   "source": [
    "    assert List[Integer]\\\n",
    "    == List.items(Integer)"
   ]
  },
  {
   "cell_type": "code",
   "execution_count": 8,
   "id": "489b173d",
   "metadata": {},
   "outputs": [],
   "source": [
    "    assert List[dict(a=Integer)]\\\n",
    "    == List.items(Dict[dict(a=Integer)])"
   ]
  },
  {
   "cell_type": "markdown",
   "id": "85814d93",
   "metadata": {},
   "source": [
    "### constraining `Sequence` dimensions"
   ]
  },
  {
   "cell_type": "code",
   "execution_count": 9,
   "id": "ab2c9f8c",
   "metadata": {},
   "outputs": [
    {
     "data": {
      "text/plain": [
       "{'type': 'array', 'items': (slice(1, 10, None), slice(1, 3, None))}"
      ]
     },
     "execution_count": 9,
     "metadata": {},
     "output_type": "execute_result"
    }
   ],
   "source": [
    "    List[1:10, 1:3].schema()"
   ]
  },
  {
   "cell_type": "markdown",
   "id": "6c35b1f6",
   "metadata": {},
   "source": [
    "## sorting `Arrays` types"
   ]
  },
  {
   "cell_type": "code",
   "execution_count": 10,
   "id": "707a41aa",
   "metadata": {},
   "outputs": [],
   "source": [
    "    Arrays.Reversed, Arrays.Sorted;"
   ]
  },
  {
   "cell_type": "code",
   "execution_count": 11,
   "id": "2e073a9e",
   "metadata": {},
   "outputs": [],
   "source": [
    "    assert List.cast().sorted()(reversed(string.ascii_lowercase))\\\n",
    "    == list(string.ascii_lowercase)"
   ]
  },
  {
   "cell_type": "code",
   "execution_count": 12,
   "id": "ae09b2cb",
   "metadata": {},
   "outputs": [],
   "source": [
    "    assert List.cast().reversed(True).sorted()(reversed(string.ascii_lowercase))\\\n",
    "    == list(reversed(string.ascii_lowercase))"
   ]
  }
 ],
 "metadata": {
  "kernelspec": {
   "display_name": "Python 3",
   "language": "python",
   "name": "python3"
  },
  "language_info": {
   "codemirror_mode": {
    "name": "ipython",
    "version": 3
   },
   "file_extension": ".py",
   "mimetype": "text/x-python",
   "name": "python",
   "nbconvert_exporter": "python",
   "pygments_lexer": "ipython3",
   "version": "3.7.7"
  }
 },
 "nbformat": 4,
 "nbformat_minor": 5
}
