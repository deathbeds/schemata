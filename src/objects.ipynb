{
 "cells": [
  {
   "cell_type": "markdown",
   "id": "9ac1a1af",
   "metadata": {},
   "source": [
    "# the `Dict` type"
   ]
  },
  {
   "cell_type": "code",
   "execution_count": 1,
   "id": "0b5f5c4e",
   "metadata": {},
   "outputs": [],
   "source": [
    "    from schemata import *\n",
    "    import typing; raises = __import__(\"pytest\").raises(BaseException)"
   ]
  },
  {
   "cell_type": "code",
   "execution_count": 2,
   "id": "90d61547",
   "metadata": {},
   "outputs": [],
   "source": [
    "    assert Dict(foo=1)\\\n",
    "    == Dict({\"foo\": 1})\\\n",
    "    == dict(foo=1)"
   ]
  },
  {
   "cell_type": "markdown",
   "id": "6b2be7ca",
   "metadata": {},
   "source": [
    "## default `Dict`s"
   ]
  },
  {
   "cell_type": "code",
   "execution_count": 3,
   "id": "6e90b2bf",
   "metadata": {},
   "outputs": [],
   "source": [
    "    assert Dict.default(foo=42)()\\\n",
    "    == dict(foo=42)"
   ]
  },
  {
   "cell_type": "code",
   "execution_count": 4,
   "id": "1bbab0dc",
   "metadata": {},
   "outputs": [],
   "source": [
    "    assert Dict.default(foo=42)(foo=1)\\\n",
    "    == dict(foo=1)"
   ]
  },
  {
   "cell_type": "code",
   "execution_count": 5,
   "id": "165da470",
   "metadata": {},
   "outputs": [],
   "source": [
    "    class DictWDefaults(Dict):\n",
    "        foo: Integer = 1\n",
    "        bar: String = \"abc\"\n",
    "            \n",
    "    assert DictWDefaults\\\n",
    "    == Dict[dict(\n",
    "       foo=Integer.default(1), bar=String.default(\"abc\") \n",
    "    )]\n",
    "\n",
    "    assert DictWDefaults() == dict(foo=1, bar=\"abc\")"
   ]
  },
  {
   "cell_type": "markdown",
   "id": "6fc0b4ff-3e14-463c-87d3-54d4643a4e34",
   "metadata": {},
   "source": [
    "when we compose type methods with the value \"null\" we indicate _to call this function to create foo_. in general, we think it is best practice to return the value of the key in any method sharing a namespace."
   ]
  },
  {
   "cell_type": "code",
   "execution_count": 6,
   "id": "ab6434b6-4731-4a81-bdb2-42ec1228668e",
   "metadata": {},
   "outputs": [
    {
     "data": {
      "text/plain": [
       "{'cast': True, 'type': 'object', 'properties': {'foo': {'type': 'string'}}}"
      ]
     },
     "execution_count": 6,
     "metadata": {},
     "output_type": "execute_result"
    }
   ],
   "source": [
    "    class DictWFunctionDefault(Dict.cast()):\n",
    "        foo: String\n",
    "            \n",
    "        def foo(self: [\"null\"]):\n",
    "            return \"xyz\"\n",
    "\n",
    "    DictWFunctionDefault.schema(True)"
   ]
  },
  {
   "cell_type": "code",
   "execution_count": 7,
   "id": "200bf8fe-92e4-494e-8f30-f80a9c72ae8b",
   "metadata": {},
   "outputs": [
    {
     "data": {
      "text/plain": [
       "({}, {'foo': 'abc'})"
      ]
     },
     "execution_count": 7,
     "metadata": {},
     "output_type": "execute_result"
    }
   ],
   "source": [
    "    DictWFunctionDefault(), DictWFunctionDefault(\"abc\")"
   ]
  },
  {
   "cell_type": "markdown",
   "id": "ff36b6d4",
   "metadata": {},
   "source": [
    "## `Dict.Properties`"
   ]
  },
  {
   "cell_type": "code",
   "execution_count": 8,
   "id": "4a1995b8",
   "metadata": {},
   "outputs": [],
   "source": [
    "    assert Dict.properties(foo=Integer)\\\n",
    "    == Dict[dict(foo=Integer)]"
   ]
  },
  {
   "cell_type": "code",
   "execution_count": 9,
   "id": "f0ef044d",
   "metadata": {},
   "outputs": [],
   "source": [
    "    assert Dict[dict(foo=Integer, bar=Float)].py()\\\n",
    "    == typing.Dict[str, typing.Union[float, int]]"
   ]
  },
  {
   "cell_type": "markdown",
   "id": "b3850801",
   "metadata": {},
   "source": [
    "## `Dict.Required`"
   ]
  },
  {
   "cell_type": "markdown",
   "id": "41ce56b5",
   "metadata": {},
   "source": [
    "## `Dict.AdditionalProperties`"
   ]
  },
  {
   "cell_type": "code",
   "execution_count": 10,
   "id": "93463cdd",
   "metadata": {},
   "outputs": [],
   "source": [
    "    assert Dict.additionalProperties(Integer)\\\n",
    "    == Dict[Integer]"
   ]
  },
  {
   "cell_type": "markdown",
   "id": "3d36695e",
   "metadata": {},
   "source": [
    "### default dictionaries\n",
    "\n",
    "when `Dict.AdditionalProperties` are defined the dictionary behaves as a python dictionary."
   ]
  },
  {
   "cell_type": "code",
   "execution_count": 11,
   "id": "e1388e42",
   "metadata": {},
   "outputs": [
    {
     "data": {
      "text/plain": [
       "{'a': [1]}"
      ]
     },
     "execution_count": 11,
     "metadata": {},
     "output_type": "execute_result"
    }
   ],
   "source": [
    "    default_dict_list = Dict[list]()\n",
    "    default_dict_list[\"a\"].append(1)\n",
    "    dict(default_dict_list)"
   ]
  },
  {
   "cell_type": "markdown",
   "id": "7db6542d",
   "metadata": {},
   "source": [
    "## `Dict.PropertyNames`\n",
    "\n",
    "the `Dict.PropertyNames` type defines the key type of a dictionary. `json` does not allow for non string keys, but python does"
   ]
  },
  {
   "cell_type": "code",
   "execution_count": 12,
   "id": "8fbbeeac",
   "metadata": {},
   "outputs": [],
   "source": [
    "    assert Dict.propertyNames(Integer)\\\n",
    "    == Dict[Integer,]\n",
    "    assert Dict.propertyNames(Integer).additionalProperties(String)\\\n",
    "    == Dict[Integer, String]\n",
    "    assert Dict[Integer, String].py()\\\n",
    "    == typing.Dict[int, str]"
   ]
  },
  {
   "cell_type": "markdown",
   "id": "2afcd562",
   "metadata": {},
   "source": [
    "## `Dict.PatternProperties`"
   ]
  },
  {
   "cell_type": "markdown",
   "id": "0d428155",
   "metadata": {},
   "source": [
    "## `Dict.Dependencies`"
   ]
  },
  {
   "cell_type": "markdown",
   "id": "8863b8f2-78ad-4067-af72-09c284e771a7",
   "metadata": {},
   "source": [
    "dictionaries with dependencies in their function signature, on the `self` argument of a method function, we can define all of the key on key depends on."
   ]
  },
  {
   "cell_type": "code",
   "execution_count": 13,
   "id": "d8c3a193",
   "metadata": {},
   "outputs": [
    {
     "data": {
      "text/plain": [
       "{'type': 'object',\n",
       " 'properties': {'foo': schemata.numbers.Integer,\n",
       "  'bar': schemata.strings.String}}"
      ]
     },
     "execution_count": 13,
     "metadata": {},
     "output_type": "execute_result"
    }
   ],
   "source": [
    "    class DictWDeps(Dict):\n",
    "        foo: Integer\n",
    "        bar: String\n",
    "            \n",
    "        def bar(self: \"foo\"):\n",
    "            return str(self[\"foo\"])\n",
    "    DictWDeps.schema()"
   ]
  },
  {
   "cell_type": "code",
   "execution_count": 14,
   "id": "345ce169-dff8-4405-911b-cd23f4409497",
   "metadata": {},
   "outputs": [
    {
     "data": {
      "text/plain": [
       "{'foo': 1, 'bar': 'abc'}"
      ]
     },
     "execution_count": 14,
     "metadata": {},
     "output_type": "execute_result"
    }
   ],
   "source": [
    "DictWDeps(dict(foo=1, bar='abc'))"
   ]
  },
  {
   "cell_type": "code",
   "execution_count": 15,
   "id": "2b5769ba-b736-4f8f-a9db-65fc7ead570e",
   "metadata": {},
   "outputs": [
    {
     "data": {
      "text/plain": [
       "{'foo': 100}"
      ]
     },
     "execution_count": 15,
     "metadata": {},
     "output_type": "execute_result"
    }
   ],
   "source": [
    "d = DictWDeps()\n",
    "d[\"foo\"] = 100\n",
    "d"
   ]
  },
  {
   "cell_type": "code",
   "execution_count": 16,
   "id": "e4dc85c3-08f9-47ff-84ce-4ea5289d7232",
   "metadata": {},
   "outputs": [
    {
     "data": {
      "text/plain": [
       "{'type': 'object',\n",
       " 'properties': {'foo': {'type': 'integer'}, 'bar': {'type': 'string'}},\n",
       " 'dependencies': {'bar': {'required': ('foo',)}}}"
      ]
     },
     "execution_count": 16,
     "metadata": {},
     "output_type": "execute_result"
    }
   ],
   "source": [
    "    class DictWTypedDeps(Dict):\n",
    "        foo: Integer            \n",
    "        bar: String\n",
    "        def bar(self: Dict.Required[\"foo\",]):\n",
    "            return str(self[\"foo\"])\n",
    "    DictWTypedDeps.schema(True)"
   ]
  },
  {
   "cell_type": "code",
   "execution_count": 17,
   "id": "2778a9cb-73b7-42f9-bb96-c3e335c8ac5e",
   "metadata": {},
   "outputs": [],
   "source": [
    "    DictWTypedDeps(dict(foo=1))\n",
    "    with raises:\n",
    "        DictWTypedDeps(dict(foo=1, bar=200))"
   ]
  },
  {
   "cell_type": "code",
   "execution_count": 18,
   "id": "c7ad0139-cc16-4e83-ba4d-278eb959ffc3",
   "metadata": {},
   "outputs": [
    {
     "data": {
      "text/plain": [
       "{'type': 'object',\n",
       " 'properties': {'foo': {'type': 'integer'}, 'bar': {'type': 'string'}},\n",
       " 'dependencies': {'bar': {'required': ('foo',)}}}"
      ]
     },
     "execution_count": 18,
     "metadata": {},
     "output_type": "execute_result"
    }
   ],
   "source": [
    "    class DictWFunctionTypedDeps(Dict):\n",
    "        def foo(self: \"null\") -> Integer:\n",
    "            return self.get(\"foo\", 100)\n",
    "        def bar(self: Dict.Required[\"foo\",]) -> String:\n",
    "            return str(self[\"foo\"])\n",
    "    DictWFunctionTypedDeps.schema(True)"
   ]
  },
  {
   "cell_type": "code",
   "execution_count": 19,
   "id": "087f3d8a-350f-4c55-804f-127e08096e08",
   "metadata": {},
   "outputs": [
    {
     "data": {
      "text/plain": [
       "{'type': 'array',\n",
       " 'items': {'properties': {'foo': {'type': 'integer'},\n",
       "   'bar': {'type': 'string'}},\n",
       "  'dependencies': {'bar': {'required': ('foo',)}}}}"
      ]
     },
     "execution_count": 19,
     "metadata": {},
     "output_type": "execute_result"
    }
   ],
   "source": [
    "    class ListWFunctionTypedDeps(List):\n",
    "        def foo(self: \"null\") -> Integer:\n",
    "            return self.get(\"foo\", 100)\n",
    "        def bar(self: Dict.Required[\"foo\",]) -> String:\n",
    "            return str(self[\"foo\"])\n",
    "        \n",
    "    ListWFunctionTypedDeps.schema(True)"
   ]
  },
  {
   "cell_type": "code",
   "execution_count": null,
   "id": "ac7a5f09-5264-409a-894a-72a364826d5f",
   "metadata": {},
   "outputs": [],
   "source": []
  }
 ],
 "metadata": {
  "kernelspec": {
   "display_name": "Python 3",
   "language": "python",
   "name": "python3"
  },
  "language_info": {
   "codemirror_mode": {
    "name": "ipython",
    "version": 3
   },
   "file_extension": ".py",
   "mimetype": "text/x-python",
   "name": "python",
   "nbconvert_exporter": "python",
   "pygments_lexer": "ipython3",
   "version": "3.7.7"
  }
 },
 "nbformat": 4,
 "nbformat_minor": 5
}
