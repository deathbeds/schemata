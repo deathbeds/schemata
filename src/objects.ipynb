{
 "cells": [
  {
   "cell_type": "markdown",
   "id": "561d88cb",
   "metadata": {},
   "source": [
    "# the `Dict` type"
   ]
  },
  {
   "cell_type": "code",
   "execution_count": null,
   "id": "fb20bcd0",
   "metadata": {},
   "outputs": [],
   "source": [
    "    from schemata import *\n",
    "    import typing"
   ]
  },
  {
   "cell_type": "code",
   "execution_count": null,
   "id": "64d5771f",
   "metadata": {},
   "outputs": [],
   "source": [
    "    assert Dict(foo=1)\\\n",
    "    == Dict({\"foo\": 1})\\\n",
    "    == dict(foo=1)"
   ]
  },
  {
   "cell_type": "markdown",
   "id": "b02029f4",
   "metadata": {},
   "source": [
    "## default `Dict`s"
   ]
  },
  {
   "cell_type": "code",
   "execution_count": null,
   "id": "c21c8737",
   "metadata": {},
   "outputs": [],
   "source": [
    "    assert Dict.default(foo=42)()\\\n",
    "    == dict(foo=42)"
   ]
  },
  {
   "cell_type": "code",
   "execution_count": null,
   "id": "5a67533d",
   "metadata": {},
   "outputs": [],
   "source": [
    "    assert Dict.default(foo=42)(foo=1)\\\n",
    "    == dict(foo=1)"
   ]
  },
  {
   "cell_type": "code",
   "execution_count": null,
   "id": "5fdc5015",
   "metadata": {},
   "outputs": [],
   "source": [
    "    class DictWDefaults(Dict):\n",
    "        foo: Integer = 1\n",
    "        bar: String = \"abc\"\n",
    "            \n",
    "    assert DictWDefaults\\\n",
    "    == Dict[dict(\n",
    "       foo=Integer.default(1), bar=String.default(\"abc\") \n",
    "    )]\n",
    "\n",
    "    assert DictWDefaults() == dict(foo=1, bar=\"abc\")"
   ]
  },
  {
   "cell_type": "markdown",
   "id": "164ec09f",
   "metadata": {},
   "source": [
    "## `Dict.Properties`"
   ]
  },
  {
   "cell_type": "code",
   "execution_count": null,
   "id": "6057cbec",
   "metadata": {},
   "outputs": [],
   "source": [
    "    assert Dict.properties(foo=Integer)\\\n",
    "    == Dict[dict(foo=Integer)]"
   ]
  },
  {
   "cell_type": "code",
   "execution_count": null,
   "id": "487c3b84",
   "metadata": {},
   "outputs": [],
   "source": [
    "    assert Dict[dict(foo=Integer, bar=Float)].py()\\\n",
    "    == typing.Dict[str, typing.Union[float, int]]"
   ]
  },
  {
   "cell_type": "markdown",
   "id": "aa871f7d",
   "metadata": {},
   "source": [
    "## `Dict.Required`"
   ]
  },
  {
   "cell_type": "markdown",
   "id": "e37a9701",
   "metadata": {},
   "source": [
    "## `Dict.AdditionalProperties`"
   ]
  },
  {
   "cell_type": "code",
   "execution_count": null,
   "id": "419a5827",
   "metadata": {},
   "outputs": [],
   "source": [
    "    assert Dict.additionalProperties(Integer)\\\n",
    "    == Dict[Integer]"
   ]
  },
  {
   "cell_type": "markdown",
   "id": "683674b7",
   "metadata": {},
   "source": [
    "### default dictionaries\n",
    "\n",
    "when `Dict.AdditionalProperties` are defined the dictionary behaves as a python dictionary."
   ]
  },
  {
   "cell_type": "code",
   "execution_count": null,
   "id": "2d7b56c8",
   "metadata": {},
   "outputs": [],
   "source": [
    "    default_dict_list = Dict[List]()\n",
    "    default_dict_list[\"a\"].append(1)\n",
    "    dict(default_dict_list)"
   ]
  },
  {
   "cell_type": "markdown",
   "id": "b947463b",
   "metadata": {},
   "source": [
    "## `Dict.PropertyNames`\n",
    "\n",
    "the `Dict.PropertyNames` type defines the key type of a dictionary. `json` does not allow for non string keys, but python does"
   ]
  },
  {
   "cell_type": "code",
   "execution_count": null,
   "id": "14c051ec",
   "metadata": {},
   "outputs": [],
   "source": [
    "    assert Dict.propertyNames(Integer)\\\n",
    "    == Dict[Integer,]\n",
    "    assert Dict.propertyNames(Integer).additionalProperties(String)\\\n",
    "    == Dict[Integer, String]\n",
    "    assert Dict[Integer, String].py()\\\n",
    "    == typing.Dict[int, str]"
   ]
  },
  {
   "cell_type": "markdown",
   "id": "f8fab515",
   "metadata": {},
   "source": [
    "## `Dict.PatternProperties`"
   ]
  },
  {
   "cell_type": "markdown",
   "id": "b3fa3178",
   "metadata": {},
   "source": [
    "## `Dict.Dependencies`"
   ]
  },
  {
   "cell_type": "code",
   "execution_count": null,
   "id": "d0ee5697",
   "metadata": {},
   "outputs": [],
   "source": [
    "    class DictWDeps(Dict):\n",
    "        foo: Integer\n",
    "        bar: String\n",
    "            \n",
    "        def bar(self: \"foo\"):\n",
    "            return str(self[\"foo\"])"
   ]
  },
  {
   "cell_type": "code",
   "execution_count": null,
   "id": "ec68a9e3",
   "metadata": {},
   "outputs": [],
   "source": [
    "DictWDeps.schema()"
   ]
  },
  {
   "cell_type": "code",
   "execution_count": null,
   "id": "d1ed42c2",
   "metadata": {},
   "outputs": [],
   "source": []
  }
 ],
 "metadata": {
  "kernelspec": {
   "display_name": "Python 3",
   "language": "python",
   "name": "python3"
  },
  "language_info": {
   "codemirror_mode": {
    "name": "ipython",
    "version": 3
   },
   "file_extension": ".py",
   "mimetype": "text/x-python",
   "name": "python",
   "nbconvert_exporter": "python",
   "pygments_lexer": "ipython3",
   "version": "3.7.7"
  }
 },
 "nbformat": 4,
 "nbformat_minor": 5
}
