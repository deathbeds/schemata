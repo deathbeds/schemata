{
 "cells": [
  {
   "cell_type": "markdown",
   "id": "b9e12fcc",
   "metadata": {},
   "source": [
    "# the `schemata` types"
   ]
  },
  {
   "cell_type": "markdown",
   "id": "6eef75a8",
   "metadata": {},
   "source": [
    "we begin with the `Any` type, this is common type declaration, but it is rarely used for instantiation. `schemata` implements creating `Any` type `object`s that carry a schema with them."
   ]
  },
  {
   "cell_type": "code",
   "execution_count": 1,
   "id": "5ff4dc9f",
   "metadata": {},
   "outputs": [],
   "source": [
    "    from schemata import *\n",
    "    import typing"
   ]
  },
  {
   "cell_type": "code",
   "execution_count": 2,
   "id": "6c9dd391",
   "metadata": {},
   "outputs": [],
   "source": [
    "    assert Any(\"1\").schema() == String.schema()"
   ]
  },
  {
   "cell_type": "markdown",
   "id": "029a647f",
   "metadata": {},
   "source": [
    "## the common types\n",
    "\n",
    "`schemata` provides the common python types"
   ]
  },
  {
   "cell_type": "code",
   "execution_count": 3,
   "id": "ed2e40d1",
   "metadata": {},
   "outputs": [],
   "source": [
    "    None, bool, int, float, str, list, dict;"
   ]
  },
  {
   "cell_type": "markdown",
   "id": "27e4cec5",
   "metadata": {},
   "source": [
    "it also provides implementations for modern types like"
   ]
  },
  {
   "cell_type": "code",
   "execution_count": 4,
   "id": "4c1218ab",
   "metadata": {},
   "outputs": [],
   "source": [
    "    Uri, JsonPointer, Json;"
   ]
  },
  {
   "cell_type": "markdown",
   "id": "4e077d23",
   "metadata": {},
   "source": [
    "### the `Null` type"
   ]
  },
  {
   "cell_type": "code",
   "execution_count": 5,
   "id": "b1e142a1",
   "metadata": {},
   "outputs": [],
   "source": [
    "    assert Type[\"null\"] is Null\n",
    "    assert Null() is Null(None) is None\n",
    "    assert Null.py() is type(None)"
   ]
  },
  {
   "cell_type": "markdown",
   "id": "ce7a7d1c",
   "metadata": {},
   "source": [
    "### the `Bool` type"
   ]
  },
  {
   "cell_type": "code",
   "execution_count": 6,
   "id": "919659d8",
   "metadata": {},
   "outputs": [],
   "source": [
    "    assert Type[\"boolean\"] is Bool\n",
    "    assert Bool() is Bool(False) is bool() is False\n",
    "    assert Bool(True) is Bool.default(True)() is True\n",
    "    assert Bool.py() is bool\n",
    "    assert isinstance(Type(True), Bool)"
   ]
  },
  {
   "cell_type": "markdown",
   "id": "edd3f764",
   "metadata": {},
   "source": [
    "### the `Integer` type"
   ]
  },
  {
   "cell_type": "code",
   "execution_count": 7,
   "id": "0564f7f7",
   "metadata": {},
   "outputs": [],
   "source": [
    "    assert Integer is Type[\"integer\"]\n",
    "    assert Integer() == Integer(0) == int() == 0\n",
    "    assert Integer(1) == Integer.default(1)() == 1\n",
    "    assert Integer.py() is int\n",
    "    assert isinstance(Type(1), Integer)"
   ]
  },
  {
   "cell_type": "markdown",
   "id": "2e8cb892",
   "metadata": {},
   "source": [
    "> `Integer and Float`s have other properties you can learn about in `numbers.ipynb`"
   ]
  },
  {
   "cell_type": "markdown",
   "id": "986f6b78",
   "metadata": {},
   "source": [
    "### the `Float` type"
   ]
  },
  {
   "cell_type": "code",
   "execution_count": 8,
   "id": "22ecf4a1",
   "metadata": {},
   "outputs": [],
   "source": [
    "    assert Float is Type[\"number\"]\n",
    "    assert Float() == Float(0.) == float() == 0.\n",
    "    assert Float(1.1) == Float.default(1.1)() == 1.1\n",
    "    assert Float.py() is float\n",
    "    assert isinstance(Type(1.1), Float)    "
   ]
  },
  {
   "cell_type": "markdown",
   "id": "300e5a4c",
   "metadata": {},
   "source": [
    "### the `String` type"
   ]
  },
  {
   "cell_type": "code",
   "execution_count": 9,
   "id": "7e0d7b00",
   "metadata": {},
   "outputs": [],
   "source": [
    "    assert String is Type[\"string\"]\n",
    "    assert String() == str() == \"\"\n",
    "    assert String(\"abc\") == str(\"abc\") == \"abc\"\n",
    "    assert String.py() is str\n",
    "    assert isinstance(Type(\"abc\"), String)    "
   ]
  },
  {
   "cell_type": "markdown",
   "id": "56f5f815",
   "metadata": {},
   "source": [
    "#### `String` patterns\n",
    "\n",
    "a primary definition for strings includes a regular expression pattern for the string. the `String` type defines patterns using the getitem square bracket syntax. \n",
    "\n",
    "for example, a string beginning with the letter `a` is defined by the regular expression`\"^a\"`"
   ]
  },
  {
   "cell_type": "code",
   "execution_count": 10,
   "id": "e6df52cc",
   "metadata": {},
   "outputs": [
    {
     "data": {
      "text/plain": [
       "abc.String"
      ]
     },
     "metadata": {},
     "output_type": "display_data"
    },
    {
     "data": {
      "text/plain": [
       "{'type': 'string', 'pattern': '^a'}"
      ]
     },
     "metadata": {},
     "output_type": "display_data"
    }
   ],
   "source": [
    "    display(String[\"^a\"], String[\"^a\"].schema())"
   ]
  },
  {
   "cell_type": "code",
   "execution_count": 11,
   "id": "ee34a2cb",
   "metadata": {},
   "outputs": [],
   "source": [
    "    assert String[\"^a\"](\"abc\") == \"abc\""
   ]
  },
  {
   "cell_type": "code",
   "execution_count": 12,
   "id": "beb207c5",
   "metadata": {},
   "outputs": [],
   "source": [
    "    exceptions.raises(String[\"^a\"], \"123\")"
   ]
  },
  {
   "cell_type": "markdown",
   "id": "ce5428a8",
   "metadata": {},
   "source": [
    "the pattern is stored as part of the schema and carried along with the object"
   ]
  },
  {
   "cell_type": "markdown",
   "id": "d4ccc87d",
   "metadata": {},
   "source": [
    "> `String`s have other properties you can learn about in `strings.ipynb`"
   ]
  },
  {
   "cell_type": "markdown",
   "id": "d0a41b52",
   "metadata": {},
   "source": [
    "### the `List` type"
   ]
  },
  {
   "cell_type": "code",
   "execution_count": 13,
   "id": "0a5b82a1",
   "metadata": {},
   "outputs": [],
   "source": [
    "    assert List is Type[\"array\"]\n",
    "    assert List() == list() == []\n",
    "    assert List(list(\"abc\")) == list(\"abc\")\n",
    "    assert List.py() is list\n",
    "    assert isinstance(Type([]), List)    "
   ]
  },
  {
   "cell_type": "markdown",
   "id": "ccb24abb",
   "metadata": {},
   "source": [
    "> `List`s have other properties you can learn about in `arrays.ipynb`"
   ]
  },
  {
   "cell_type": "markdown",
   "id": "0bbc735b",
   "metadata": {},
   "source": [
    "### the `Dict` type"
   ]
  },
  {
   "cell_type": "code",
   "execution_count": 14,
   "id": "f80d88a4",
   "metadata": {},
   "outputs": [
    {
     "data": {
      "text/plain": [
       "{}"
      ]
     },
     "execution_count": 14,
     "metadata": {},
     "output_type": "execute_result"
    }
   ],
   "source": [
    "    Type({})"
   ]
  },
  {
   "cell_type": "code",
   "execution_count": 15,
   "id": "dd8cea14",
   "metadata": {},
   "outputs": [],
   "source": [
    "    assert Dict is Type[\"object\"]\n",
    "    assert Dict() == dict() == {}\n",
    "    assert Dict(foo=\"a\") == dict(foo=\"a\")\n",
    "    assert Dict.py() is dict\n",
    "    assert isinstance(Type({}), Dict)    "
   ]
  },
  {
   "cell_type": "markdown",
   "id": "b5944e0e",
   "metadata": {},
   "source": [
    "> `Dict`s have other properties you can learn about in `objects.ipynb`"
   ]
  },
  {
   "cell_type": "markdown",
   "id": "62cbe21a",
   "metadata": {},
   "source": [
    "### the `Enum` type"
   ]
  },
  {
   "cell_type": "code",
   "execution_count": 16,
   "id": "4793860b",
   "metadata": {},
   "outputs": [],
   "source": [
    "    assert Enum[\"a b\"]().value == Enum[\"a b\"](\"a\").value\n",
    "    assert Enum[\"a\", 1](1).value == 1\n"
   ]
  },
  {
   "cell_type": "markdown",
   "id": "f2d019ed",
   "metadata": {},
   "source": [
    "> `Enum`s have other properties you can learn about in `enums.ipynb`"
   ]
  },
  {
   "cell_type": "markdown",
   "id": "ad6a23c2",
   "metadata": {},
   "source": [
    "## combined types"
   ]
  },
  {
   "cell_type": "code",
   "execution_count": 17,
   "id": "f03a099f",
   "metadata": {},
   "outputs": [
    {
     "data": {
      "text/plain": [
       "{'type': ('string', 'integer')}"
      ]
     },
     "execution_count": 17,
     "metadata": {},
     "output_type": "execute_result"
    }
   ],
   "source": [
    "   string_or_int = Type[\"string\", \"integer\"]; string_or_int.schema()"
   ]
  },
  {
   "cell_type": "code",
   "execution_count": 18,
   "id": "0b4a40fe",
   "metadata": {},
   "outputs": [],
   "source": [
    "    assert string_or_int(\"abc\")\n",
    "    assert string_or_int(1)\n",
    "    exceptions.raises(string_or_int, 1.1)"
   ]
  },
  {
   "cell_type": "markdown",
   "id": "87018976",
   "metadata": {},
   "source": [
    "## type metadata"
   ]
  },
  {
   "cell_type": "markdown",
   "id": "bdf61170",
   "metadata": {},
   "source": [
    "#### constants and defaults"
   ]
  },
  {
   "cell_type": "code",
   "execution_count": 19,
   "id": "9f991911",
   "metadata": {},
   "outputs": [],
   "source": [
    "    Default, Const;"
   ]
  },
  {
   "cell_type": "markdown",
   "id": "bdb57cda",
   "metadata": {},
   "source": [
    "#### meta-data descriptions"
   ]
  },
  {
   "cell_type": "markdown",
   "id": "473d2429",
   "metadata": {},
   "source": [
    "these types have no effect on validation or instantiation"
   ]
  },
  {
   "cell_type": "code",
   "execution_count": 20,
   "id": "b5e34995",
   "metadata": {},
   "outputs": [],
   "source": [
    "    Comment_, Definitions, Deprecated, Description, \\\n",
    "    Examples, Optional, ReadOnly, Ref_, Title, WriteOnly;"
   ]
  },
  {
   "cell_type": "markdown",
   "id": "503a8c7c",
   "metadata": {},
   "source": [
    "#### interactive docstrings\n",
    "\n",
    "`schemata` uses the meta-data types to construct `numpy` docstrings."
   ]
  },
  {
   "cell_type": "markdown",
   "id": "b4b577af",
   "metadata": {},
   "source": [
    "## extra `schemata` types\n",
    "\n",
    "`schemata` provides an extended type system based on the `jsonschema` specification. below are some other types available to `schemata`"
   ]
  },
  {
   "cell_type": "code",
   "execution_count": 21,
   "id": "aeda364a",
   "metadata": {},
   "outputs": [],
   "source": [
    "    Uri, File, JsonPointer;"
   ]
  },
  {
   "cell_type": "markdown",
   "id": "8b26efe2",
   "metadata": {},
   "source": [
    "## combinations of types\n",
    "\n",
    "types can combine into different conformations that describe more complex types."
   ]
  },
  {
   "cell_type": "code",
   "execution_count": 22,
   "id": "05913778",
   "metadata": {},
   "outputs": [],
   "source": [
    "    Not, AnyOf, AllOf, OneOf, If, Then, Else;"
   ]
  },
  {
   "cell_type": "markdown",
   "id": "ee803283",
   "metadata": {},
   "source": [
    "### union types\n",
    "\n",
    "the `Type and AnyOf` types provide commonly supported union types. "
   ]
  },
  {
   "cell_type": "code",
   "execution_count": 23,
   "id": "5c1879c5",
   "metadata": {},
   "outputs": [],
   "source": [
    "    assert typing.Union[int, float] == Type[int, float].py() == (Integer | Float).py() == Integer.or_(Float).py()"
   ]
  },
  {
   "cell_type": "code",
   "execution_count": 24,
   "id": "8508da63",
   "metadata": {},
   "outputs": [],
   "source": [
    "    assert Type[int, float](1) == 1"
   ]
  },
  {
   "cell_type": "code",
   "execution_count": 25,
   "id": "07657214",
   "metadata": {},
   "outputs": [],
   "source": [
    "    assert Integer | Float == Integer.or_(Float)"
   ]
  },
  {
   "cell_type": "code",
   "execution_count": 26,
   "id": "0464e81c",
   "metadata": {},
   "outputs": [],
   "source": [
    "    assert Integer ^ Float == Integer.xor(Float)"
   ]
  }
 ],
 "metadata": {
  "kernelspec": {
   "display_name": "Python 3",
   "language": "python",
   "name": "python3"
  },
  "language_info": {
   "codemirror_mode": {
    "name": "ipython",
    "version": 3
   },
   "file_extension": ".py",
   "mimetype": "text/x-python",
   "name": "python",
   "nbconvert_exporter": "python",
   "pygments_lexer": "ipython3",
   "version": "3.7.7"
  }
 },
 "nbformat": 4,
 "nbformat_minor": 5
}
