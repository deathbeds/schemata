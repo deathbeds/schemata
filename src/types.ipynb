{
 "cells": [
  {
   "cell_type": "code",
   "execution_count": 1,
   "id": "7bc8e806",
   "metadata": {},
   "outputs": [],
   "source": [
    "    from schemata import *\n",
    "    import typing"
   ]
  },
  {
   "cell_type": "markdown",
   "id": "665e09dc",
   "metadata": {},
   "source": [
    "## the `schemata` types"
   ]
  },
  {
   "cell_type": "markdown",
   "id": "91b67d7b",
   "metadata": {},
   "source": [
    "we begin with the `Any` type, this is common type declaration, but it is rarely used for instantiation. `schemata` implements creating `Any` type `object`s that carry a schema with them."
   ]
  },
  {
   "cell_type": "code",
   "execution_count": 2,
   "id": "233bb3fb",
   "metadata": {},
   "outputs": [],
   "source": [
    "    assert Any(\"1\").schema() == String.schema()"
   ]
  },
  {
   "cell_type": "markdown",
   "id": "c8a9d6db",
   "metadata": {},
   "source": [
    "## the common types\n",
    "\n",
    "`schemata` provides the common python types"
   ]
  },
  {
   "cell_type": "code",
   "execution_count": 3,
   "id": "415fc4c7",
   "metadata": {},
   "outputs": [],
   "source": [
    "    None, bool, int, float, str, list, dict;"
   ]
  },
  {
   "cell_type": "markdown",
   "id": "5a6ecf56",
   "metadata": {},
   "source": [
    "it also provides implementations for modern types like"
   ]
  },
  {
   "cell_type": "code",
   "execution_count": 4,
   "id": "8cd852e6",
   "metadata": {},
   "outputs": [],
   "source": [
    "    Uri, JsonPointer, Json;"
   ]
  },
  {
   "cell_type": "markdown",
   "id": "7da172c0",
   "metadata": {},
   "source": [
    "### the `Null` type"
   ]
  },
  {
   "cell_type": "code",
   "execution_count": 5,
   "id": "4336e6a1",
   "metadata": {},
   "outputs": [],
   "source": [
    "    assert Type[\"null\"] is Null\n",
    "    assert Null() is Null(None) is None\n",
    "    assert Null.py() is type(None)"
   ]
  },
  {
   "cell_type": "markdown",
   "id": "57069db8",
   "metadata": {},
   "source": [
    "### the `Bool` type"
   ]
  },
  {
   "cell_type": "code",
   "execution_count": 6,
   "id": "e7cd7bc5",
   "metadata": {},
   "outputs": [],
   "source": [
    "    assert Type[\"boolean\"] is Bool\n",
    "    assert Bool() is Bool(False) is bool() is False\n",
    "    assert Bool(True) is Bool.default(True)() is True\n",
    "    assert Bool.py() is bool"
   ]
  },
  {
   "cell_type": "markdown",
   "id": "aac1d773",
   "metadata": {},
   "source": [
    "### the `Integer` type"
   ]
  },
  {
   "cell_type": "code",
   "execution_count": 7,
   "id": "e7b3dc21",
   "metadata": {},
   "outputs": [],
   "source": [
    "    assert Integer is Type[\"integer\"]\n",
    "    assert Integer() == Integer(0) == int() == 0\n",
    "    assert Integer(1) == Integer.default(1)() == 1\n",
    "    assert Integer.py() is int"
   ]
  },
  {
   "cell_type": "markdown",
   "id": "9f023c49",
   "metadata": {},
   "source": [
    "> `Integer and Float`s have other properties you can learn about in `numbers.ipynb`"
   ]
  },
  {
   "cell_type": "markdown",
   "id": "40d2cf75",
   "metadata": {},
   "source": [
    "### the `Float` type"
   ]
  },
  {
   "cell_type": "code",
   "execution_count": 8,
   "id": "1dde1529",
   "metadata": {},
   "outputs": [],
   "source": [
    "    assert Float is Type[\"number\"]\n",
    "    assert Float() == Float(0.) == float() == 0.\n",
    "    assert Float(1.1) == Float.default(1.1)() == 1.1\n",
    "    assert Float.py() is float"
   ]
  },
  {
   "cell_type": "markdown",
   "id": "a95edf28",
   "metadata": {},
   "source": [
    "### the `String` type"
   ]
  },
  {
   "cell_type": "code",
   "execution_count": 9,
   "id": "3253733f",
   "metadata": {},
   "outputs": [],
   "source": [
    "    assert String is Type[\"string\"]\n",
    "    assert String() == str() == \"\"\n",
    "    assert String(\"abc\") == str(\"abc\") == \"abc\"\n",
    "    assert String.py() is str"
   ]
  },
  {
   "cell_type": "markdown",
   "id": "675b2abd",
   "metadata": {},
   "source": [
    "#### `String` patterns\n",
    "\n",
    "a primary definition for strings includes a regular expression pattern for the string. the `String` type defines patterns using the getitem square bracket syntax. \n",
    "\n",
    "for example, a string beginning with the letter `a` is defined by the regular expression`\"^a\"`"
   ]
  },
  {
   "cell_type": "code",
   "execution_count": 10,
   "id": "5a24d83a",
   "metadata": {},
   "outputs": [
    {
     "data": {
      "text/plain": [
       "abc.String"
      ]
     },
     "metadata": {},
     "output_type": "display_data"
    },
    {
     "data": {
      "text/plain": [
       "{'type': 'string', 'pattern': '^a'}"
      ]
     },
     "metadata": {},
     "output_type": "display_data"
    }
   ],
   "source": [
    "    display(String[\"^a\"], String[\"^a\"].schema())"
   ]
  },
  {
   "cell_type": "markdown",
   "id": "4bed74f5",
   "metadata": {},
   "source": [
    "the pattern is stored as part of the schema and carried along with the object"
   ]
  },
  {
   "cell_type": "markdown",
   "id": "98b9fa88",
   "metadata": {},
   "source": [
    "> `String`s have other properties you can learn about in `strings.ipynb`"
   ]
  },
  {
   "cell_type": "markdown",
   "id": "adb9f118",
   "metadata": {},
   "source": [
    "### the `List` type"
   ]
  },
  {
   "cell_type": "code",
   "execution_count": 11,
   "id": "f4eaff3f",
   "metadata": {},
   "outputs": [],
   "source": [
    "    assert List is Type[\"array\"]\n",
    "    assert List() == list() == []\n",
    "    assert List(list(\"abc\")) == list(\"abc\")\n",
    "    assert List.py() is list"
   ]
  },
  {
   "cell_type": "markdown",
   "id": "f9cb92dc",
   "metadata": {},
   "source": [
    "> `List`s have other properties you can learn about in `arrays.ipynb`"
   ]
  },
  {
   "cell_type": "markdown",
   "id": "eba455bb",
   "metadata": {},
   "source": [
    "### the `Dict` type"
   ]
  },
  {
   "cell_type": "code",
   "execution_count": 12,
   "id": "ed8ec5e0",
   "metadata": {},
   "outputs": [],
   "source": [
    "    assert Dict is Type[\"object\"]\n",
    "    assert Dict() == dict() == {}\n",
    "    assert Dict(foo=\"a\") == dict(foo=\"a\")\n",
    "    assert Dict.py() is dict"
   ]
  },
  {
   "cell_type": "markdown",
   "id": "f82f3826",
   "metadata": {},
   "source": [
    "> `Dict`s have other properties you can learn about in `objects.ipynb`"
   ]
  },
  {
   "cell_type": "markdown",
   "id": "bd3ba726",
   "metadata": {},
   "source": [
    "### the `Enum` type"
   ]
  },
  {
   "cell_type": "code",
   "execution_count": 13,
   "id": "8145c99d",
   "metadata": {},
   "outputs": [],
   "source": [
    "    assert Enum[\"a b\"]().value == Enum[\"a b\"](\"a\").value\n",
    "    assert Enum[\"a\", 1](1).value == 1\n",
    "    assert Enum[\"a\", 1](\"a\").value == \"a\""
   ]
  },
  {
   "cell_type": "markdown",
   "id": "11f708f6",
   "metadata": {},
   "source": [
    "> `Enum`s have other properties you can learn about in `enums.ipynb`"
   ]
  },
  {
   "cell_type": "markdown",
   "id": "962da7f7",
   "metadata": {},
   "source": [
    "## type metadata"
   ]
  },
  {
   "cell_type": "markdown",
   "id": "8a3758ee",
   "metadata": {},
   "source": [
    "#### constants and defaults"
   ]
  },
  {
   "cell_type": "code",
   "execution_count": 14,
   "id": "d78be50b",
   "metadata": {},
   "outputs": [],
   "source": [
    "    Default, Const;"
   ]
  },
  {
   "cell_type": "markdown",
   "id": "3d5e32aa",
   "metadata": {},
   "source": [
    "#### meta-data descriptions"
   ]
  },
  {
   "cell_type": "markdown",
   "id": "94a95359",
   "metadata": {},
   "source": [
    "these types have no effect on validation or instantiation"
   ]
  },
  {
   "cell_type": "code",
   "execution_count": 15,
   "id": "e7c991ad",
   "metadata": {},
   "outputs": [],
   "source": [
    "    Comment_, Definitions, Deprecated, Description, \\\n",
    "    Examples, Optional, ReadOnly, Ref_, Title, WriteOnly;"
   ]
  },
  {
   "cell_type": "markdown",
   "id": "847c6235",
   "metadata": {},
   "source": [
    "#### interactive docstrings\n",
    "\n",
    "`schemata` uses the meta-data types to construct `numpy` docstrings."
   ]
  },
  {
   "cell_type": "markdown",
   "id": "ce8178d4",
   "metadata": {},
   "source": [
    "## extra `schemata` types\n",
    "\n",
    "`schemata` provides an extended type system based on the `jsonschema` specification. below are some other types available to `schemata`"
   ]
  },
  {
   "cell_type": "code",
   "execution_count": 16,
   "id": "74da33cd",
   "metadata": {},
   "outputs": [],
   "source": [
    "    Uri, File, JsonPointer;"
   ]
  },
  {
   "cell_type": "markdown",
   "id": "2ea09059",
   "metadata": {},
   "source": [
    "## combinations of types\n",
    "\n",
    "types can combine into different conformations that describe more complex types."
   ]
  },
  {
   "cell_type": "code",
   "execution_count": 17,
   "id": "2ef6c183",
   "metadata": {},
   "outputs": [],
   "source": [
    "    Not, AnyOf, AllOf, OneOf, If, Then, Else;"
   ]
  },
  {
   "cell_type": "markdown",
   "id": "0622ee0e",
   "metadata": {},
   "source": [
    "### union types\n",
    "\n",
    "the `Type and AnyOf` types provide commonly supported union types. "
   ]
  },
  {
   "cell_type": "code",
   "execution_count": 18,
   "id": "20f6f895",
   "metadata": {},
   "outputs": [],
   "source": [
    "    assert typing.Union[int, float] == Type[int, float].py() == (Integer | Float).py() == Integer.or_(Float).py()"
   ]
  },
  {
   "cell_type": "code",
   "execution_count": 19,
   "id": "ada1e498",
   "metadata": {},
   "outputs": [],
   "source": [
    "    assert Type[int, float](1) == 1"
   ]
  },
  {
   "cell_type": "code",
   "execution_count": 20,
   "id": "12215fda",
   "metadata": {},
   "outputs": [],
   "source": [
    "    assert Integer | Float == Integer.or_(Float)"
   ]
  },
  {
   "cell_type": "code",
   "execution_count": 21,
   "id": "c91d5fbd",
   "metadata": {},
   "outputs": [],
   "source": [
    "    assert Integer ^ Float == Integer.xor(Float)"
   ]
  }
 ],
 "metadata": {
  "kernelspec": {
   "display_name": "Python 3",
   "language": "python",
   "name": "python3"
  },
  "language_info": {
   "codemirror_mode": {
    "name": "ipython",
    "version": 3
   },
   "file_extension": ".py",
   "mimetype": "text/x-python",
   "name": "python",
   "nbconvert_exporter": "python",
   "pygments_lexer": "ipython3",
   "version": "3.7.7"
  }
 },
 "nbformat": 4,
 "nbformat_minor": 5
}
