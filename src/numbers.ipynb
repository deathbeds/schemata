{
 "cells": [
  {
   "cell_type": "markdown",
   "id": "6b0f92c1",
   "metadata": {},
   "source": [
    "# the `Numeric` types"
   ]
  },
  {
   "cell_type": "code",
   "execution_count": 1,
   "id": "562fa043",
   "metadata": {},
   "outputs": [],
   "source": [
    "    from schemata import *"
   ]
  },
  {
   "cell_type": "code",
   "execution_count": 2,
   "id": "eeee5c24",
   "metadata": {},
   "outputs": [],
   "source": [
    "    assert Integer(1) == 1\n",
    "    exceptions.raises(Integer, 1.1)\n",
    "    exceptions.raises(Integer, \"1\")"
   ]
  },
  {
   "cell_type": "code",
   "execution_count": 3,
   "id": "45a01114",
   "metadata": {},
   "outputs": [],
   "source": [
    "    assert Float(1.1) == 1.1\n",
    "    exceptions.raises(Float, \"1.1\")\n",
    "    exceptions.raises(Float, 1)    "
   ]
  },
  {
   "cell_type": "code",
   "execution_count": 4,
   "id": "58e0f88f",
   "metadata": {},
   "outputs": [],
   "source": [
    "    assert Integer.cast()(1.1) == Integer.cast()(\"1\") == 1"
   ]
  },
  {
   "cell_type": "code",
   "execution_count": 5,
   "id": "bf7ce293",
   "metadata": {},
   "outputs": [],
   "source": [
    "    assert Float.cast()(1) == 1\n",
    "    assert Float.cast()(\"1.1\") == 1.1"
   ]
  },
  {
   "cell_type": "markdown",
   "id": "b7811cd0",
   "metadata": {},
   "source": [
    "## constraining `Numeric` types"
   ]
  },
  {
   "cell_type": "code",
   "execution_count": 6,
   "id": "769704d2",
   "metadata": {},
   "outputs": [],
   "source": [
    "    Constraint = Numeric.Minimum[1] + Numeric.Maximum[10]"
   ]
  },
  {
   "cell_type": "code",
   "execution_count": 7,
   "id": "73d9080c",
   "metadata": {},
   "outputs": [
    {
     "data": {
      "text/plain": [
       "{'allOf': ({'anyOf': ({'type': 'integer'}, {'type': 'number'})},\n",
       "  {'minimum': 1, 'maximum': 10})}"
      ]
     },
     "execution_count": 7,
     "metadata": {},
     "output_type": "execute_result"
    }
   ],
   "source": [
    "    ConstrainedNumber = Integer.or_(Float).and_(Constraint)\n",
    "    ConstrainedNumber.schema(True)"
   ]
  },
  {
   "cell_type": "code",
   "execution_count": 8,
   "id": "0ae74311",
   "metadata": {},
   "outputs": [
    {
     "data": {
      "text/plain": [
       "{'allOf': ({'type': ({'description': \"int([x]) -> integer\\nint(x, base=10) -> integer\\n\\nConvert a number or string to an integer, or return 0 if no arguments\\nare given.  If x is a number, return x.__int__().  For floating point\\nnumbers, this truncates towards zero.\\n\\nIf x is not a number or if base is given, then x must be a string,\\nbytes, or bytearray instance representing an integer literal in the\\ngiven base.  The literal can be preceded by '+' or '-' and be surrounded\\nby whitespace.  The base defaults to 10.  Valid bases are 0 and 2-36.\\nBase 0 means to interpret the base from the string as an integer literal.\\n>>> int('0b100', base=0)\\n4\"},\n",
       "    {'description': 'Convert a string or number to a floating point number, if possible.'})},\n",
       "  {'minimum': 1, 'maximum': 10})}"
      ]
     },
     "execution_count": 8,
     "metadata": {},
     "output_type": "execute_result"
    }
   ],
   "source": [
    "    Type[int, float].and_(Constraint).schema(None)"
   ]
  },
  {
   "cell_type": "code",
   "execution_count": 9,
   "id": "32c252a6",
   "metadata": {},
   "outputs": [
    {
     "data": {
      "text/plain": [
       "{'type': 'number', 'minimum': 1, 'maximum': 10}"
      ]
     },
     "execution_count": 9,
     "metadata": {},
     "output_type": "execute_result"
    }
   ],
   "source": [
    "    Float[1:10].schema(1)"
   ]
  },
  {
   "cell_type": "code",
   "execution_count": 10,
   "id": "3e0f2e87",
   "metadata": {},
   "outputs": [],
   "source": [
    "    assert ConstrainedNumber(1), ConstrainedNumber(9.9999)\n",
    "    exceptions.raises(ConstrainedNumber, 0)\n",
    "    exceptions.raises(ConstrainedNumber, 10.00001)"
   ]
  },
  {
   "cell_type": "markdown",
   "id": "121ed8ff",
   "metadata": {},
   "source": [
    "## combining and casting numeric values"
   ]
  }
 ],
 "metadata": {
  "kernelspec": {
   "display_name": "Python 3",
   "language": "python",
   "name": "python3"
  },
  "language_info": {
   "codemirror_mode": {
    "name": "ipython",
    "version": 3
   },
   "file_extension": ".py",
   "mimetype": "text/x-python",
   "name": "python",
   "nbconvert_exporter": "python",
   "pygments_lexer": "ipython3",
   "version": "3.7.7"
  }
 },
 "nbformat": 4,
 "nbformat_minor": 5
}
