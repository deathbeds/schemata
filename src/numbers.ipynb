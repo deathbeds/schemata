{
 "cells": [
  {
   "cell_type": "markdown",
   "id": "ad61266d",
   "metadata": {},
   "source": [
    "# the `Numeric` types"
   ]
  },
  {
   "cell_type": "code",
   "execution_count": 1,
   "id": "9c8e7e12",
   "metadata": {},
   "outputs": [],
   "source": [
    "    from schemata import *"
   ]
  },
  {
   "cell_type": "code",
   "execution_count": 2,
   "id": "ee5027a1",
   "metadata": {},
   "outputs": [],
   "source": [
    "    assert Integer(1) == 1\n",
    "    exceptions.raises(Integer, 1.1)\n",
    "    exceptions.raises(Integer, \"1\")"
   ]
  },
  {
   "cell_type": "code",
   "execution_count": 3,
   "id": "69964c63",
   "metadata": {},
   "outputs": [],
   "source": [
    "    assert Float(1.1) == 1.1\n",
    "    exceptions.raises(Float, \"1.1\")\n",
    "    exceptions.raises(Float, 1)    "
   ]
  },
  {
   "cell_type": "code",
   "execution_count": 4,
   "id": "a00fb8e9",
   "metadata": {},
   "outputs": [],
   "source": [
    "    assert Integer.cast()(1.1) == Integer.cast()(\"1\") == 1"
   ]
  },
  {
   "cell_type": "code",
   "execution_count": 5,
   "id": "972d582b",
   "metadata": {},
   "outputs": [],
   "source": [
    "    assert Float.cast()(1) == 1\n",
    "    assert Float.cast()(\"1.1\") == 1.1"
   ]
  },
  {
   "cell_type": "markdown",
   "id": "69aa841c",
   "metadata": {},
   "source": [
    "## constraining `Numeric` types"
   ]
  },
  {
   "cell_type": "code",
   "execution_count": 6,
   "id": "c62278ae",
   "metadata": {},
   "outputs": [],
   "source": [
    "    Constraint = Numeric.Minimum[1] + Numeric.Maximum[10]"
   ]
  },
  {
   "cell_type": "code",
   "execution_count": 7,
   "id": "a7ecb224",
   "metadata": {},
   "outputs": [
    {
     "data": {
      "text/plain": [
       "{'allOf': ({'anyOf': ({'type': 'integer'}, {'type': 'number'})},\n",
       "  {'minimum': 1, 'maximum': 10})}"
      ]
     },
     "execution_count": 7,
     "metadata": {},
     "output_type": "execute_result"
    }
   ],
   "source": [
    "    ConstrainedNumber = Integer.or_(Float).and_(Constraint)\n",
    "    ConstrainedNumber.schema(True)"
   ]
  },
  {
   "cell_type": "code",
   "execution_count": 8,
   "id": "6bc3b9e0",
   "metadata": {},
   "outputs": [
    {
     "data": {
      "text/plain": [
       "{'allOf': (abc.Type, abc.Minimum)}"
      ]
     },
     "execution_count": 8,
     "metadata": {},
     "output_type": "execute_result"
    }
   ],
   "source": [
    "    Type[int, float].and_(Constraint).schema(None)"
   ]
  },
  {
   "cell_type": "code",
   "execution_count": 9,
   "id": "33316607",
   "metadata": {},
   "outputs": [
    {
     "data": {
      "text/plain": [
       "{'type': 'number', 'minimum': 1, 'maximum': 10}"
      ]
     },
     "execution_count": 9,
     "metadata": {},
     "output_type": "execute_result"
    }
   ],
   "source": [
    "    Float[1:10].schema(1)"
   ]
  },
  {
   "cell_type": "code",
   "execution_count": 10,
   "id": "887e6a6f",
   "metadata": {},
   "outputs": [],
   "source": [
    "    assert ConstrainedNumber(1), ConstrainedNumber(9.9999)\n",
    "    exceptions.raises(ConstrainedNumber, 0)\n",
    "    exceptions.raises(ConstrainedNumber, 10.00001)"
   ]
  },
  {
   "cell_type": "markdown",
   "id": "05baab36",
   "metadata": {},
   "source": [
    "## combining and casting numeric values"
   ]
  }
 ],
 "metadata": {
  "kernelspec": {
   "display_name": "Python 3",
   "language": "python",
   "name": "python3"
  },
  "language_info": {
   "codemirror_mode": {
    "name": "ipython",
    "version": 3
   },
   "file_extension": ".py",
   "mimetype": "text/x-python",
   "name": "python",
   "nbconvert_exporter": "python",
   "pygments_lexer": "ipython3",
   "version": "3.7.7"
  }
 },
 "nbformat": 4,
 "nbformat_minor": 5
}