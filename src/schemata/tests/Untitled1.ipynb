{
 "cells": [
  {
   "cell_type": "markdown",
   "id": "66f851fa",
   "metadata": {},
   "source": [
    "# Working with `Dict`ionaries\n",
    "\n",
    "`Dict` object provide a fluent interface to interact with your dictionary."
   ]
  },
  {
   "cell_type": "code",
   "execution_count": 1,
   "id": "587b77b3",
   "metadata": {},
   "outputs": [],
   "source": [
    "    from schemata import *\n",
    "    import string\n",
    "\n",
    "    data = Dict[Integer].cast()(zip(string.ascii_lowercase, range(len(string.digits))))"
   ]
  },
  {
   "cell_type": "code",
   "execution_count": 2,
   "id": "101aa120",
   "metadata": {},
   "outputs": [],
   "source": [
    "    assert List.sorted().cast()(reversed(string.ascii_lowercase)) == List.sorted().cast()(string.ascii_lowercase)"
   ]
  },
  {
   "cell_type": "code",
   "execution_count": 3,
   "id": "2cf2db99",
   "metadata": {},
   "outputs": [
    {
     "name": "stdout",
     "output_type": "stream",
     "text": [
      "(True,)\n"
     ]
    },
    {
     "data": {
      "text/plain": [
       "abc.Sorted"
      ]
     },
     "execution_count": 3,
     "metadata": {},
     "output_type": "execute_result"
    }
   ],
   "source": [
    "    List.Sorted[True]"
   ]
  },
  {
   "cell_type": "code",
   "execution_count": 4,
   "id": "a4a639dd",
   "metadata": {},
   "outputs": [
    {
     "name": "stdout",
     "output_type": "stream",
     "text": [
      "(False,)\n"
     ]
    },
    {
     "data": {
      "text/plain": [
       "{'type': 'array', 'sorted': (False,)}"
      ]
     },
     "execution_count": 4,
     "metadata": {},
     "output_type": "execute_result"
    }
   ],
   "source": [
    "    List.sorted(False).schema()"
   ]
  },
  {
   "cell_type": "code",
   "execution_count": null,
   "id": "802a339c",
   "metadata": {},
   "outputs": [],
   "source": [
    "sorted()"
   ]
  },
  {
   "cell_type": "code",
   "execution_count": 7,
   "id": "39512642",
   "metadata": {},
   "outputs": [],
   "source": [
    "    assert data.map(str) == dict(zip(string.ascii_letters[:len(data)], string.digits))"
   ]
  },
  {
   "cell_type": "code",
   "execution_count": 8,
   "id": "187fddf9",
   "metadata": {},
   "outputs": [],
   "source": [
    "    import math"
   ]
  },
  {
   "cell_type": "code",
   "execution_count": 35,
   "id": "061b2462",
   "metadata": {},
   "outputs": [
    {
     "data": {
      "text/plain": [
       "{'2': '0', '1': '1', '0': '2'}"
      ]
     },
     "execution_count": 35,
     "metadata": {},
     "output_type": "execute_result"
    }
   ],
   "source": [
    "    Dict.cast()(zip(reversed(range(3)), range(3))).itemmap(str)\n",
    "    Dict.cast()(zip(reversed(range(3)), range(3))).itemmap(str, str)"
   ]
  },
  {
   "cell_type": "code",
   "execution_count": 30,
   "id": "a1d07bed",
   "metadata": {},
   "outputs": [
    {
     "data": {
      "text/plain": [
       "(<function schemata.objects.Dict.keyfilter(self, callable=<class 'schemata.utils.EMPTY'>, *args, **kwargs)>,\n",
       " <function schemata.objects.Dict.valfilter(self, callable=<class 'schemata.utils.EMPTY'>, *args, **kwargs)>,\n",
       " <function schemata.objects.Dict.itemfilter(self, key=<class 'schemata.utils.EMPTY'>, value=<class 'schemata.utils.EMPTY'>, *args, **kwargs)>)"
      ]
     },
     "execution_count": 30,
     "metadata": {},
     "output_type": "execute_result"
    }
   ],
   "source": [
    "    assert data.filter(int.__lt__, args=(3,)) == dict(zip(\"abc\", range(3)))\n",
    "    Dict.keymap, Dict.valmap, Dict.itemmap\n",
    "    Dict.keyfilter, Dict.valfilter, Dict.itemfilter\n",
    "    Dict.items, Dict.values, Dict.keys"
   ]
  },
  {
   "cell_type": "markdown",
   "id": "693f1977",
   "metadata": {},
   "source": [
    "## Mapping"
   ]
  },
  {
   "cell_type": "markdown",
   "id": "90ab0723",
   "metadata": {},
   "source": [
    "## Filtering"
   ]
  },
  {
   "cell_type": "markdown",
   "id": "fe5dbd32",
   "metadata": {},
   "source": [
    "## Piping"
   ]
  },
  {
   "cell_type": "markdown",
   "id": "61e15b2f",
   "metadata": {},
   "source": [
    "## iterating on `Dict`s\n",
    "\n",
    "the standard `dict.keys, dict.values and dict.items` provide affordances for chained type manipulation."
   ]
  },
  {
   "cell_type": "code",
   "execution_count": null,
   "id": "8cf5d8d5",
   "metadata": {},
   "outputs": [],
   "source": []
  }
 ],
 "metadata": {
  "kernelspec": {
   "display_name": "Python 3",
   "language": "python",
   "name": "python3"
  },
  "language_info": {
   "codemirror_mode": {
    "name": "ipython",
    "version": 3
   },
   "file_extension": ".py",
   "mimetype": "text/x-python",
   "name": "python",
   "nbconvert_exporter": "python",
   "pygments_lexer": "ipython3",
   "version": "3.7.7"
  }
 },
 "nbformat": 4,
 "nbformat_minor": 5
}
