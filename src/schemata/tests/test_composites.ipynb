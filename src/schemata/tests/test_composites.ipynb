{
 "cells": [
  {
   "cell_type": "markdown",
   "id": "401c1822",
   "metadata": {},
   "source": [
    "# `composites`"
   ]
  },
  {
   "cell_type": "code",
   "execution_count": 1,
   "id": "8321ce05",
   "metadata": {},
   "outputs": [],
   "source": [
    "    from schemata import *; import pytest"
   ]
  },
  {
   "cell_type": "markdown",
   "id": "552f36d6",
   "metadata": {},
   "source": [
    "`composites` are types that define conditions on other type. the composites are:"
   ]
  },
  {
   "cell_type": "code",
   "execution_count": 2,
   "id": "942cb69d",
   "metadata": {},
   "outputs": [
    {
     "name": "stdout",
     "output_type": "stream",
     "text": [
      "AllOf, AnyOf, OneOf, Not, If, Else, Then\n"
     ]
    }
   ],
   "source": [
    "    print(\"AllOf, AnyOf, OneOf, Not, If, Else, Then\")"
   ]
  },
  {
   "cell_type": "markdown",
   "id": "01f3077b",
   "metadata": {},
   "source": [
    "## `AnyOf`\n",
    "\n",
    "the `AnyOf` type verifies if any of the conditions are valid, and returns the valid type"
   ]
  },
  {
   "cell_type": "code",
   "execution_count": 25,
   "id": "354e4ee2",
   "metadata": {},
   "outputs": [],
   "source": [
    "    Number = AnyOf[Integer, Float] and Integer | Float"
   ]
  },
  {
   "cell_type": "markdown",
   "id": "286f227e",
   "metadata": {},
   "source": [
    "the `Number` type, as an `AnyOf` type, is equivalent to python's `typing.Union`"
   ]
  },
  {
   "cell_type": "code",
   "execution_count": 4,
   "id": "bd84c90a",
   "metadata": {},
   "outputs": [
    {
     "data": {
      "text/plain": [
       "typing.Union[int, float]"
      ]
     },
     "execution_count": 4,
     "metadata": {},
     "output_type": "execute_result"
    }
   ],
   "source": [
    "    Number.py()"
   ]
  },
  {
   "cell_type": "code",
   "execution_count": 5,
   "id": "809528c1",
   "metadata": {},
   "outputs": [],
   "source": [
    "    def test_number():\n",
    "        assert Number(1) is 1\n",
    "        assert Number(1.1) == 1.1"
   ]
  },
  {
   "cell_type": "markdown",
   "id": "73fe52d9",
   "metadata": {},
   "source": [
    "## `Not`\n",
    "\n",
    "`Not` is a composite that negates a type condition. the statement below defines types that are NOT `Number`s"
   ]
  },
  {
   "cell_type": "code",
   "execution_count": 21,
   "id": "3b25e100",
   "metadata": {},
   "outputs": [],
   "source": [
    "    NotNumber = Not[Number] and -Number"
   ]
  },
  {
   "cell_type": "code",
   "execution_count": 11,
   "id": "f4c99776",
   "metadata": {},
   "outputs": [],
   "source": [
    "    def test_not_number():\n",
    "        assert NotNumber(\"a\") \n",
    "        assert NotNumber([1])"
   ]
  },
  {
   "cell_type": "markdown",
   "id": "cc350ee4",
   "metadata": {},
   "source": [
    "## `AllOf`"
   ]
  },
  {
   "cell_type": "code",
   "execution_count": 27,
   "id": "2602b61a",
   "metadata": {},
   "outputs": [],
   "source": [
    "    PositiveNumber = AllOf[Number, Integer.ExclusiveMinimum[0]] and Number & Integer.ExclusiveMinimum[0]"
   ]
  },
  {
   "cell_type": "code",
   "execution_count": 28,
   "id": "eae509b9",
   "metadata": {},
   "outputs": [],
   "source": [
    "    def test_positive_number():\n",
    "        with pytest.raises(ValidationError):\n",
    "            PositiveNumber(0)\n",
    "        assert PositiveNumber(1) is 1\n"
   ]
  },
  {
   "cell_type": "markdown",
   "id": "089381a3",
   "metadata": {},
   "source": [
    "## `OneOf`"
   ]
  },
  {
   "cell_type": "code",
   "execution_count": 29,
   "id": "437baad8",
   "metadata": {},
   "outputs": [],
   "source": [
    "    OneOfNumber = OneOf[Integer, Float] and Integer ^ Float"
   ]
  },
  {
   "cell_type": "markdown",
   "id": "95f67351",
   "metadata": {},
   "source": [
    "# `If, Then and Else`"
   ]
  },
  {
   "cell_type": "code",
   "execution_count": null,
   "id": "5c6ccbdb",
   "metadata": {},
   "outputs": [],
   "source": [
    "    If[]"
   ]
  }
 ],
 "metadata": {
  "kernelspec": {
   "display_name": "Python 3",
   "language": "python",
   "name": "python3"
  },
  "language_info": {
   "codemirror_mode": {
    "name": "ipython",
    "version": 3
   },
   "file_extension": ".py",
   "mimetype": "text/x-python",
   "name": "python",
   "nbconvert_exporter": "python",
   "pygments_lexer": "ipython3",
   "version": "3.7.7"
  }
 },
 "nbformat": 4,
 "nbformat_minor": 5
}
