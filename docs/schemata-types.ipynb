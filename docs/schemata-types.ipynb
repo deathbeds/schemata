{
 "cells": [
  {
   "cell_type": "markdown",
   "id": "impressed-cycling",
   "metadata": {},
   "source": [
    "# `schemata` types and traits"
   ]
  },
  {
   "cell_type": "markdown",
   "id": "bacterial-paragraph",
   "metadata": {},
   "source": [
    "`schemata` is python type/trait system based on that jsonschema. the `schemata` types build jsonschema that describe test case, validation, observable patterns, and visualization.\n",
    "\n",
    "the document outlines the primary `schemata` as direct invocations. see the /extras/ipython-extension.ipynb example for indirect invocations.\n",
    "\n",
    "`schemata` includes the an implementation of the react json schema form ui schema using `ipywidgets` allowing for rich interactive displays."
   ]
  },
  {
   "cell_type": "code",
   "execution_count": 17,
   "id": "tough-pursuit",
   "metadata": {},
   "outputs": [],
   "source": [
    "from schemata import *"
   ]
  },
  {
   "cell_type": "markdown",
   "id": "boring-madonna",
   "metadata": {},
   "source": [
    "## the `String` type"
   ]
  },
  {
   "cell_type": "markdown",
   "id": "signed-beijing",
   "metadata": {},
   "source": [
    "the `String` is a normal python string that can contain extended types descriptions for enhanced validation and representation."
   ]
  },
  {
   "cell_type": "code",
   "execution_count": 18,
   "id": "insured-appearance",
   "metadata": {},
   "outputs": [
    {
     "data": {
      "text/plain": [
       "'abc'"
      ]
     },
     "execution_count": 18,
     "metadata": {},
     "output_type": "execute_result"
    }
   ],
   "source": [
    "    String(\"abc\")"
   ]
  },
  {
   "cell_type": "code",
   "execution_count": 19,
   "id": "earned-photograph",
   "metadata": {},
   "outputs": [
    {
     "data": {
      "application/vnd.jupyter.widget-view+json": {
       "model_id": "7002170361c4490b8de9e82220eb964e",
       "version_major": 2,
       "version_minor": 0
      },
      "text/plain": [
       "Text(value='abc')"
      ]
     },
     "metadata": {},
     "output_type": "display_data"
    }
   ],
   "source": [
    "    String.text()(\"abc\")"
   ]
  },
  {
   "cell_type": "markdown",
   "id": "micro-saying",
   "metadata": {},
   "source": [
    "### regular expressions"
   ]
  },
  {
   "cell_type": "markdown",
   "id": "adaptive-enclosure",
   "metadata": {},
   "source": [
    "one condition is a `String.Pattern` that defines a regular expression that validates the input."
   ]
  },
  {
   "cell_type": "code",
   "execution_count": 20,
   "id": "upper-flower",
   "metadata": {},
   "outputs": [
    {
     "data": {
      "text/plain": [
       "'abc'"
      ]
     },
     "execution_count": 20,
     "metadata": {},
     "output_type": "execute_result"
    }
   ],
   "source": [
    "    String.pattern(\"^a\")(\"abc\")"
   ]
  },
  {
   "cell_type": "markdown",
   "id": "diagnostic-spotlight",
   "metadata": {},
   "source": [
    "another situation is a string that is a regular expression."
   ]
  },
  {
   "cell_type": "code",
   "execution_count": 21,
   "id": "experienced-selection",
   "metadata": {},
   "outputs": [
    {
     "data": {
      "text/plain": [
       "<re.Match object; span=(0, 1), match='a'>"
      ]
     },
     "execution_count": 21,
     "metadata": {},
     "output_type": "execute_result"
    }
   ],
   "source": [
    "    strings.Regex(\"^a\").match(\"abc\")"
   ]
  },
  {
   "cell_type": "markdown",
   "id": "intellectual-mexico",
   "metadata": {},
   "source": [
    "## the `Enum` type"
   ]
  },
  {
   "cell_type": "code",
   "execution_count": 22,
   "id": "possible-bobby",
   "metadata": {},
   "outputs": [
    {
     "data": {
      "text/plain": [
       "'a'"
      ]
     },
     "execution_count": 22,
     "metadata": {},
     "output_type": "execute_result"
    }
   ],
   "source": [
    "    Enum[\"a\", \"b\"](\"a\")"
   ]
  },
  {
   "cell_type": "markdown",
   "id": "competent-ethiopia",
   "metadata": {},
   "source": [
    "## the `Integer and Float` types"
   ]
  },
  {
   "cell_type": "code",
   "execution_count": 23,
   "id": "bound-verse",
   "metadata": {},
   "outputs": [],
   "source": [
    "    import math"
   ]
  },
  {
   "cell_type": "code",
   "execution_count": 24,
   "id": "imported-driver",
   "metadata": {},
   "outputs": [
    {
     "data": {
      "text/plain": [
       "(1, 3.141592653589793)"
      ]
     },
     "execution_count": 24,
     "metadata": {},
     "output_type": "execute_result"
    }
   ],
   "source": [
    "    Integer(1), Float(math.pi)"
   ]
  },
  {
   "cell_type": "code",
   "execution_count": 25,
   "id": "employed-energy",
   "metadata": {},
   "outputs": [
    {
     "data": {
      "application/vnd.jupyter.widget-view+json": {
       "model_id": "96bdbddc02cc40f391c2ac9d27642393",
       "version_major": 2,
       "version_minor": 0
      },
      "text/plain": [
       "IntSlider(value=4, step=2)"
      ]
     },
     "metadata": {},
     "output_type": "display_data"
    }
   ],
   "source": [
    "    Integer.minimum(0).maximum(100).multipleOf(2).range()(4)"
   ]
  },
  {
   "cell_type": "code",
   "execution_count": 26,
   "id": "homeless-excellence",
   "metadata": {},
   "outputs": [
    {
     "data": {
      "application/vnd.jupyter.widget-view+json": {
       "model_id": "1f6e428f00e647679381dcc12b8a45b5",
       "version_major": 2,
       "version_minor": 0
      },
      "text/plain": [
       "BoundedFloatText(value=3.141592653589793)"
      ]
     },
     "metadata": {},
     "output_type": "display_data"
    }
   ],
   "source": [
    "    Float.minimum(0).maximum(100).text()(math.pi)"
   ]
  },
  {
   "cell_type": "markdown",
   "id": "regulation-motorcycle",
   "metadata": {},
   "source": [
    "## the `List` type"
   ]
  },
  {
   "cell_type": "code",
   "execution_count": 27,
   "id": "lyric-gentleman",
   "metadata": {},
   "outputs": [
    {
     "data": {
      "text/plain": [
       "[1, 'a', 2, 'b']"
      ]
     },
     "execution_count": 27,
     "metadata": {},
     "output_type": "execute_result"
    }
   ],
   "source": [
    "    List([1, \"a\", 2, \"b\"])"
   ]
  },
  {
   "cell_type": "code",
   "execution_count": 12,
   "id": "urban-trustee",
   "metadata": {},
   "outputs": [
    {
     "data": {
      "text/plain": [
       "['a', 'b']"
      ]
     },
     "execution_count": 12,
     "metadata": {},
     "output_type": "execute_result"
    }
   ],
   "source": [
    "    List[String]([\"a\", \"b\"])"
   ]
  },
  {
   "cell_type": "code",
   "execution_count": 13,
   "id": "charming-gauge",
   "metadata": {},
   "outputs": [
    {
     "data": {
      "text/plain": [
       "[1, 2]"
      ]
     },
     "execution_count": 13,
     "metadata": {},
     "output_type": "execute_result"
    }
   ],
   "source": [
    "    List.minItems(1).maxItems(3)([1, 2])"
   ]
  },
  {
   "cell_type": "markdown",
   "id": "reported-biodiversity",
   "metadata": {},
   "source": [
    "## the `Null` type"
   ]
  },
  {
   "cell_type": "code",
   "execution_count": 14,
   "id": "legendary-walter",
   "metadata": {},
   "outputs": [],
   "source": [
    "    assert Null() is Null(None) is Null[None]() is None"
   ]
  },
  {
   "cell_type": "markdown",
   "id": "cleared-absorption",
   "metadata": {},
   "source": [
    "## the `Bool` type"
   ]
  },
  {
   "cell_type": "code",
   "execution_count": 15,
   "id": "wanted-strength",
   "metadata": {},
   "outputs": [],
   "source": [
    "    assert Bool() is Bool[False]() is Bool[True](False) is bool() is False"
   ]
  },
  {
   "cell_type": "code",
   "execution_count": 16,
   "id": "australian-rochester",
   "metadata": {},
   "outputs": [],
   "source": [
    "    assert Bool(True) is Bool[True]() is Bool[False](True) is True"
   ]
  },
  {
   "cell_type": "code",
   "execution_count": null,
   "id": "focal-sight",
   "metadata": {},
   "outputs": [],
   "source": []
  }
 ],
 "metadata": {
  "kernelspec": {
   "display_name": "Python 3",
   "language": "python",
   "name": "python3"
  },
  "language_info": {
   "codemirror_mode": {
    "name": "ipython",
    "version": 3
   },
   "file_extension": ".py",
   "mimetype": "text/x-python",
   "name": "python",
   "nbconvert_exporter": "python",
   "pygments_lexer": "ipython3",
   "version": "3.7.7"
  }
 },
 "nbformat": 4,
 "nbformat_minor": 5
}
