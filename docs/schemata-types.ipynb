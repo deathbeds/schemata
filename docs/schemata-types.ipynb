{
 "cells": [
  {
   "cell_type": "markdown",
   "id": "single-agreement",
   "metadata": {},
   "source": [
    "# `schemata` types and traits"
   ]
  },
  {
   "cell_type": "code",
   "execution_count": 1,
   "id": "hungarian-surrey",
   "metadata": {},
   "outputs": [],
   "source": [
    "from schemata import *"
   ]
  },
  {
   "cell_type": "markdown",
   "id": "hidden-damage",
   "metadata": {},
   "source": [
    "## the `String` type"
   ]
  },
  {
   "cell_type": "markdown",
   "id": "bulgarian-syntax",
   "metadata": {},
   "source": [
    "the `String` is a normal python string that can contain extended types descriptions for enhanced validation and representation."
   ]
  },
  {
   "cell_type": "code",
   "execution_count": 2,
   "id": "changed-trunk",
   "metadata": {},
   "outputs": [
    {
     "data": {
      "text/plain": [
       "'abc'"
      ]
     },
     "execution_count": 2,
     "metadata": {},
     "output_type": "execute_result"
    }
   ],
   "source": [
    "    String(\"abc\")"
   ]
  },
  {
   "cell_type": "code",
   "execution_count": 3,
   "id": "green-entrepreneur",
   "metadata": {},
   "outputs": [
    {
     "data": {
      "application/vnd.jupyter.widget-view+json": {
       "model_id": "7ccdc8f8ff7d4b349cf279099f654dfb",
       "version_major": 2,
       "version_minor": 0
      },
      "text/plain": [
       "Text(value='abc')"
      ]
     },
     "metadata": {},
     "output_type": "display_data"
    }
   ],
   "source": [
    "    String.text()(\"abc\")"
   ]
  },
  {
   "cell_type": "markdown",
   "id": "royal-staff",
   "metadata": {},
   "source": [
    "### regular expressions"
   ]
  },
  {
   "cell_type": "markdown",
   "id": "dimensional-sentence",
   "metadata": {},
   "source": [
    "one condition is a `String.Pattern` that defines a regular expression that validates the input."
   ]
  },
  {
   "cell_type": "code",
   "execution_count": 4,
   "id": "nasty-navigator",
   "metadata": {},
   "outputs": [
    {
     "data": {
      "text/plain": [
       "'abc'"
      ]
     },
     "execution_count": 4,
     "metadata": {},
     "output_type": "execute_result"
    }
   ],
   "source": [
    "    String.pattern(\"^a\")(\"abc\")"
   ]
  },
  {
   "cell_type": "markdown",
   "id": "related-firmware",
   "metadata": {},
   "source": [
    "another situation is a string that is a regular expression."
   ]
  },
  {
   "cell_type": "code",
   "execution_count": 5,
   "id": "together-session",
   "metadata": {},
   "outputs": [
    {
     "data": {
      "text/plain": [
       "<re.Match object; span=(0, 1), match='a'>"
      ]
     },
     "execution_count": 5,
     "metadata": {},
     "output_type": "execute_result"
    }
   ],
   "source": [
    "    strings.Regex(\"^a\").match(\"abc\")"
   ]
  },
  {
   "cell_type": "markdown",
   "id": "arranged-uncle",
   "metadata": {},
   "source": [
    "## the `Enum` type"
   ]
  },
  {
   "cell_type": "code",
   "execution_count": 6,
   "id": "muslim-curve",
   "metadata": {},
   "outputs": [
    {
     "data": {
      "text/plain": [
       "'a'"
      ]
     },
     "execution_count": 6,
     "metadata": {},
     "output_type": "execute_result"
    }
   ],
   "source": [
    "    Enum[\"a\", \"b\"](\"a\")"
   ]
  },
  {
   "cell_type": "markdown",
   "id": "temporal-police",
   "metadata": {},
   "source": [
    "## the `Integer and Float` types"
   ]
  },
  {
   "cell_type": "code",
   "execution_count": 7,
   "id": "cognitive-singing",
   "metadata": {},
   "outputs": [],
   "source": [
    "    import math"
   ]
  },
  {
   "cell_type": "code",
   "execution_count": 8,
   "id": "about-hampton",
   "metadata": {},
   "outputs": [
    {
     "data": {
      "text/plain": [
       "(1, 3.141592653589793)"
      ]
     },
     "execution_count": 8,
     "metadata": {},
     "output_type": "execute_result"
    }
   ],
   "source": [
    "    Integer(1), Float(math.pi)"
   ]
  },
  {
   "cell_type": "code",
   "execution_count": 9,
   "id": "norwegian-keyboard",
   "metadata": {},
   "outputs": [
    {
     "data": {
      "application/vnd.jupyter.widget-view+json": {
       "model_id": "e80b101900dc4768aece0b861b909da9",
       "version_major": 2,
       "version_minor": 0
      },
      "text/plain": [
       "IntSlider(value=4, step=2)"
      ]
     },
     "metadata": {},
     "output_type": "display_data"
    }
   ],
   "source": [
    "    Integer.minimum(0).maximum(100).multipleOf(2).range()(4)"
   ]
  },
  {
   "cell_type": "code",
   "execution_count": 10,
   "id": "overall-mediterranean",
   "metadata": {},
   "outputs": [
    {
     "data": {
      "application/vnd.jupyter.widget-view+json": {
       "model_id": "80c13e75afda4db1a420b93fbae212f4",
       "version_major": 2,
       "version_minor": 0
      },
      "text/plain": [
       "BoundedFloatText(value=3.141592653589793)"
      ]
     },
     "metadata": {},
     "output_type": "display_data"
    }
   ],
   "source": [
    "    Float.minimum(0).maximum(100).text()(math.pi)"
   ]
  },
  {
   "cell_type": "markdown",
   "id": "armed-ghost",
   "metadata": {},
   "source": [
    "## the `List` type"
   ]
  },
  {
   "cell_type": "code",
   "execution_count": 11,
   "id": "false-chile",
   "metadata": {},
   "outputs": [
    {
     "data": {
      "text/plain": [
       "[1, 'a', 2, 'b']"
      ]
     },
     "execution_count": 11,
     "metadata": {},
     "output_type": "execute_result"
    }
   ],
   "source": [
    "    List([1, \"a\", 2, \"b\"])"
   ]
  },
  {
   "cell_type": "code",
   "execution_count": 12,
   "id": "impaired-dietary",
   "metadata": {},
   "outputs": [
    {
     "data": {
      "text/plain": [
       "['a', 'b']"
      ]
     },
     "execution_count": 12,
     "metadata": {},
     "output_type": "execute_result"
    }
   ],
   "source": [
    "    List[String]([\"a\", \"b\"])"
   ]
  },
  {
   "cell_type": "code",
   "execution_count": 13,
   "id": "european-decimal",
   "metadata": {},
   "outputs": [
    {
     "data": {
      "text/plain": [
       "[1, 2]"
      ]
     },
     "execution_count": 13,
     "metadata": {},
     "output_type": "execute_result"
    }
   ],
   "source": [
    "    List.minItems(1).maxItems(3)([1, 2])"
   ]
  },
  {
   "cell_type": "markdown",
   "id": "postal-bangkok",
   "metadata": {},
   "source": [
    "## Composite types"
   ]
  },
  {
   "cell_type": "markdown",
   "id": "structured-schedule",
   "metadata": {},
   "source": [
    "### AnyOf"
   ]
  },
  {
   "cell_type": "code",
   "execution_count": 14,
   "id": "valid-drain",
   "metadata": {},
   "outputs": [
    {
     "data": {
      "text/plain": [
       "abc.AnyOf"
      ]
     },
     "execution_count": 14,
     "metadata": {},
     "output_type": "execute_result"
    }
   ],
   "source": [
    "    Integer | String"
   ]
  },
  {
   "cell_type": "markdown",
   "id": "recent-cemetery",
   "metadata": {},
   "source": [
    "### OneOf"
   ]
  },
  {
   "cell_type": "code",
   "execution_count": 15,
   "id": "anticipated-tobacco",
   "metadata": {},
   "outputs": [
    {
     "data": {
      "text/plain": [
       "abc.OneOf"
      ]
     },
     "execution_count": 15,
     "metadata": {},
     "output_type": "execute_result"
    }
   ],
   "source": [
    "    Integer ^ String"
   ]
  },
  {
   "cell_type": "markdown",
   "id": "formed-speaking",
   "metadata": {},
   "source": [
    "### AllOf"
   ]
  },
  {
   "cell_type": "code",
   "execution_count": 16,
   "id": "laden-worst",
   "metadata": {},
   "outputs": [
    {
     "data": {
      "text/plain": [
       "abc.AllOf"
      ]
     },
     "execution_count": 16,
     "metadata": {},
     "output_type": "execute_result"
    }
   ],
   "source": [
    "    String & String.Pattern[\"^a\"]"
   ]
  },
  {
   "cell_type": "markdown",
   "id": "further-salon",
   "metadata": {},
   "source": [
    "## Python Types"
   ]
  },
  {
   "cell_type": "code",
   "execution_count": 17,
   "id": "responsible-seventh",
   "metadata": {},
   "outputs": [
    {
     "data": {
      "text/plain": [
       "schemata.types.Py"
      ]
     },
     "execution_count": 17,
     "metadata": {},
     "output_type": "execute_result"
    }
   ],
   "source": [
    "    Py"
   ]
  },
  {
   "cell_type": "markdown",
   "id": "small-prayer",
   "metadata": {},
   "source": [
    "## the `Null` type"
   ]
  },
  {
   "cell_type": "code",
   "execution_count": 18,
   "id": "english-gossip",
   "metadata": {},
   "outputs": [],
   "source": [
    "    assert Null() is Null(None) is Null[None]() is None"
   ]
  },
  {
   "cell_type": "markdown",
   "id": "front-intellectual",
   "metadata": {},
   "source": [
    "## the `Bool` type"
   ]
  },
  {
   "cell_type": "code",
   "execution_count": 19,
   "id": "working-tomorrow",
   "metadata": {},
   "outputs": [],
   "source": [
    "    assert Bool() is Bool[False]() is Bool[True](False) is bool() is False"
   ]
  },
  {
   "cell_type": "code",
   "execution_count": 20,
   "id": "japanese-valuable",
   "metadata": {},
   "outputs": [],
   "source": [
    "    assert Bool(True) is Bool[True]() is Bool[False](True) is True"
   ]
  },
  {
   "cell_type": "code",
   "execution_count": null,
   "id": "blank-rogers",
   "metadata": {},
   "outputs": [],
   "source": []
  }
 ],
 "metadata": {
  "kernelspec": {
   "display_name": "Python 3",
   "language": "python",
   "name": "python3"
  },
  "language_info": {
   "codemirror_mode": {
    "name": "ipython",
    "version": 3
   },
   "file_extension": ".py",
   "mimetype": "text/x-python",
   "name": "python",
   "nbconvert_exporter": "python",
   "pygments_lexer": "ipython3",
   "version": "3.7.7"
  }
 },
 "nbformat": 4,
 "nbformat_minor": 5
}
