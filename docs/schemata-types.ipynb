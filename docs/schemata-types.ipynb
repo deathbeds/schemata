{
 "cells": [
  {
   "cell_type": "markdown",
   "id": "described-experiment",
   "metadata": {},
   "source": [
    "# `schemata` types and traits"
   ]
  },
  {
   "cell_type": "markdown",
   "id": "rough-calendar",
   "metadata": {},
   "source": [
    "`schemata` is python type/trait system based on that jsonschema. the `schemata` types build jsonschema that describe test case, validation, observable patterns, and visualization.\n",
    "\n",
    "the document outlines the primary `schemata` as direct invocations. see the /extras/ipython-extension.ipynb example for indirect invocations.\n",
    "\n",
    "`schemata` includes the an implementation of the react json schema form ui schema using `ipywidgets` allowing for rich interactive displays."
   ]
  },
  {
   "cell_type": "code",
   "execution_count": 2,
   "id": "worst-string",
   "metadata": {},
   "outputs": [],
   "source": [
    "from schemata import *"
   ]
  },
  {
   "cell_type": "markdown",
   "id": "elegant-agenda",
   "metadata": {},
   "source": [
    "## the `String` type"
   ]
  },
  {
   "cell_type": "markdown",
   "id": "respiratory-infection",
   "metadata": {},
   "source": [
    "the `String` is a normal python string that can contain extended types descriptions for enhanced validation and representation."
   ]
  },
  {
   "cell_type": "code",
   "execution_count": 3,
   "id": "appreciated-watch",
   "metadata": {},
   "outputs": [
    {
     "data": {
      "text/plain": [
       "'abc'"
      ]
     },
     "execution_count": 3,
     "metadata": {},
     "output_type": "execute_result"
    }
   ],
   "source": [
    "    String(\"abc\")"
   ]
  },
  {
   "cell_type": "code",
   "execution_count": 4,
   "id": "posted-headline",
   "metadata": {},
   "outputs": [
    {
     "data": {
      "application/vnd.jupyter.widget-view+json": {
       "model_id": "c7ec31884cbd478bbef0d272a3f3a11a",
       "version_major": 2,
       "version_minor": 0
      },
      "text/plain": [
       "Text(value='abc')"
      ]
     },
     "metadata": {},
     "output_type": "display_data"
    }
   ],
   "source": [
    "    String.text()(\"abc\")"
   ]
  },
  {
   "cell_type": "markdown",
   "id": "fresh-mentor",
   "metadata": {},
   "source": [
    "### regular expressions"
   ]
  },
  {
   "cell_type": "markdown",
   "id": "above-radio",
   "metadata": {},
   "source": [
    "one condition is a `String.Pattern` that defines a regular expression that validates the input."
   ]
  },
  {
   "cell_type": "code",
   "execution_count": 20,
   "id": "severe-planning",
   "metadata": {},
   "outputs": [
    {
     "data": {
      "text/plain": [
       "'abc'"
      ]
     },
     "execution_count": 20,
     "metadata": {},
     "output_type": "execute_result"
    }
   ],
   "source": [
    "    String.pattern(\"^a\")(\"abc\")"
   ]
  },
  {
   "cell_type": "markdown",
   "id": "median-security",
   "metadata": {},
   "source": [
    "another situation is a string that is a regular expression."
   ]
  },
  {
   "cell_type": "code",
   "execution_count": 21,
   "id": "taken-transportation",
   "metadata": {},
   "outputs": [
    {
     "data": {
      "text/plain": [
       "<re.Match object; span=(0, 1), match='a'>"
      ]
     },
     "execution_count": 21,
     "metadata": {},
     "output_type": "execute_result"
    }
   ],
   "source": [
    "    strings.Regex(\"^a\").match(\"abc\")"
   ]
  },
  {
   "cell_type": "markdown",
   "id": "crazy-metallic",
   "metadata": {},
   "source": [
    "## the `Enum` type"
   ]
  },
  {
   "cell_type": "code",
   "execution_count": 22,
   "id": "administrative-method",
   "metadata": {},
   "outputs": [
    {
     "data": {
      "text/plain": [
       "'a'"
      ]
     },
     "execution_count": 22,
     "metadata": {},
     "output_type": "execute_result"
    }
   ],
   "source": [
    "    Enum[\"a\", \"b\"](\"a\")"
   ]
  },
  {
   "cell_type": "markdown",
   "id": "weighted-notification",
   "metadata": {},
   "source": [
    "## the `Integer and Float` types"
   ]
  },
  {
   "cell_type": "code",
   "execution_count": 23,
   "id": "valid-bookmark",
   "metadata": {},
   "outputs": [],
   "source": [
    "    import math"
   ]
  },
  {
   "cell_type": "code",
   "execution_count": 24,
   "id": "funky-dress",
   "metadata": {},
   "outputs": [
    {
     "data": {
      "text/plain": [
       "(1, 3.141592653589793)"
      ]
     },
     "execution_count": 24,
     "metadata": {},
     "output_type": "execute_result"
    }
   ],
   "source": [
    "    Integer(1), Float(math.pi)"
   ]
  },
  {
   "cell_type": "code",
   "execution_count": 25,
   "id": "sweet-brand",
   "metadata": {},
   "outputs": [
    {
     "data": {
      "application/vnd.jupyter.widget-view+json": {
       "model_id": "96bdbddc02cc40f391c2ac9d27642393",
       "version_major": 2,
       "version_minor": 0
      },
      "text/plain": [
       "IntSlider(value=4, step=2)"
      ]
     },
     "metadata": {},
     "output_type": "display_data"
    }
   ],
   "source": [
    "    Integer.minimum(0).maximum(100).multipleOf(2).range()(4)"
   ]
  },
  {
   "cell_type": "code",
   "execution_count": 26,
   "id": "medium-sewing",
   "metadata": {},
   "outputs": [
    {
     "data": {
      "application/vnd.jupyter.widget-view+json": {
       "model_id": "1f6e428f00e647679381dcc12b8a45b5",
       "version_major": 2,
       "version_minor": 0
      },
      "text/plain": [
       "BoundedFloatText(value=3.141592653589793)"
      ]
     },
     "metadata": {},
     "output_type": "display_data"
    }
   ],
   "source": [
    "    Float.minimum(0).maximum(100).text()(math.pi)"
   ]
  },
  {
   "cell_type": "markdown",
   "id": "appointed-cloud",
   "metadata": {},
   "source": [
    "## the `List` type"
   ]
  },
  {
   "cell_type": "code",
   "execution_count": 27,
   "id": "instrumental-dynamics",
   "metadata": {},
   "outputs": [
    {
     "data": {
      "text/plain": [
       "[1, 'a', 2, 'b']"
      ]
     },
     "execution_count": 27,
     "metadata": {},
     "output_type": "execute_result"
    }
   ],
   "source": [
    "    List([1, \"a\", 2, \"b\"])"
   ]
  },
  {
   "cell_type": "code",
   "execution_count": 12,
   "id": "fourth-impact",
   "metadata": {},
   "outputs": [
    {
     "data": {
      "text/plain": [
       "['a', 'b']"
      ]
     },
     "execution_count": 12,
     "metadata": {},
     "output_type": "execute_result"
    }
   ],
   "source": [
    "    List[String]([\"a\", \"b\"])"
   ]
  },
  {
   "cell_type": "code",
   "execution_count": 13,
   "id": "german-performance",
   "metadata": {},
   "outputs": [
    {
     "data": {
      "text/plain": [
       "[1, 2]"
      ]
     },
     "execution_count": 13,
     "metadata": {},
     "output_type": "execute_result"
    }
   ],
   "source": [
    "    List.minItems(1).maxItems(3)([1, 2])"
   ]
  },
  {
   "cell_type": "markdown",
   "id": "present-virginia",
   "metadata": {},
   "source": [
    "## the `Null` type"
   ]
  },
  {
   "cell_type": "code",
   "execution_count": 14,
   "id": "black-score",
   "metadata": {},
   "outputs": [],
   "source": [
    "    assert Null() is Null(None) is Null[None]() is None"
   ]
  },
  {
   "cell_type": "markdown",
   "id": "excess-child",
   "metadata": {},
   "source": [
    "## the `Bool` type"
   ]
  },
  {
   "cell_type": "code",
   "execution_count": 15,
   "id": "harmful-adelaide",
   "metadata": {},
   "outputs": [],
   "source": [
    "    assert Bool() is Bool[False]() is Bool[True](False) is bool() is False"
   ]
  },
  {
   "cell_type": "code",
   "execution_count": 16,
   "id": "thrown-layer",
   "metadata": {},
   "outputs": [],
   "source": [
    "    assert Bool(True) is Bool[True]() is Bool[False](True) is True"
   ]
  },
  {
   "cell_type": "code",
   "execution_count": null,
   "id": "exact-corpus",
   "metadata": {},
   "outputs": [],
   "source": []
  }
 ],
 "metadata": {
  "kernelspec": {
   "display_name": "Python 3",
   "language": "python",
   "name": "python3"
  },
  "language_info": {
   "codemirror_mode": {
    "name": "ipython",
    "version": 3
   },
   "file_extension": ".py",
   "mimetype": "text/x-python",
   "name": "python",
   "nbconvert_exporter": "python",
   "pygments_lexer": "ipython3",
   "version": "3.7.7"
  }
 },
 "nbformat": 4,
 "nbformat_minor": 5
}
