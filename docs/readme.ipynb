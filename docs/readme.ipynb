{
 "cells": [
  {
   "cell_type": "markdown",
   "id": "hungarian-strengthening",
   "metadata": {},
   "source": [
    "# `schemata` types and traits\n",
    "\n",
    "`schemata` is python type/trait system based on that jsonschema. the `schemata` types build jsonschema that describe test case, validation, observable patterns, and visualization."
   ]
  },
  {
   "cell_type": "markdown",
   "id": "entitled-trust",
   "metadata": {},
   "source": [
    "## `schemata` types\n",
    "\n",
    "`schemata` is designed as a composable type system for python that allows enhanced type descriptions through common `jsonschema` conventions. as types, `schemata` is concerned with constructing json schema representation of type annotations. in other words, it is concerned with enhanced type descriptions beyond the vanilla string, integer, float, lists, and dictionaries python provides.\n",
    "\n",
    "the enhanced type descriptions provide extra constraints on the types that are defined in the Json Schema Draft 7 specification. the `schemata.base.Generic` describes that abstract interfaces for the `schemata` types are specifies how types are build and composed.\n",
    "\n",
    "`jsonschema` provides ~50 extra properties to describe the basic types. `schemata` can extend to other jsonschema, and apply conventions like the react json schema form ui-schema convention that defines how types should be represented."
   ]
  },
  {
   "cell_type": "markdown",
   "id": "outstanding-ethernet",
   "metadata": {},
   "source": [
    "## `schemata` traits\n",
    "\n",
    "the composability of `schemata` types, and the enhanced schema representation, make it possible to derive different contextual views of python objects.\n",
    "\n",
    "### `schemata` type validation\n",
    "\n",
    "### `schemata` user interfaces\n",
    "\n",
    "### `schemata` testing strategies\n",
    "\n",
    "### `schemata` applications"
   ]
  }
 ],
 "metadata": {
  "kernelspec": {
   "display_name": "Python 3",
   "language": "python",
   "name": "python3"
  },
  "language_info": {
   "codemirror_mode": {
    "name": "ipython",
    "version": 3
   },
   "file_extension": ".py",
   "mimetype": "text/x-python",
   "name": "python",
   "nbconvert_exporter": "python",
   "pygments_lexer": "ipython3",
   "version": "3.7.7"
  }
 },
 "nbformat": 4,
 "nbformat_minor": 5
}
