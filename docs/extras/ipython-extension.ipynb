{
 "cells": [
  {
   "cell_type": "markdown",
   "id": "spread-dream",
   "metadata": {},
   "source": [
    "# `schemata` ipython extension"
   ]
  },
  {
   "cell_type": "code",
   "execution_count": 1,
   "id": "nonprofit-renewal",
   "metadata": {},
   "outputs": [],
   "source": [
    "from schemata import *\n",
    "from IPython import get_ipython\n",
    "%reload_ext schemata"
   ]
  },
  {
   "cell_type": "markdown",
   "id": "concerned-yield",
   "metadata": {},
   "source": [
    "## String widgets"
   ]
  },
  {
   "cell_type": "code",
   "execution_count": 2,
   "id": "reduced-addition",
   "metadata": {},
   "outputs": [
    {
     "data": {
      "text/plain": [
       "'abc'"
      ]
     },
     "metadata": {},
     "output_type": "display_data"
    }
   ],
   "source": [
    "string: String = \"abc\""
   ]
  },
  {
   "cell_type": "code",
   "execution_count": 3,
   "id": "spiritual-noise",
   "metadata": {},
   "outputs": [
    {
     "data": {
      "application/vnd.jupyter.widget-view+json": {
       "model_id": "340c72c266bd4d34ad929e5537a1ed59",
       "version_major": 2,
       "version_minor": 0
      },
      "text/plain": [
       "Text(value='def', description='string_text')"
      ]
     },
     "metadata": {},
     "output_type": "display_data"
    }
   ],
   "source": [
    "string_text: String.text() = \"def\""
   ]
  },
  {
   "cell_type": "code",
   "execution_count": 4,
   "id": "joined-requirement",
   "metadata": {},
   "outputs": [
    {
     "data": {
      "application/vnd.jupyter.widget-view+json": {
       "model_id": "98ba1f8285ca459c8515ec77b8703fcb",
       "version_major": 2,
       "version_minor": 0
      },
      "text/plain": [
       "Textarea(value='hij', description='string_textarea')"
      ]
     },
     "metadata": {},
     "output_type": "display_data"
    }
   ],
   "source": [
    "string_textarea: String.textarea() = \"hij\""
   ]
  },
  {
   "cell_type": "code",
   "execution_count": 5,
   "id": "annual-cradle",
   "metadata": {},
   "outputs": [
    {
     "data": {
      "text/html": [
       "klm"
      ],
      "text/plain": [
       "klm"
      ]
     },
     "metadata": {},
     "output_type": "display_data"
    }
   ],
   "source": [
    "# NBVAL_IGNORE_OUTPUT\n",
    "string_html: strings.Html = \"klm\""
   ]
  },
  {
   "cell_type": "code",
   "execution_count": 6,
   "id": "mental-version",
   "metadata": {},
   "outputs": [],
   "source": [
    "# string = string_textarea = string_text = string_html =\"wxyz\""
   ]
  },
  {
   "cell_type": "code",
   "execution_count": 7,
   "id": "southern-default",
   "metadata": {},
   "outputs": [
    {
     "data": {
      "text/plain": [
       "datetime.datetime(2020, 1, 1, 0, 0)"
      ]
     },
     "metadata": {},
     "output_type": "display_data"
    }
   ],
   "source": [
    "string_date: strings.Date = \"2020-01-01\" # need to fix this"
   ]
  },
  {
   "cell_type": "markdown",
   "id": "hourly-price",
   "metadata": {},
   "source": [
    "## Numeric widgets"
   ]
  },
  {
   "cell_type": "code",
   "execution_count": 8,
   "id": "through-pipeline",
   "metadata": {},
   "outputs": [
    {
     "data": {
      "text/plain": [
       "1"
      ]
     },
     "metadata": {},
     "output_type": "display_data"
    }
   ],
   "source": [
    "integer: Integer = 1"
   ]
  },
  {
   "cell_type": "code",
   "execution_count": 9,
   "id": "lovely-collaboration",
   "metadata": {},
   "outputs": [
    {
     "data": {
      "application/vnd.jupyter.widget-view+json": {
       "model_id": "477faef7dd4649d0a1759ff1a1633332",
       "version_major": 2,
       "version_minor": 0
      },
      "text/plain": [
       "IntText(value=2, description='integer_updown')"
      ]
     },
     "metadata": {},
     "output_type": "display_data"
    }
   ],
   "source": [
    "integer_updown: Integer.updown() = 2"
   ]
  },
  {
   "cell_type": "code",
   "execution_count": 10,
   "id": "loving-stationery",
   "metadata": {},
   "outputs": [
    {
     "data": {
      "application/vnd.jupyter.widget-view+json": {
       "model_id": "a13044cd5298489983d0f889e75fd9de",
       "version_major": 2,
       "version_minor": 0
      },
      "text/plain": [
       "IntSlider(value=3, description='integer_range')"
      ]
     },
     "metadata": {},
     "output_type": "display_data"
    }
   ],
   "source": [
    "integer_range: Integer.range() = 3"
   ]
  },
  {
   "cell_type": "code",
   "execution_count": 11,
   "id": "elect-correspondence",
   "metadata": {},
   "outputs": [
    {
     "data": {
      "application/vnd.jupyter.widget-view+json": {
       "model_id": "8cc7fb05fb6e4b2789a38eea200187e9",
       "version_major": 2,
       "version_minor": 0
      },
      "text/plain": [
       "BoundedIntText(value=5, description='integer_bounded', max=10)"
      ]
     },
     "metadata": {},
     "output_type": "display_data"
    }
   ],
   "source": [
    "integer_bounded: Integer.minimum(0).maximum(10).ui() = 5"
   ]
  },
  {
   "cell_type": "code",
   "execution_count": 12,
   "id": "bizarre-motivation",
   "metadata": {},
   "outputs": [
    {
     "data": {
      "text/plain": [
       "1.5"
      ]
     },
     "metadata": {},
     "output_type": "display_data"
    }
   ],
   "source": [
    "number: Number = 1.5"
   ]
  },
  {
   "cell_type": "code",
   "execution_count": 13,
   "id": "surprising-seating",
   "metadata": {},
   "outputs": [
    {
     "data": {
      "application/vnd.jupyter.widget-view+json": {
       "model_id": "f306b84567d243479469a3ecc6191428",
       "version_major": 2,
       "version_minor": 0
      },
      "text/plain": [
       "FloatText(value=2.14, description='number_updown')"
      ]
     },
     "metadata": {},
     "output_type": "display_data"
    }
   ],
   "source": [
    "number_updown: Number.updown() = 2.14"
   ]
  },
  {
   "cell_type": "code",
   "execution_count": 14,
   "id": "threaded-patient",
   "metadata": {},
   "outputs": [
    {
     "data": {
      "application/vnd.jupyter.widget-view+json": {
       "model_id": "d87382d5bf6f445398eb2c174f133de6",
       "version_major": 2,
       "version_minor": 0
      },
      "text/plain": [
       "FloatSlider(value=3.14, description='number_range')"
      ]
     },
     "metadata": {},
     "output_type": "display_data"
    }
   ],
   "source": [
    "number_range: Number.range() = 3.14"
   ]
  },
  {
   "cell_type": "code",
   "execution_count": 15,
   "id": "boxed-distance",
   "metadata": {},
   "outputs": [
    {
     "data": {
      "application/vnd.jupyter.widget-view+json": {
       "model_id": "6c254674ab94441995f5274a9cc94246",
       "version_major": 2,
       "version_minor": 0
      },
      "text/plain": [
       "BoundedFloatText(value=5.6, description='number_bounded', max=10.0)"
      ]
     },
     "metadata": {},
     "output_type": "display_data"
    }
   ],
   "source": [
    "number_bounded: Number.minimum(0).maximum(10).ui() = 5.6"
   ]
  },
  {
   "cell_type": "markdown",
   "id": "spanish-arrest",
   "metadata": {},
   "source": [
    "## Enum widgets"
   ]
  },
  {
   "cell_type": "code",
   "execution_count": 16,
   "id": "applicable-dealing",
   "metadata": {},
   "outputs": [],
   "source": [
    "e = Enum[[\"a\", \"b\", \"c\", \"d\", \"e\", \"f\", \"g\"]]"
   ]
  },
  {
   "cell_type": "code",
   "execution_count": 17,
   "id": "cultural-rhythm",
   "metadata": {},
   "outputs": [
    {
     "data": {
      "text/plain": [
       "'a'"
      ]
     },
     "metadata": {},
     "output_type": "display_data"
    }
   ],
   "source": [
    "enum: e = \"a\""
   ]
  },
  {
   "cell_type": "code",
   "execution_count": 18,
   "id": "associate-white",
   "metadata": {},
   "outputs": [
    {
     "data": {
      "application/vnd.jupyter.widget-view+json": {
       "model_id": "2c9aa7fbec0249d4aaa376356d4c77a7",
       "version_major": 2,
       "version_minor": 0
      },
      "text/plain": [
       "Dropdown(description='enum_dropdown', index=1, options=('a', 'b', 'c', 'd', 'e', 'f', 'g'), value='b')"
      ]
     },
     "metadata": {},
     "output_type": "display_data"
    }
   ],
   "source": [
    "enum_dropdown: e.dropdown() = \"b\""
   ]
  },
  {
   "cell_type": "code",
   "execution_count": 19,
   "id": "moving-identity",
   "metadata": {},
   "outputs": [
    {
     "data": {
      "application/vnd.jupyter.widget-view+json": {
       "model_id": "bcd9ff24f14f4fe58e131f282d3b1711",
       "version_major": 2,
       "version_minor": 0
      },
      "text/plain": [
       "Select(description='enum_select', index=2, options=('a', 'b', 'c', 'd', 'e', 'f', 'g'), value='c')"
      ]
     },
     "metadata": {},
     "output_type": "display_data"
    }
   ],
   "source": [
    "enum_select: e.select() = \"c\""
   ]
  },
  {
   "cell_type": "code",
   "execution_count": 20,
   "id": "conditional-teaching",
   "metadata": {},
   "outputs": [
    {
     "data": {
      "application/vnd.jupyter.widget-view+json": {
       "model_id": "2d5578eed0e748889b3c578ae2b48d93",
       "version_major": 2,
       "version_minor": 0
      },
      "text/plain": [
       "SelectionSlider(description='enum_slider', index=3, options=('a', 'b', 'c', 'd', 'e', 'f', 'g'), value='d')"
      ]
     },
     "metadata": {},
     "output_type": "display_data"
    }
   ],
   "source": [
    "enum_slider: e.range() = \"d\""
   ]
  },
  {
   "cell_type": "code",
   "execution_count": 21,
   "id": "compact-bearing",
   "metadata": {},
   "outputs": [
    {
     "data": {
      "application/vnd.jupyter.widget-view+json": {
       "model_id": "51715bd4bdea4407ae0da22a55b3a879",
       "version_major": 2,
       "version_minor": 0
      },
      "text/plain": [
       "ToggleButtons(description='enum_toggle', index=4, options=('a', 'b', 'c', 'd', 'e', 'f', 'g'), value='e')"
      ]
     },
     "metadata": {},
     "output_type": "display_data"
    }
   ],
   "source": [
    "enum_toggle: e.toggle() = \"e\""
   ]
  },
  {
   "cell_type": "code",
   "execution_count": 22,
   "id": "meaning-jaguar",
   "metadata": {},
   "outputs": [
    {
     "data": {
      "application/vnd.jupyter.widget-view+json": {
       "model_id": "51543feda166410e8b52e4b39422ff66",
       "version_major": 2,
       "version_minor": 0
      },
      "text/plain": [
       "RadioButtons(description='enum_radio', index=5, options=('a', 'b', 'c', 'd', 'e', 'f', 'g'), value='f')"
      ]
     },
     "metadata": {},
     "output_type": "display_data"
    }
   ],
   "source": [
    "enum_radio: e.radio() = \"f\""
   ]
  },
  {
   "cell_type": "code",
   "execution_count": 23,
   "id": "racial-evanescence",
   "metadata": {},
   "outputs": [],
   "source": [
    "# enum = enum_dropdown = enum_radio = enum_select = enum_slider = enum_toggle = \"a\""
   ]
  },
  {
   "cell_type": "code",
   "execution_count": null,
   "id": "twelve-depression",
   "metadata": {},
   "outputs": [],
   "source": []
  }
 ],
 "metadata": {
  "kernelspec": {
   "display_name": "Python 3",
   "language": "python",
   "name": "python3"
  },
  "language_info": {
   "codemirror_mode": {
    "name": "ipython",
    "version": 3
   },
   "file_extension": ".py",
   "mimetype": "text/x-python",
   "name": "python",
   "nbconvert_exporter": "python",
   "pygments_lexer": "ipython3",
   "version": "3.7.7"
  }
 },
 "nbformat": 4,
 "nbformat_minor": 5
}
