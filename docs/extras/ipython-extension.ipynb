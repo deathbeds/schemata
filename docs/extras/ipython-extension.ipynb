{
 "cells": [
  {
   "cell_type": "markdown",
   "id": "sustained-subscription",
   "metadata": {},
   "source": [
    "# `schemata` ipython extension"
   ]
  },
  {
   "cell_type": "code",
   "execution_count": 1,
   "id": "great-realtor",
   "metadata": {},
   "outputs": [],
   "source": [
    "from schemata import *\n",
    "from IPython import get_ipython\n",
    "%reload_ext schemata"
   ]
  },
  {
   "cell_type": "markdown",
   "id": "strategic-premiere",
   "metadata": {},
   "source": [
    "## String widgets"
   ]
  },
  {
   "cell_type": "code",
   "execution_count": 2,
   "id": "second-alexandria",
   "metadata": {},
   "outputs": [
    {
     "data": {
      "text/plain": [
       "'abc'"
      ]
     },
     "metadata": {},
     "output_type": "display_data"
    }
   ],
   "source": [
    "string: String = \"abc\""
   ]
  },
  {
   "cell_type": "code",
   "execution_count": 3,
   "id": "historical-excellence",
   "metadata": {},
   "outputs": [
    {
     "data": {
      "application/vnd.jupyter.widget-view+json": {
       "model_id": "975e64e8d63645e6879430a8150d7d86",
       "version_major": 2,
       "version_minor": 0
      },
      "text/plain": [
       "Text(value='def', description='string_text')"
      ]
     },
     "metadata": {},
     "output_type": "display_data"
    }
   ],
   "source": [
    "string_text: String.text() = \"def\""
   ]
  },
  {
   "cell_type": "code",
   "execution_count": 4,
   "id": "drawn-worst",
   "metadata": {},
   "outputs": [
    {
     "data": {
      "application/vnd.jupyter.widget-view+json": {
       "model_id": "7534566f287845dc98ecca9f726f6e58",
       "version_major": 2,
       "version_minor": 0
      },
      "text/plain": [
       "Textarea(value='hij', description='string_textarea')"
      ]
     },
     "metadata": {},
     "output_type": "display_data"
    }
   ],
   "source": [
    "string_textarea: String.textarea() = \"hij\""
   ]
  },
  {
   "cell_type": "code",
   "execution_count": 5,
   "id": "coordinate-terminal",
   "metadata": {},
   "outputs": [
    {
     "data": {
      "text/html": [
       "klm"
      ],
      "text/plain": [
       "klm"
      ]
     },
     "metadata": {},
     "output_type": "display_data"
    }
   ],
   "source": [
    "string_html: strings.Html = \"klm\""
   ]
  },
  {
   "cell_type": "code",
   "execution_count": 6,
   "id": "labeled-farming",
   "metadata": {},
   "outputs": [],
   "source": [
    "# string = string_textarea = string_text = string_html =\"wxyz\""
   ]
  },
  {
   "cell_type": "code",
   "execution_count": 7,
   "id": "ready-outside",
   "metadata": {},
   "outputs": [
    {
     "data": {
      "text/plain": [
       "datetime.datetime(2020, 1, 1, 0, 0)"
      ]
     },
     "metadata": {},
     "output_type": "display_data"
    }
   ],
   "source": [
    "string_date: strings.Date = \"2020-01-01\" # need to fix this"
   ]
  },
  {
   "cell_type": "markdown",
   "id": "expired-screening",
   "metadata": {},
   "source": [
    "## Numeric widgets"
   ]
  },
  {
   "cell_type": "code",
   "execution_count": 8,
   "id": "handed-optics",
   "metadata": {},
   "outputs": [
    {
     "data": {
      "text/plain": [
       "1"
      ]
     },
     "metadata": {},
     "output_type": "display_data"
    }
   ],
   "source": [
    "integer: Integer = 1"
   ]
  },
  {
   "cell_type": "code",
   "execution_count": 9,
   "id": "apparent-chance",
   "metadata": {},
   "outputs": [
    {
     "data": {
      "application/vnd.jupyter.widget-view+json": {
       "model_id": "39229daafe2b4e378e98a6a48581585b",
       "version_major": 2,
       "version_minor": 0
      },
      "text/plain": [
       "IntText(value=2, description='integer_updown')"
      ]
     },
     "metadata": {},
     "output_type": "display_data"
    }
   ],
   "source": [
    "integer_updown: Integer.updown() = 2"
   ]
  },
  {
   "cell_type": "code",
   "execution_count": 10,
   "id": "fixed-calcium",
   "metadata": {},
   "outputs": [
    {
     "data": {
      "application/vnd.jupyter.widget-view+json": {
       "model_id": "1d73674a9c5048ffbfb248d3d67b8dff",
       "version_major": 2,
       "version_minor": 0
      },
      "text/plain": [
       "IntSlider(value=3, description='integer_range')"
      ]
     },
     "metadata": {},
     "output_type": "display_data"
    }
   ],
   "source": [
    "integer_range: Integer.range() = 3"
   ]
  },
  {
   "cell_type": "code",
   "execution_count": 11,
   "id": "alternate-colleague",
   "metadata": {},
   "outputs": [
    {
     "data": {
      "application/vnd.jupyter.widget-view+json": {
       "model_id": "082b77bac37a48beaeb7f821d3ea4ca1",
       "version_major": 2,
       "version_minor": 0
      },
      "text/plain": [
       "BoundedIntText(value=5, description='integer_bounded', max=10)"
      ]
     },
     "metadata": {},
     "output_type": "display_data"
    }
   ],
   "source": [
    "integer_bounded: Integer.minimum(0).maximum(10).ui() = 5"
   ]
  },
  {
   "cell_type": "code",
   "execution_count": 12,
   "id": "mathematical-thompson",
   "metadata": {},
   "outputs": [
    {
     "data": {
      "text/plain": [
       "1.5"
      ]
     },
     "metadata": {},
     "output_type": "display_data"
    }
   ],
   "source": [
    "number: Number = 1.5"
   ]
  },
  {
   "cell_type": "code",
   "execution_count": 13,
   "id": "super-hanging",
   "metadata": {},
   "outputs": [
    {
     "data": {
      "application/vnd.jupyter.widget-view+json": {
       "model_id": "d4200756278b40b2a154c45bebe4b847",
       "version_major": 2,
       "version_minor": 0
      },
      "text/plain": [
       "FloatText(value=2.14, description='number_updown')"
      ]
     },
     "metadata": {},
     "output_type": "display_data"
    }
   ],
   "source": [
    "number_updown: Number.updown() = 2.14"
   ]
  },
  {
   "cell_type": "code",
   "execution_count": 14,
   "id": "finished-shaft",
   "metadata": {},
   "outputs": [
    {
     "data": {
      "application/vnd.jupyter.widget-view+json": {
       "model_id": "d15d6a852eb448a6abcfd031bff3a6e2",
       "version_major": 2,
       "version_minor": 0
      },
      "text/plain": [
       "FloatSlider(value=3.14, description='number_range')"
      ]
     },
     "metadata": {},
     "output_type": "display_data"
    }
   ],
   "source": [
    "number_range: Number.range() = 3.14"
   ]
  },
  {
   "cell_type": "code",
   "execution_count": 15,
   "id": "interpreted-photography",
   "metadata": {},
   "outputs": [
    {
     "data": {
      "application/vnd.jupyter.widget-view+json": {
       "model_id": "345656a9c9ea40698e6d370c5eb9d8db",
       "version_major": 2,
       "version_minor": 0
      },
      "text/plain": [
       "BoundedFloatText(value=5.6, description='number_bounded', max=10.0)"
      ]
     },
     "metadata": {},
     "output_type": "display_data"
    }
   ],
   "source": [
    "number_bounded: Number.minimum(0).maximum(10).ui() = 5.6"
   ]
  },
  {
   "cell_type": "markdown",
   "id": "assisted-mirror",
   "metadata": {},
   "source": [
    "## Enum widgets"
   ]
  },
  {
   "cell_type": "code",
   "execution_count": 16,
   "id": "stunning-thought",
   "metadata": {},
   "outputs": [],
   "source": [
    "e = Enum[[\"a\", \"b\", \"c\", \"d\", \"e\", \"f\", \"g\"]]"
   ]
  },
  {
   "cell_type": "code",
   "execution_count": 17,
   "id": "mathematical-payday",
   "metadata": {},
   "outputs": [
    {
     "data": {
      "text/plain": [
       "'a'"
      ]
     },
     "metadata": {},
     "output_type": "display_data"
    }
   ],
   "source": [
    "enum: e = \"a\""
   ]
  },
  {
   "cell_type": "code",
   "execution_count": 18,
   "id": "racial-aaron",
   "metadata": {},
   "outputs": [
    {
     "data": {
      "application/vnd.jupyter.widget-view+json": {
       "model_id": "0e82755ff0aa43e29930d7fa451ccb55",
       "version_major": 2,
       "version_minor": 0
      },
      "text/plain": [
       "Dropdown(description='enum_dropdown', index=1, options=('a', 'b', 'c', 'd', 'e', 'f', 'g'), value='b')"
      ]
     },
     "metadata": {},
     "output_type": "display_data"
    }
   ],
   "source": [
    "enum_dropdown: e.dropdown() = \"b\""
   ]
  },
  {
   "cell_type": "code",
   "execution_count": 19,
   "id": "consecutive-heather",
   "metadata": {},
   "outputs": [
    {
     "data": {
      "application/vnd.jupyter.widget-view+json": {
       "model_id": "c54ea09637374b02949c604c760d45d6",
       "version_major": 2,
       "version_minor": 0
      },
      "text/plain": [
       "Select(description='enum_select', index=2, options=('a', 'b', 'c', 'd', 'e', 'f', 'g'), value='c')"
      ]
     },
     "metadata": {},
     "output_type": "display_data"
    }
   ],
   "source": [
    "enum_select: e.select() = \"c\""
   ]
  },
  {
   "cell_type": "code",
   "execution_count": 20,
   "id": "faced-donna",
   "metadata": {},
   "outputs": [
    {
     "data": {
      "application/vnd.jupyter.widget-view+json": {
       "model_id": "3abf4f9e574c4d26be903edcc7c5500e",
       "version_major": 2,
       "version_minor": 0
      },
      "text/plain": [
       "SelectionSlider(description='enum_slider', index=3, options=('a', 'b', 'c', 'd', 'e', 'f', 'g'), value='d')"
      ]
     },
     "metadata": {},
     "output_type": "display_data"
    }
   ],
   "source": [
    "enum_slider: e.range() = \"d\""
   ]
  },
  {
   "cell_type": "code",
   "execution_count": 21,
   "id": "figured-intranet",
   "metadata": {},
   "outputs": [
    {
     "data": {
      "application/vnd.jupyter.widget-view+json": {
       "model_id": "f74dc7e930a942259018ed61b3fd72f9",
       "version_major": 2,
       "version_minor": 0
      },
      "text/plain": [
       "ToggleButtons(description='enum_toggle', index=4, options=('a', 'b', 'c', 'd', 'e', 'f', 'g'), value='e')"
      ]
     },
     "metadata": {},
     "output_type": "display_data"
    }
   ],
   "source": [
    "enum_toggle: e.toggle() = \"e\""
   ]
  },
  {
   "cell_type": "code",
   "execution_count": 22,
   "id": "voluntary-extreme",
   "metadata": {},
   "outputs": [
    {
     "data": {
      "application/vnd.jupyter.widget-view+json": {
       "model_id": "5f857f2a84eb41fa99183d5189abc5a2",
       "version_major": 2,
       "version_minor": 0
      },
      "text/plain": [
       "RadioButtons(description='enum_radio', index=5, options=('a', 'b', 'c', 'd', 'e', 'f', 'g'), value='f')"
      ]
     },
     "metadata": {},
     "output_type": "display_data"
    }
   ],
   "source": [
    "enum_radio: e.radio() = \"f\""
   ]
  },
  {
   "cell_type": "code",
   "execution_count": 23,
   "id": "indirect-olympus",
   "metadata": {},
   "outputs": [],
   "source": [
    "# enum = enum_dropdown = enum_radio = enum_select = enum_slider = enum_toggle = \"a\""
   ]
  },
  {
   "cell_type": "code",
   "execution_count": null,
   "id": "similar-journalist",
   "metadata": {},
   "outputs": [],
   "source": []
  }
 ],
 "metadata": {
  "kernelspec": {
   "display_name": "Python 3",
   "language": "python",
   "name": "python3"
  },
  "language_info": {
   "codemirror_mode": {
    "name": "ipython",
    "version": 3
   },
   "file_extension": ".py",
   "mimetype": "text/x-python",
   "name": "python",
   "nbconvert_exporter": "python",
   "pygments_lexer": "ipython3",
   "version": "3.7.7"
  }
 },
 "nbformat": 4,
 "nbformat_minor": 5
}
