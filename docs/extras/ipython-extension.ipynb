{
 "cells": [
  {
   "cell_type": "markdown",
   "id": "funny-placement",
   "metadata": {},
   "source": [
    "# `schemata` ipython extension"
   ]
  },
  {
   "cell_type": "code",
   "execution_count": 1,
   "id": "revised-contents",
   "metadata": {},
   "outputs": [],
   "source": [
    "from schemata import *\n",
    "from IPython import get_ipython\n",
    "%reload_ext schemata"
   ]
  },
  {
   "cell_type": "markdown",
   "id": "acoustic-console",
   "metadata": {},
   "source": [
    "## String widgets"
   ]
  },
  {
   "cell_type": "code",
   "execution_count": 2,
   "id": "mexican-lodging",
   "metadata": {},
   "outputs": [
    {
     "data": {
      "text/plain": [
       "'abc'"
      ]
     },
     "metadata": {},
     "output_type": "display_data"
    }
   ],
   "source": [
    "string: String = \"abc\""
   ]
  },
  {
   "cell_type": "code",
   "execution_count": 3,
   "id": "fitting-alias",
   "metadata": {},
   "outputs": [
    {
     "data": {
      "application/vnd.jupyter.widget-view+json": {
       "model_id": "504d1163da7a43ec9bfdbe01bfb420ad",
       "version_major": 2,
       "version_minor": 0
      },
      "text/plain": [
       "Text(value='def', description='string_text')"
      ]
     },
     "metadata": {},
     "output_type": "display_data"
    }
   ],
   "source": [
    "string_text: String.text() = \"def\""
   ]
  },
  {
   "cell_type": "code",
   "execution_count": 4,
   "id": "outdoor-switzerland",
   "metadata": {},
   "outputs": [
    {
     "data": {
      "application/vnd.jupyter.widget-view+json": {
       "model_id": "4f266caa401649be9923083223b02c63",
       "version_major": 2,
       "version_minor": 0
      },
      "text/plain": [
       "Textarea(value='hij', description='string_textarea')"
      ]
     },
     "metadata": {},
     "output_type": "display_data"
    }
   ],
   "source": [
    "string_textarea: String.textarea() = \"hij\""
   ]
  },
  {
   "cell_type": "code",
   "execution_count": 5,
   "id": "configured-vegetation",
   "metadata": {},
   "outputs": [
    {
     "data": {
      "text/html": [
       "klm"
      ],
      "text/plain": [
       "klm"
      ]
     },
     "metadata": {},
     "output_type": "display_data"
    }
   ],
   "source": [
    "string_html: strings.Html = \"klm\""
   ]
  },
  {
   "cell_type": "code",
   "execution_count": 6,
   "id": "contained-renewal",
   "metadata": {},
   "outputs": [],
   "source": [
    "# string = string_textarea = string_text = string_html =\"wxyz\""
   ]
  },
  {
   "cell_type": "code",
   "execution_count": 7,
   "id": "stylish-minnesota",
   "metadata": {},
   "outputs": [
    {
     "data": {
      "text/plain": [
       "datetime.datetime(2020, 1, 1, 0, 0)"
      ]
     },
     "metadata": {},
     "output_type": "display_data"
    }
   ],
   "source": [
    "string_date: strings.Date = \"2020-01-01\" # need to fix this"
   ]
  },
  {
   "cell_type": "markdown",
   "id": "stainless-naples",
   "metadata": {},
   "source": [
    "## Numeric widgets"
   ]
  },
  {
   "cell_type": "code",
   "execution_count": 8,
   "id": "driving-dakota",
   "metadata": {},
   "outputs": [
    {
     "data": {
      "text/plain": [
       "1"
      ]
     },
     "metadata": {},
     "output_type": "display_data"
    }
   ],
   "source": [
    "integer: Integer = 1"
   ]
  },
  {
   "cell_type": "code",
   "execution_count": 9,
   "id": "serial-photograph",
   "metadata": {},
   "outputs": [
    {
     "data": {
      "application/vnd.jupyter.widget-view+json": {
       "model_id": "0e7d855fd16a48d38089cc810dd55a8f",
       "version_major": 2,
       "version_minor": 0
      },
      "text/plain": [
       "IntText(value=2, description='integer_updown')"
      ]
     },
     "metadata": {},
     "output_type": "display_data"
    }
   ],
   "source": [
    "integer_updown: Integer.updown() = 2"
   ]
  },
  {
   "cell_type": "code",
   "execution_count": 10,
   "id": "spatial-disorder",
   "metadata": {},
   "outputs": [
    {
     "data": {
      "application/vnd.jupyter.widget-view+json": {
       "model_id": "0fc6c05d6293434aa9fa044d974b4c9d",
       "version_major": 2,
       "version_minor": 0
      },
      "text/plain": [
       "IntSlider(value=3, description='integer_range')"
      ]
     },
     "metadata": {},
     "output_type": "display_data"
    }
   ],
   "source": [
    "integer_range: Integer.range() = 3"
   ]
  },
  {
   "cell_type": "code",
   "execution_count": 11,
   "id": "solar-determination",
   "metadata": {},
   "outputs": [
    {
     "data": {
      "application/vnd.jupyter.widget-view+json": {
       "model_id": "9f5b451841844fdea14d906c691cdc23",
       "version_major": 2,
       "version_minor": 0
      },
      "text/plain": [
       "BoundedIntText(value=5, description='integer_bounded', max=10)"
      ]
     },
     "metadata": {},
     "output_type": "display_data"
    }
   ],
   "source": [
    "integer_bounded: Integer.minimum(0).maximum(10).ui() = 5"
   ]
  },
  {
   "cell_type": "code",
   "execution_count": 12,
   "id": "other-today",
   "metadata": {},
   "outputs": [
    {
     "data": {
      "text/plain": [
       "1.5"
      ]
     },
     "metadata": {},
     "output_type": "display_data"
    }
   ],
   "source": [
    "number: Number = 1.5"
   ]
  },
  {
   "cell_type": "code",
   "execution_count": 13,
   "id": "silent-spanish",
   "metadata": {},
   "outputs": [
    {
     "data": {
      "application/vnd.jupyter.widget-view+json": {
       "model_id": "4ef6ef6f223c4034ba1ca0594ef7748e",
       "version_major": 2,
       "version_minor": 0
      },
      "text/plain": [
       "FloatText(value=2.14, description='number_updown')"
      ]
     },
     "metadata": {},
     "output_type": "display_data"
    }
   ],
   "source": [
    "number_updown: Number.updown() = 2.14"
   ]
  },
  {
   "cell_type": "code",
   "execution_count": 14,
   "id": "fifteen-addition",
   "metadata": {},
   "outputs": [
    {
     "data": {
      "application/vnd.jupyter.widget-view+json": {
       "model_id": "5cd148eb093b4441a3d0693b51a16a3a",
       "version_major": 2,
       "version_minor": 0
      },
      "text/plain": [
       "FloatSlider(value=3.14, description='number_range')"
      ]
     },
     "metadata": {},
     "output_type": "display_data"
    }
   ],
   "source": [
    "number_range: Number.range() = 3.14"
   ]
  },
  {
   "cell_type": "code",
   "execution_count": 15,
   "id": "written-cycle",
   "metadata": {},
   "outputs": [
    {
     "data": {
      "application/vnd.jupyter.widget-view+json": {
       "model_id": "6301283202194d7087dfccd252219d42",
       "version_major": 2,
       "version_minor": 0
      },
      "text/plain": [
       "BoundedFloatText(value=5.6, description='number_bounded', max=10.0)"
      ]
     },
     "metadata": {},
     "output_type": "display_data"
    }
   ],
   "source": [
    "number_bounded: Number.minimum(0).maximum(10).ui() = 5.6"
   ]
  },
  {
   "cell_type": "markdown",
   "id": "sixth-brief",
   "metadata": {},
   "source": [
    "## Enum widgets"
   ]
  },
  {
   "cell_type": "code",
   "execution_count": 16,
   "id": "filled-fight",
   "metadata": {},
   "outputs": [],
   "source": [
    "e = Enum[[\"a\", \"b\", \"c\", \"d\", \"e\", \"f\", \"g\"]]"
   ]
  },
  {
   "cell_type": "code",
   "execution_count": 17,
   "id": "front-proportion",
   "metadata": {},
   "outputs": [
    {
     "data": {
      "text/plain": [
       "'a'"
      ]
     },
     "metadata": {},
     "output_type": "display_data"
    }
   ],
   "source": [
    "enum: e = \"a\""
   ]
  },
  {
   "cell_type": "code",
   "execution_count": 18,
   "id": "sunrise-theorem",
   "metadata": {},
   "outputs": [
    {
     "data": {
      "application/vnd.jupyter.widget-view+json": {
       "model_id": "fb78098b95fb41caabda5a89931a8004",
       "version_major": 2,
       "version_minor": 0
      },
      "text/plain": [
       "Dropdown(description='enum_dropdown', index=1, options=('a', 'b', 'c', 'd', 'e', 'f', 'g'), value='b')"
      ]
     },
     "metadata": {},
     "output_type": "display_data"
    }
   ],
   "source": [
    "enum_dropdown: e.dropdown() = \"b\""
   ]
  },
  {
   "cell_type": "code",
   "execution_count": 19,
   "id": "traditional-extreme",
   "metadata": {},
   "outputs": [
    {
     "data": {
      "application/vnd.jupyter.widget-view+json": {
       "model_id": "86ff5368bc9348769793e1c12783a973",
       "version_major": 2,
       "version_minor": 0
      },
      "text/plain": [
       "Select(description='enum_select', index=2, options=('a', 'b', 'c', 'd', 'e', 'f', 'g'), value='c')"
      ]
     },
     "metadata": {},
     "output_type": "display_data"
    }
   ],
   "source": [
    "enum_select: e.select() = \"c\""
   ]
  },
  {
   "cell_type": "code",
   "execution_count": 20,
   "id": "split-lambda",
   "metadata": {},
   "outputs": [
    {
     "data": {
      "application/vnd.jupyter.widget-view+json": {
       "model_id": "810e9231503641ce8dbe7e0c2e2f22c1",
       "version_major": 2,
       "version_minor": 0
      },
      "text/plain": [
       "SelectionSlider(description='enum_slider', index=3, options=('a', 'b', 'c', 'd', 'e', 'f', 'g'), value='d')"
      ]
     },
     "metadata": {},
     "output_type": "display_data"
    }
   ],
   "source": [
    "enum_slider: e.range() = \"d\""
   ]
  },
  {
   "cell_type": "code",
   "execution_count": 21,
   "id": "absolute-safety",
   "metadata": {},
   "outputs": [
    {
     "data": {
      "application/vnd.jupyter.widget-view+json": {
       "model_id": "faa19c2d42c34ef29c5a890a18174bc8",
       "version_major": 2,
       "version_minor": 0
      },
      "text/plain": [
       "ToggleButtons(description='enum_toggle', index=4, options=('a', 'b', 'c', 'd', 'e', 'f', 'g'), value='e')"
      ]
     },
     "metadata": {},
     "output_type": "display_data"
    }
   ],
   "source": [
    "enum_toggle: e.toggle() = \"e\""
   ]
  },
  {
   "cell_type": "code",
   "execution_count": 22,
   "id": "capital-maine",
   "metadata": {},
   "outputs": [
    {
     "data": {
      "application/vnd.jupyter.widget-view+json": {
       "model_id": "177cb38b896241b7b022cb06a8f1c234",
       "version_major": 2,
       "version_minor": 0
      },
      "text/plain": [
       "RadioButtons(description='enum_radio', index=5, options=('a', 'b', 'c', 'd', 'e', 'f', 'g'), value='f')"
      ]
     },
     "metadata": {},
     "output_type": "display_data"
    }
   ],
   "source": [
    "enum_radio: e.radio() = \"f\""
   ]
  },
  {
   "cell_type": "code",
   "execution_count": 23,
   "id": "documented-little",
   "metadata": {},
   "outputs": [],
   "source": [
    "# enum = enum_dropdown = enum_radio = enum_select = enum_slider = enum_toggle = \"a\""
   ]
  },
  {
   "cell_type": "code",
   "execution_count": null,
   "id": "rough-bones",
   "metadata": {},
   "outputs": [],
   "source": []
  }
 ],
 "metadata": {
  "kernelspec": {
   "display_name": "Python 3",
   "language": "python",
   "name": "python3"
  },
  "language_info": {
   "codemirror_mode": {
    "name": "ipython",
    "version": 3
   },
   "file_extension": ".py",
   "mimetype": "text/x-python",
   "name": "python",
   "nbconvert_exporter": "python",
   "pygments_lexer": "ipython3",
   "version": "3.7.7"
  }
 },
 "nbformat": 4,
 "nbformat_minor": 5
}
