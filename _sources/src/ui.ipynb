{
 "cells": [
  {
   "cell_type": "markdown",
   "id": "54cb7869",
   "metadata": {},
   "source": [
    "# `schemata` `UiWidgets`s"
   ]
  },
  {
   "cell_type": "code",
   "execution_count": 1,
   "id": "bb77d334",
   "metadata": {},
   "outputs": [],
   "source": [
    "from schemata import *"
   ]
  },
  {
   "cell_type": "code",
   "execution_count": 2,
   "id": "4d248650",
   "metadata": {},
   "outputs": [],
   "source": [
    "from schemata.compat import ipywidgets"
   ]
  },
  {
   "cell_type": "code",
   "execution_count": 3,
   "id": "020c1491",
   "metadata": {},
   "outputs": [
    {
     "data": {
      "application/vnd.jupyter.widget-view+json": {
       "model_id": "510050c8313c4a89a144ab388ca6c889",
       "version_major": 2,
       "version_minor": 0
      },
      "text/plain": [
       "IntSlider(value=1, description='true checkbox')"
      ]
     },
     "metadata": {},
     "output_type": "display_data"
    }
   ],
   "source": [
    "ipywidgets.get_widget(true, description=\"true checkbox\")"
   ]
  },
  {
   "cell_type": "code",
   "execution_count": 4,
   "id": "cad7fa9e",
   "metadata": {},
   "outputs": [
    {
     "data": {
      "application/vnd.jupyter.widget-view+json": {
       "model_id": "6dab6d84941245feb6476172027497a9",
       "version_major": 2,
       "version_minor": 0
      },
      "text/plain": [
       "IntSlider(value=0, description='false checkbox')"
      ]
     },
     "metadata": {},
     "output_type": "display_data"
    }
   ],
   "source": [
    "ipywidgets.get_widget(false, description=\"false checkbox\")"
   ]
  },
  {
   "cell_type": "code",
   "execution_count": 5,
   "id": "87945be9",
   "metadata": {},
   "outputs": [],
   "source": [
    "NEG = Integer.slider().minimum(-10).maximum(1).description(\"my negative integer\")"
   ]
  },
  {
   "cell_type": "code",
   "execution_count": 6,
   "id": "7d18308b",
   "metadata": {},
   "outputs": [
    {
     "data": {
      "application/vnd.jupyter.widget-view+json": {
       "model_id": "1c9a181ddcfd473193612a56bd2bfe95",
       "version_major": 2,
       "version_minor": 0
      },
      "text/plain": [
       "IntSlider(value=-2, description='my negative integer', max=1, min=-10)"
      ]
     },
     "metadata": {},
     "output_type": "display_data"
    }
   ],
   "source": [
    "ipywidgets.get_widget(NEG(-2))"
   ]
  },
  {
   "cell_type": "code",
   "execution_count": 7,
   "id": "750b5807",
   "metadata": {},
   "outputs": [],
   "source": [
    "WIDE = ui.Layout[dict(width=\"100%\")]"
   ]
  },
  {
   "cell_type": "code",
   "execution_count": 8,
   "id": "347337bf",
   "metadata": {},
   "outputs": [
    {
     "data": {
      "application/vnd.jupyter.widget-view+json": {
       "model_id": "9d517869d58b4b85a6b5ca8176ef130a",
       "version_major": 2,
       "version_minor": 0
      },
      "text/plain": [
       "IntSlider(value=-2, description='my negative integer', layout=Layout(width='100%'), max=1, min=-10)"
      ]
     },
     "metadata": {},
     "output_type": "display_data"
    }
   ],
   "source": [
    "ipywidgets.get_widget(NEG[WIDE](-2))"
   ]
  },
  {
   "cell_type": "code",
   "execution_count": 9,
   "id": "ed5ef637",
   "metadata": {},
   "outputs": [],
   "source": [
    "NEGF = Float.cast().slider().minimum(-10).maximum(1).description(\"my negative integer\")"
   ]
  },
  {
   "cell_type": "code",
   "execution_count": 10,
   "id": "8d605570",
   "metadata": {},
   "outputs": [
    {
     "data": {
      "application/vnd.jupyter.widget-view+json": {
       "model_id": "9dee08fb068c448fa045f6a8d02b14af",
       "version_major": 2,
       "version_minor": 0
      },
      "text/plain": [
       "FloatSlider(value=-2.0, description='my negative integer', max=1.0, min=-10.0)"
      ]
     },
     "metadata": {},
     "output_type": "display_data"
    }
   ],
   "source": [
    "ipywidgets.get_widget(NEGF(-2))"
   ]
  },
  {
   "cell_type": "code",
   "execution_count": 11,
   "id": "f2a37847",
   "metadata": {},
   "outputs": [
    {
     "data": {
      "application/vnd.jupyter.widget-view+json": {
       "model_id": "c86e8ef3dfda45db9945f05e9af4a4ec",
       "version_major": 2,
       "version_minor": 0
      },
      "text/plain": [
       "FloatSlider(value=-2.0, description='my negative integer', layout=Layout(width='100%'), max=1.0, min=-10.0)"
      ]
     },
     "metadata": {},
     "output_type": "display_data"
    }
   ],
   "source": [
    "ipywidgets.get_widget(NEGF[WIDE](-2))"
   ]
  },
  {
   "cell_type": "code",
   "execution_count": 12,
   "id": "4e6e0439",
   "metadata": {},
   "outputs": [
    {
     "data": {
      "application/vnd.jupyter.widget-view+json": {
       "model_id": "9ca77c1942834a8dbd8497b8a0fd2a0c",
       "version_major": 2,
       "version_minor": 0
      },
      "text/plain": [
       "Text(value='123')"
      ]
     },
     "metadata": {},
     "output_type": "display_data"
    }
   ],
   "source": [
    "ipywidgets.get_widget(String.text()(\"123\"))"
   ]
  },
  {
   "cell_type": "code",
   "execution_count": 13,
   "id": "201a0bcd",
   "metadata": {},
   "outputs": [
    {
     "data": {
      "application/vnd.jupyter.widget-view+json": {
       "model_id": "07bda1f34a454fc4b41a2c0c8093b801",
       "version_major": 2,
       "version_minor": 0
      },
      "text/plain": [
       "Textarea(value='abc')"
      ]
     },
     "metadata": {},
     "output_type": "display_data"
    }
   ],
   "source": [
    "ipywidgets.get_widget(String.textarea()(\"abc\"))"
   ]
  },
  {
   "cell_type": "code",
   "execution_count": null,
   "id": "a96880dd",
   "metadata": {},
   "outputs": [],
   "source": []
  }
 ],
 "metadata": {
  "kernelspec": {
   "display_name": "Python 3",
   "language": "python",
   "name": "python3"
  },
  "language_info": {
   "codemirror_mode": {
    "name": "ipython",
    "version": 3
   },
   "file_extension": ".py",
   "mimetype": "text/x-python",
   "name": "python",
   "nbconvert_exporter": "python",
   "pygments_lexer": "ipython3",
   "version": "3.7.7"
  }
 },
 "nbformat": 4,
 "nbformat_minor": 5
}
