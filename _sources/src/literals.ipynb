{
 "cells": [
  {
   "cell_type": "code",
   "execution_count": 1,
   "id": "9955eb7d",
   "metadata": {},
   "outputs": [],
   "source": [
    "    from schemata import *\n",
    "    from functools import partial\n",
    "    import pytest"
   ]
  },
  {
   "cell_type": "markdown",
   "id": "c9714b3a",
   "metadata": {},
   "source": [
    "`schemata` supplies copies of each of the core python types."
   ]
  },
  {
   "cell_type": "code",
   "execution_count": 2,
   "id": "066c9db2",
   "metadata": {},
   "outputs": [],
   "source": [
    "    Null, Bool, String, Integer, Float, List, Tuple, Set, Dict, Enum, DateTime, File;"
   ]
  },
  {
   "cell_type": "markdown",
   "id": "4cc3579e",
   "metadata": {},
   "source": [
    "each `schemata` type can be constrained and described using `jsonschema` vocabularies to define patterns, lengths, and type of complex types. `schemata` makes it easy to write complex types."
   ]
  },
  {
   "cell_type": "markdown",
   "id": "00ccaa39",
   "metadata": {},
   "source": [
    "## Numeric Types"
   ]
  },
  {
   "cell_type": "markdown",
   "id": "f98e7ed6",
   "metadata": {},
   "source": [
    "the numeric types, `Integer and Float`, provide constaints listed below:"
   ]
  },
  {
   "cell_type": "code",
   "execution_count": 3,
   "id": "a2a34233",
   "metadata": {},
   "outputs": [],
   "source": [
    "    Float, Float.MultipleOf, Float.Maximum, Float.Minimum, Float.ExclusiveMaximum, Float.ExclusiveMinimum;\n",
    "    Integer, Integer.MultipleOf, Integer.Maximum, Integer.Minimum, Integer.ExclusiveMaximum, Integer.ExclusiveMinimum;"
   ]
  },
  {
   "cell_type": "markdown",
   "id": "9cf71ed6",
   "metadata": {},
   "source": [
    "### casting numeric types\n",
    "\n",
    "typically, python with cast an input to inputs proper, and by default `schemata` turns this behavior off. a `schemata` type can be defined with `Cast` types to activate standard python casts"
   ]
  },
  {
   "cell_type": "code",
   "execution_count": 4,
   "id": "96046aca",
   "metadata": {},
   "outputs": [],
   "source": [
    "    exceptions.raises(Integer, 1.1)\n",
    "    exceptions.assertEqual(Integer.cast()(1.1), 1)"
   ]
  },
  {
   "cell_type": "code",
   "execution_count": 5,
   "id": "2f5dc079",
   "metadata": {},
   "outputs": [],
   "source": [
    "    exceptions.raises(Float, \"1.1\")\n",
    "    exceptions.assertEqual(Float.cast()(\"1.1\"), 1.1)"
   ]
  },
  {
   "cell_type": "markdown",
   "id": "c5c722e4",
   "metadata": {},
   "source": [
    "## String Types\n",
    "\n",
    "the `schemata` types allow type description beyond the standard `str`"
   ]
  },
  {
   "cell_type": "code",
   "execution_count": 6,
   "id": "b95aef03",
   "metadata": {},
   "outputs": [],
   "source": [
    "    String.Pattern, String.MinLength, String.MaxLength, formats.Format;"
   ]
  },
  {
   "cell_type": "markdown",
   "id": "01b67746",
   "metadata": {},
   "source": [
    "we can constrain the length of a string to have length between 3 and 6 elements"
   ]
  },
  {
   "cell_type": "code",
   "execution_count": 7,
   "id": "e5eb9f05",
   "metadata": {},
   "outputs": [],
   "source": [
    "    constrained_string = String.minLength(3).maxLength(6)\n",
    "    exceptions.assertEqual(constrained_string(\"abc\"), \"abc\")\n",
    "    exceptions.raises(constrained_string, \"ab\")"
   ]
  },
  {
   "cell_type": "markdown",
   "id": "f51be804",
   "metadata": {},
   "source": [
    "the `constrained_string` encodes the constraints in its schema"
   ]
  },
  {
   "cell_type": "code",
   "execution_count": 8,
   "id": "ea277c66",
   "metadata": {},
   "outputs": [
    {
     "data": {
      "text/plain": [
       "{'type': 'string', 'minLength': 3, 'maxLength': 6}"
      ]
     },
     "execution_count": 8,
     "metadata": {},
     "output_type": "execute_result"
    }
   ],
   "source": [
    "    constrained_string.schema()"
   ]
  },
  {
   "cell_type": "markdown",
   "id": "b57f2a36",
   "metadata": {},
   "source": [
    "### string patterns\n",
    "\n",
    "strings can be constrained by regular expressions"
   ]
  },
  {
   "cell_type": "markdown",
   "id": "dcd47d54",
   "metadata": {},
   "source": [
    "a pattern string can be defined in a few ways. for example, a `String` starting with the letter `a` is defined as with the regular expression `^a`"
   ]
  },
  {
   "cell_type": "code",
   "execution_count": 9,
   "id": "ef54dd70",
   "metadata": {},
   "outputs": [],
   "source": [
    "    assert String[\"^a\"] == String.pattern(\"^a\") == (String + String.Pattern[\"^a\"])"
   ]
  },
  {
   "cell_type": "code",
   "execution_count": 10,
   "id": "5700b06d",
   "metadata": {},
   "outputs": [],
   "source": [
    "    exceptions.assertEqual(String[\"^a\"](\"abc\"), \"abc\")\n",
    "    exceptions.raises(String[\"^a\"], \"bc\")"
   ]
  },
  {
   "cell_type": "markdown",
   "id": "798aafbb",
   "metadata": {},
   "source": [
    "```{toctree}\n",
    "numbers\n",
    "strings\n",
    "arrays\n",
    "objects\n",
    "composites\n",
    "```"
   ]
  },
  {
   "cell_type": "code",
   "execution_count": null,
   "id": "57c6e266",
   "metadata": {},
   "outputs": [],
   "source": [
    "    "
   ]
  }
 ],
 "metadata": {
  "kernelspec": {
   "display_name": "Python 3",
   "language": "python",
   "name": "python3"
  },
  "language_info": {
   "codemirror_mode": {
    "name": "ipython",
    "version": 3
   },
   "file_extension": ".py",
   "mimetype": "text/x-python",
   "name": "python",
   "nbconvert_exporter": "python",
   "pygments_lexer": "ipython3",
   "version": "3.7.7"
  }
 },
 "nbformat": 4,
 "nbformat_minor": 5
}
