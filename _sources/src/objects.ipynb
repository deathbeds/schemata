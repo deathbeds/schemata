{
 "cells": [
  {
   "cell_type": "markdown",
   "id": "9ac1a1af",
   "metadata": {},
   "source": [
    "# the `Dict` type"
   ]
  },
  {
   "cell_type": "code",
   "execution_count": 1,
   "id": "0b5f5c4e",
   "metadata": {},
   "outputs": [],
   "source": [
    "    from schemata import *\n",
    "    import typing"
   ]
  },
  {
   "cell_type": "code",
   "execution_count": 2,
   "id": "90d61547",
   "metadata": {},
   "outputs": [],
   "source": [
    "    assert Dict(foo=1)\\\n",
    "    == Dict({\"foo\": 1})\\\n",
    "    == dict(foo=1)"
   ]
  },
  {
   "cell_type": "markdown",
   "id": "6b2be7ca",
   "metadata": {},
   "source": [
    "## default `Dict`s"
   ]
  },
  {
   "cell_type": "code",
   "execution_count": 3,
   "id": "6e90b2bf",
   "metadata": {},
   "outputs": [],
   "source": [
    "    assert Dict.default(foo=42)()\\\n",
    "    == dict(foo=42)"
   ]
  },
  {
   "cell_type": "code",
   "execution_count": 4,
   "id": "1bbab0dc",
   "metadata": {},
   "outputs": [],
   "source": [
    "    assert Dict.default(foo=42)(foo=1)\\\n",
    "    == dict(foo=1)"
   ]
  },
  {
   "cell_type": "code",
   "execution_count": 5,
   "id": "165da470",
   "metadata": {},
   "outputs": [],
   "source": [
    "    class DictWDefaults(Dict):\n",
    "        foo: Integer = 1\n",
    "        bar: String = \"abc\"\n",
    "            \n",
    "    assert DictWDefaults\\\n",
    "    == Dict[dict(\n",
    "       foo=Integer.default(1), bar=String.default(\"abc\") \n",
    "    )]\n",
    "\n",
    "    assert DictWDefaults() == dict(foo=1, bar=\"abc\")"
   ]
  },
  {
   "cell_type": "markdown",
   "id": "ff36b6d4",
   "metadata": {},
   "source": [
    "## `Dict.Properties`"
   ]
  },
  {
   "cell_type": "code",
   "execution_count": 6,
   "id": "4a1995b8",
   "metadata": {},
   "outputs": [],
   "source": [
    "    assert Dict.properties(foo=Integer)\\\n",
    "    == Dict[dict(foo=Integer)]"
   ]
  },
  {
   "cell_type": "code",
   "execution_count": 7,
   "id": "f0ef044d",
   "metadata": {},
   "outputs": [],
   "source": [
    "    assert Dict[dict(foo=Integer, bar=Float)].py()\\\n",
    "    == typing.Dict[str, typing.Union[float, int]]"
   ]
  },
  {
   "cell_type": "markdown",
   "id": "b3850801",
   "metadata": {},
   "source": [
    "## `Dict.Required`"
   ]
  },
  {
   "cell_type": "markdown",
   "id": "41ce56b5",
   "metadata": {},
   "source": [
    "## `Dict.AdditionalProperties`"
   ]
  },
  {
   "cell_type": "code",
   "execution_count": 8,
   "id": "93463cdd",
   "metadata": {},
   "outputs": [],
   "source": [
    "    assert Dict.additionalProperties(Integer)\\\n",
    "    == Dict[Integer]"
   ]
  },
  {
   "cell_type": "markdown",
   "id": "3d36695e",
   "metadata": {},
   "source": [
    "### default dictionaries\n",
    "\n",
    "when `Dict.AdditionalProperties` are defined the dictionary behaves as a python dictionary."
   ]
  },
  {
   "cell_type": "code",
   "execution_count": 9,
   "id": "e1388e42",
   "metadata": {},
   "outputs": [
    {
     "data": {
      "text/plain": [
       "{'a': [1]}"
      ]
     },
     "execution_count": 9,
     "metadata": {},
     "output_type": "execute_result"
    }
   ],
   "source": [
    "    default_dict_list = Dict[List]()\n",
    "    default_dict_list[\"a\"].append(1)\n",
    "    dict(default_dict_list)"
   ]
  },
  {
   "cell_type": "markdown",
   "id": "7db6542d",
   "metadata": {},
   "source": [
    "## `Dict.PropertyNames`\n",
    "\n",
    "the `Dict.PropertyNames` type defines the key type of a dictionary. `json` does not allow for non string keys, but python does"
   ]
  },
  {
   "cell_type": "code",
   "execution_count": 10,
   "id": "8fbbeeac",
   "metadata": {},
   "outputs": [],
   "source": [
    "    assert Dict.propertyNames(Integer)\\\n",
    "    == Dict[Integer,]\n",
    "    assert Dict.propertyNames(Integer).additionalProperties(String)\\\n",
    "    == Dict[Integer, String]\n",
    "    assert Dict[Integer, String].py()\\\n",
    "    == typing.Dict[int, str]"
   ]
  },
  {
   "cell_type": "markdown",
   "id": "2afcd562",
   "metadata": {},
   "source": [
    "## `Dict.PatternProperties`"
   ]
  },
  {
   "cell_type": "markdown",
   "id": "0d428155",
   "metadata": {},
   "source": [
    "## `Dict.Dependencies`"
   ]
  },
  {
   "cell_type": "code",
   "execution_count": 11,
   "id": "d8c3a193",
   "metadata": {},
   "outputs": [],
   "source": [
    "    class DictWDeps(Dict):\n",
    "        foo: Integer\n",
    "        bar: String\n",
    "            \n",
    "        def bar(self: \"foo\"):\n",
    "            return str(self[\"foo\"])"
   ]
  },
  {
   "cell_type": "code",
   "execution_count": 12,
   "id": "acf1d386",
   "metadata": {},
   "outputs": [
    {
     "data": {
      "text/plain": [
       "{'type': 'object',\n",
       " 'properties': {'foo': schemata.numbers.Integer, 'bar': abc.String}}"
      ]
     },
     "execution_count": 12,
     "metadata": {},
     "output_type": "execute_result"
    }
   ],
   "source": [
    "DictWDeps.schema()"
   ]
  },
  {
   "cell_type": "code",
   "execution_count": null,
   "id": "8c7292c1",
   "metadata": {},
   "outputs": [],
   "source": []
  }
 ],
 "metadata": {
  "kernelspec": {
   "display_name": "Python 3",
   "language": "python",
   "name": "python3"
  },
  "language_info": {
   "codemirror_mode": {
    "name": "ipython",
    "version": 3
   },
   "file_extension": ".py",
   "mimetype": "text/x-python",
   "name": "python",
   "nbconvert_exporter": "python",
   "pygments_lexer": "ipython3",
   "version": "3.7.7"
  }
 },
 "nbformat": 4,
 "nbformat_minor": 5
}
