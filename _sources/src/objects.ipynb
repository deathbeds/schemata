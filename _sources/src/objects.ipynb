{
 "cells": [
  {
   "cell_type": "markdown",
   "id": "9f69fee0",
   "metadata": {},
   "source": [
    "# the `Dict` type"
   ]
  },
  {
   "cell_type": "code",
   "execution_count": 1,
   "id": "c2421559",
   "metadata": {},
   "outputs": [],
   "source": [
    "    from schemata import *\n",
    "    import typing"
   ]
  },
  {
   "cell_type": "code",
   "execution_count": 12,
   "id": "22e3b984",
   "metadata": {},
   "outputs": [],
   "source": [
    "    assert Dict(foo=1)\\\n",
    "    == Dict({\"foo\": 1})\\\n",
    "    == dict(foo=1)"
   ]
  },
  {
   "cell_type": "markdown",
   "id": "7eadf2ad",
   "metadata": {},
   "source": [
    "## default `Dict`s"
   ]
  },
  {
   "cell_type": "code",
   "execution_count": 7,
   "id": "f87f6743",
   "metadata": {},
   "outputs": [],
   "source": [
    "    assert Dict.default(foo=42)()\\\n",
    "    == dict(foo=42)"
   ]
  },
  {
   "cell_type": "code",
   "execution_count": 8,
   "id": "eb8d7016",
   "metadata": {},
   "outputs": [],
   "source": [
    "    assert Dict.default(foo=42)(foo=1)\\\n",
    "    == dict(foo=1)"
   ]
  },
  {
   "cell_type": "code",
   "execution_count": 13,
   "id": "3fca40d2",
   "metadata": {},
   "outputs": [],
   "source": [
    "    class DictWDefaults(Dict):\n",
    "        foo: Integer = 1\n",
    "        bar: String = \"abc\"\n",
    "            \n",
    "    assert DictWDefaults\\\n",
    "    == Dict[dict(\n",
    "       foo=Integer.default(1), bar=String.default(\"abc\") \n",
    "    )]\n",
    "\n",
    "    assert DictWDefaults() == dict(foo=1, bar=\"abc\")"
   ]
  },
  {
   "cell_type": "markdown",
   "id": "2ce66650",
   "metadata": {},
   "source": [
    "## `Dict.Properties`"
   ]
  },
  {
   "cell_type": "code",
   "execution_count": 4,
   "id": "3d533fef",
   "metadata": {},
   "outputs": [],
   "source": [
    "    assert Dict.properties(foo=Integer)\\\n",
    "    == Dict[dict(foo=Integer)]"
   ]
  },
  {
   "cell_type": "code",
   "execution_count": 5,
   "id": "ff79ae7d",
   "metadata": {},
   "outputs": [],
   "source": [
    "    assert Dict[dict(foo=Integer, bar=Float)].py()\\\n",
    "    == typing.Dict[str, typing.Union[float, int]]"
   ]
  },
  {
   "cell_type": "markdown",
   "id": "f39e2ec4",
   "metadata": {},
   "source": [
    "## `Dict.Required`"
   ]
  },
  {
   "cell_type": "markdown",
   "id": "12b025e7",
   "metadata": {},
   "source": [
    "## `Dict.AdditionalProperties`"
   ]
  },
  {
   "cell_type": "code",
   "execution_count": 6,
   "id": "36c4c856",
   "metadata": {},
   "outputs": [],
   "source": [
    "    assert Dict.additionalProperties(Integer)\\\n",
    "    == Dict[Integer]"
   ]
  },
  {
   "cell_type": "markdown",
   "id": "b672a8b2",
   "metadata": {},
   "source": [
    "### default dictionaries\n",
    "\n",
    "when `Dict.AdditionalProperties` are defined the dictionary behaves as a python dictionary."
   ]
  },
  {
   "cell_type": "code",
   "execution_count": 7,
   "id": "4415605e",
   "metadata": {},
   "outputs": [
    {
     "data": {
      "text/plain": [
       "{'a': [1]}"
      ]
     },
     "execution_count": 7,
     "metadata": {},
     "output_type": "execute_result"
    }
   ],
   "source": [
    "    default_dict_list = Dict[List]()\n",
    "    default_dict_list[\"a\"].append(1)\n",
    "    dict(default_dict_list)"
   ]
  },
  {
   "cell_type": "markdown",
   "id": "8a773e71",
   "metadata": {},
   "source": [
    "## `Dict.PropertyNames`\n",
    "\n",
    "the `Dict.PropertyNames` type defines the key type of a dictionary. `json` does not allow for non string keys, but python does"
   ]
  },
  {
   "cell_type": "code",
   "execution_count": 10,
   "id": "adbebefe",
   "metadata": {},
   "outputs": [],
   "source": [
    "    assert Dict.propertyNames(Integer)\\\n",
    "    == Dict[Integer,]\n",
    "    assert Dict.propertyNames(Integer).additionalProperties(String)\\\n",
    "    == Dict[Integer, String]\n",
    "    assert Dict[Integer, String].py()\\\n",
    "    == typing.Dict[int, str]"
   ]
  },
  {
   "cell_type": "markdown",
   "id": "e9b6f23f",
   "metadata": {},
   "source": [
    "## `Dict.PatternProperties`"
   ]
  },
  {
   "cell_type": "markdown",
   "id": "1be40014",
   "metadata": {},
   "source": [
    "## `Dict.Dependencies`"
   ]
  },
  {
   "cell_type": "code",
   "execution_count": 16,
   "id": "58944e94",
   "metadata": {},
   "outputs": [],
   "source": [
    "    class DictWDeps(Dict):\n",
    "        foo: Integer\n",
    "        bar: String\n",
    "            \n",
    "        def bar(self: \"foo\"):\n",
    "            return str(self[\"foo\"])"
   ]
  },
  {
   "cell_type": "code",
   "execution_count": 20,
   "id": "996246ba",
   "metadata": {},
   "outputs": [
    {
     "data": {
      "text/plain": [
       "{'type': 'object',\n",
       " 'properties': {'foo': {'type': 'integer'},\n",
       "  'bar': {'type': 'string',\n",
       "   'default': <function __main__.DictWDeps.bar(self: 'foo')>}}}"
      ]
     },
     "execution_count": 20,
     "metadata": {},
     "output_type": "execute_result"
    }
   ],
   "source": [
    "DictWDeps.schema()"
   ]
  },
  {
   "cell_type": "code",
   "execution_count": null,
   "id": "946e4878",
   "metadata": {},
   "outputs": [],
   "source": []
  }
 ],
 "metadata": {
  "kernelspec": {
   "display_name": "Python 3",
   "language": "python",
   "name": "python3"
  },
  "language_info": {
   "codemirror_mode": {
    "name": "ipython",
    "version": 3
   },
   "file_extension": ".py",
   "mimetype": "text/x-python",
   "name": "python",
   "nbconvert_exporter": "python",
   "pygments_lexer": "ipython3",
   "version": "3.7.7"
  }
 },
 "nbformat": 4,
 "nbformat_minor": 5
}
