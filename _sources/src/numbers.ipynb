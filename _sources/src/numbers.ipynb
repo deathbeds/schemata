{
 "cells": [
  {
   "cell_type": "markdown",
   "id": "736fcd7a",
   "metadata": {},
   "source": [
    "# the `Numeric` types"
   ]
  },
  {
   "cell_type": "code",
   "execution_count": 1,
   "id": "bcbd8148",
   "metadata": {},
   "outputs": [],
   "source": [
    "    from schemata import *"
   ]
  },
  {
   "cell_type": "code",
   "execution_count": 2,
   "id": "b9650a0a",
   "metadata": {},
   "outputs": [],
   "source": [
    "    assert Integer(1) == 1\n",
    "    exceptions.raises(Integer, 1.1)\n",
    "    exceptions.raises(Integer, \"1\")"
   ]
  },
  {
   "cell_type": "code",
   "execution_count": 3,
   "id": "619bb1c1",
   "metadata": {},
   "outputs": [],
   "source": [
    "    assert Float(1.1) == 1.1\n",
    "    exceptions.raises(Float, \"1.1\")\n",
    "    exceptions.raises(Float, 1)    "
   ]
  },
  {
   "cell_type": "code",
   "execution_count": 4,
   "id": "f5920dd3",
   "metadata": {},
   "outputs": [],
   "source": [
    "    assert Integer.cast()(1.1) == Integer.cast()(\"1\") == 1"
   ]
  },
  {
   "cell_type": "code",
   "execution_count": 5,
   "id": "1742499c",
   "metadata": {},
   "outputs": [],
   "source": [
    "    assert Float.cast()(1) == 1\n",
    "    assert Float.cast()(\"1.1\") == 1.1"
   ]
  },
  {
   "cell_type": "markdown",
   "id": "bc99a5f2",
   "metadata": {},
   "source": [
    "## constraining `Numeric` types"
   ]
  },
  {
   "cell_type": "code",
   "execution_count": 6,
   "id": "055d3874",
   "metadata": {},
   "outputs": [],
   "source": [
    "    Constraint = Numeric.Minimum[1] + Numeric.Maximum[10]"
   ]
  },
  {
   "cell_type": "code",
   "execution_count": 7,
   "id": "357a52e3",
   "metadata": {},
   "outputs": [
    {
     "data": {
      "text/plain": [
       "{'allOf': ({'anyOf': ({'type': 'integer'}, {'type': 'number'})},\n",
       "  {'minimum': 1, 'maximum': 10})}"
      ]
     },
     "execution_count": 7,
     "metadata": {},
     "output_type": "execute_result"
    }
   ],
   "source": [
    "    ConstrainedNumber = Integer.or_(Float).and_(Constraint)\n",
    "    ConstrainedNumber.schema(True)"
   ]
  },
  {
   "cell_type": "code",
   "execution_count": 8,
   "id": "95b787ac",
   "metadata": {},
   "outputs": [
    {
     "data": {
      "text/plain": [
       "{'allOf': ({'type': ({}, {})}, {'minimum': 1, 'maximum': 10})}"
      ]
     },
     "execution_count": 8,
     "metadata": {},
     "output_type": "execute_result"
    }
   ],
   "source": [
    "    Type[int, float].and_(Constraint).schema()"
   ]
  },
  {
   "cell_type": "code",
   "execution_count": 9,
   "id": "cc5978aa",
   "metadata": {},
   "outputs": [
    {
     "data": {
      "text/plain": [
       "{'type': 'number', 'minimum': 1, 'maximum': 10}"
      ]
     },
     "execution_count": 9,
     "metadata": {},
     "output_type": "execute_result"
    }
   ],
   "source": [
    "    Float[1:10].schema(1)"
   ]
  },
  {
   "cell_type": "code",
   "execution_count": 10,
   "id": "077eb2b2",
   "metadata": {},
   "outputs": [],
   "source": [
    "    assert ConstrainedNumber(1), ConstrainedNumber(9.9999)\n",
    "    exceptions.raises(ConstrainedNumber, 0)\n",
    "    exceptions.raises(ConstrainedNumber, 10.00001)"
   ]
  },
  {
   "cell_type": "markdown",
   "id": "633be15d",
   "metadata": {},
   "source": [
    "## combining and casting numeric values"
   ]
  },
  {
   "cell_type": "code",
   "execution_count": null,
   "id": "7af4e5c3",
   "metadata": {},
   "outputs": [],
   "source": []
  }
 ],
 "metadata": {
  "kernelspec": {
   "display_name": "Python 3",
   "language": "python",
   "name": "python3"
  },
  "language_info": {
   "codemirror_mode": {
    "name": "ipython",
    "version": 3
   },
   "file_extension": ".py",
   "mimetype": "text/x-python",
   "name": "python",
   "nbconvert_exporter": "python",
   "pygments_lexer": "ipython3",
   "version": "3.7.7"
  }
 },
 "nbformat": 4,
 "nbformat_minor": 5
}
