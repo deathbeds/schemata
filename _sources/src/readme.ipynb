{
 "cells": [
  {
   "cell_type": "markdown",
   "id": "f3c93d60",
   "metadata": {},
   "source": [
    "# `schemata` types and traits\n",
    "\n",
    "`schemata` is a fluent pythonic interface for defining rich types and traits. \n",
    "\n",
    "* Type validation\n",
    "* Type composition\n",
    "* Type instantiation"
   ]
  },
  {
   "cell_type": "markdown",
   "id": "08c8a66d",
   "metadata": {},
   "source": [
    "```{toctree}\n",
    ":maxdepth: 1\n",
    "\n",
    "literals\n",
    "types\n",
    "numbers\n",
    "strings\n",
    "arrays\n",
    "objects\n",
    "composites\n",
    "ui\n",
    "schema\n",
    "```"
   ]
  }
 ],
 "metadata": {
  "kernelspec": {
   "display_name": "Python 3",
   "language": "python",
   "name": "python3"
  },
  "language_info": {
   "codemirror_mode": {
    "name": "ipython",
    "version": 3
   },
   "file_extension": ".py",
   "mimetype": "text/x-python",
   "name": "python",
   "nbconvert_exporter": "python",
   "pygments_lexer": "ipython3",
   "version": "3.7.7"
  }
 },
 "nbformat": 4,
 "nbformat_minor": 5
}
