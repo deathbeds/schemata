{
 "cells": [
  {
   "cell_type": "markdown",
   "id": "1a178b3c",
   "metadata": {},
   "source": [
    "# `schemata` types and traits\n",
    "\n",
    "`schemata` is a fluent pythonic interface for defining rich types and traits. \n",
    "\n",
    "* Type validation\n",
    "* Type composition\n",
    "* Type instantiation"
   ]
  },
  {
   "cell_type": "markdown",
   "id": "2935ed58",
   "metadata": {},
   "source": [
    "```{toctree}\n",
    ":maxdepth: 1\n",
    "\n",
    "literals\n",
    "types\n",
    "numbers\n",
    "strings\n",
    "arrays\n",
    "objects\n",
    "composites\n",
    "```"
   ]
  },
  {
   "cell_type": "code",
   "execution_count": null,
   "id": "4647e764",
   "metadata": {},
   "outputs": [],
   "source": []
  }
 ],
 "metadata": {
  "kernelspec": {
   "display_name": "Python 3",
   "language": "python",
   "name": "python3"
  },
  "language_info": {
   "codemirror_mode": {
    "name": "ipython",
    "version": 3
   },
   "file_extension": ".py",
   "mimetype": "text/x-python",
   "name": "python",
   "nbconvert_exporter": "python",
   "pygments_lexer": "ipython3",
   "version": "3.7.7"
  }
 },
 "nbformat": 4,
 "nbformat_minor": 5
}
