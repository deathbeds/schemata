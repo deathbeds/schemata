{
 "cells": [
  {
   "cell_type": "markdown",
   "id": "457fc962",
   "metadata": {},
   "source": [
    "# the `String` types\n",
    "\n",
    "`jsonschema` provides the default `String` along with other `String.Format` types."
   ]
  },
  {
   "cell_type": "code",
   "execution_count": 1,
   "id": "3ac6e24e",
   "metadata": {},
   "outputs": [],
   "source": [
    "    from schemata import *"
   ]
  },
  {
   "cell_type": "code",
   "execution_count": 2,
   "id": "909e90db",
   "metadata": {},
   "outputs": [],
   "source": [
    "    assert String() == \"\" == str()"
   ]
  },
  {
   "cell_type": "markdown",
   "id": "74f5eaa3",
   "metadata": {},
   "source": [
    "## constraining `String` types"
   ]
  },
  {
   "cell_type": "code",
   "execution_count": 3,
   "id": "10be7180",
   "metadata": {},
   "outputs": [],
   "source": [
    "    String.Pattern, String.MaxLength, String.MinLength, formats.Format;"
   ]
  },
  {
   "cell_type": "markdown",
   "id": "5cf44568",
   "metadata": {},
   "source": [
    "### defining `String` patterns"
   ]
  },
  {
   "cell_type": "code",
   "execution_count": 4,
   "id": "0d4f51ed",
   "metadata": {},
   "outputs": [],
   "source": [
    "    assert String[\"^[a-z]\"] == String.pattern(\"^[a-z]\")\n",
    "    assert String[\"^[a-z]\"](\"abc\") == \"abc\"\n",
    "    exceptions.raises(String[\"^[a-z]\"], \"123\")"
   ]
  },
  {
   "cell_type": "markdown",
   "id": "2c2f7e86",
   "metadata": {},
   "source": [
    "### defining the length of a `String`"
   ]
  },
  {
   "cell_type": "code",
   "execution_count": 5,
   "id": "7c8671c1",
   "metadata": {},
   "outputs": [],
   "source": [
    "    constrained_length = String.MinLength[3] + String.MaxLength[10]"
   ]
  },
  {
   "cell_type": "code",
   "execution_count": 6,
   "id": "1cbc5121",
   "metadata": {},
   "outputs": [
    {
     "data": {
      "text/plain": [
       "{'type': 'string', 'pattern': '^a', 'minLength': 3, 'maxLength': 10}"
      ]
     },
     "execution_count": 6,
     "metadata": {},
     "output_type": "execute_result"
    }
   ],
   "source": [
    "    (String[\"^a\"][constrained_length]).schema()"
   ]
  },
  {
   "cell_type": "markdown",
   "id": "0219601e",
   "metadata": {},
   "source": [
    "## `String.Format`s"
   ]
  },
  {
   "cell_type": "markdown",
   "id": "a2ac658f",
   "metadata": {},
   "source": [
    "## `DateTime, Date and Time`"
   ]
  },
  {
   "cell_type": "code",
   "execution_count": 7,
   "id": "2765bfd9",
   "metadata": {},
   "outputs": [],
   "source": [
    "    exceptions.assertIsInstance(strings.DateTime(), str)\n",
    "    exceptions.assertIsInstance(strings.Date(), str)\n",
    "    exceptions.assertIsInstance(strings.Time(), str)\n",
    "    assert strings.DateTime()\n",
    "    assert strings.Time()\n",
    "    assert strings.Date()"
   ]
  },
  {
   "cell_type": "markdown",
   "id": "751767b8",
   "metadata": {},
   "source": [
    "there a single datetime flavored type while the prior ones are strings"
   ]
  },
  {
   "cell_type": "code",
   "execution_count": 8,
   "id": "b735aef9",
   "metadata": {},
   "outputs": [],
   "source": [
    "    exceptions.assertIsInstance(DateTime(), __import__(\"datetime\").datetime)"
   ]
  },
  {
   "cell_type": "markdown",
   "id": "88886873",
   "metadata": {},
   "source": [
    "### `Uri and UriTemplate`s"
   ]
  },
  {
   "cell_type": "code",
   "execution_count": 9,
   "id": "716dc194",
   "metadata": {},
   "outputs": [],
   "source": [
    "    Uri, UriTemplate, Email, JsonPointer, Uuid;"
   ]
  },
  {
   "cell_type": "code",
   "execution_count": 10,
   "id": "a744eded",
   "metadata": {},
   "outputs": [],
   "source": [
    "    url = Uri(\"https://api.github.com\")"
   ]
  },
  {
   "cell_type": "code",
   "execution_count": 11,
   "id": "96261e6d",
   "metadata": {},
   "outputs": [
    {
     "data": {
      "text/plain": [
       "'https://api.github.com/users{/user}/gists{?page,time}'"
      ]
     },
     "execution_count": 11,
     "metadata": {},
     "output_type": "execute_result"
    }
   ],
   "source": [
    "    template = UriTemplate(url + \"/users{/user}/gists{?page,time}\"); template"
   ]
  },
  {
   "cell_type": "markdown",
   "id": "bf340239",
   "metadata": {},
   "source": [
    "### `Email`"
   ]
  },
  {
   "cell_type": "code",
   "execution_count": 12,
   "id": "dc259034",
   "metadata": {},
   "outputs": [],
   "source": [
    "    Email(\"tony@email.com\")\n",
    "    exceptions.raises(Email, \"\")"
   ]
  },
  {
   "cell_type": "markdown",
   "id": "09da17a2",
   "metadata": {},
   "source": [
    "### `Uuid` universally unique identifiers"
   ]
  },
  {
   "cell_type": "code",
   "execution_count": 13,
   "id": "512bd135",
   "metadata": {},
   "outputs": [],
   "source": [
    "    assert Uuid() == '00000000-0000-0000-0000-000000000000'"
   ]
  },
  {
   "cell_type": "code",
   "execution_count": 14,
   "id": "3683d4e2",
   "metadata": {},
   "outputs": [],
   "source": [
    "    assert Uuid[1](), Uuid[4]()\n",
    "    exceptions.raises(Uuid, \"what\")"
   ]
  },
  {
   "cell_type": "markdown",
   "id": "713d00c2",
   "metadata": {},
   "source": [
    "### `JsonPointer`"
   ]
  },
  {
   "cell_type": "code",
   "execution_count": 15,
   "id": "67217ca5",
   "metadata": {},
   "outputs": [],
   "source": [
    "    JsonPointer(\"/a/b\") == \"/a/b\"\n",
    "    assert (JsonPointer(\"/a/b\") / \"c\") == \"/a/b/c\"\n",
    "    assert JsonPointer(\"/foo/bar\").resolve(dict(foo=dict(bar=\"baz\"))) == \"baz\""
   ]
  },
  {
   "cell_type": "code",
   "execution_count": 16,
   "id": "0f55ff3e",
   "metadata": {},
   "outputs": [],
   "source": [
    "    import jsonpointer"
   ]
  },
  {
   "cell_type": "code",
   "execution_count": 17,
   "id": "c96e8a1d",
   "metadata": {},
   "outputs": [],
   "source": [
    "    exceptions.raises(JsonPointer, \"a\")"
   ]
  },
  {
   "cell_type": "markdown",
   "id": "81b10736",
   "metadata": {},
   "source": [
    "## string templates\n",
    "\n",
    "`schemata` defines template types than can be used to enforce the form of a string."
   ]
  },
  {
   "cell_type": "code",
   "execution_count": 18,
   "id": "ec972b07",
   "metadata": {},
   "outputs": [],
   "source": [
    "    F, Jinja;"
   ]
  },
  {
   "cell_type": "markdown",
   "id": "f2b475bc",
   "metadata": {},
   "source": [
    "### `F`-string templates"
   ]
  },
  {
   "cell_type": "code",
   "execution_count": 19,
   "id": "f70836dc",
   "metadata": {},
   "outputs": [
    {
     "data": {
      "text/plain": [
       "\"Hello y'all, you the greatest\""
      ]
     },
     "execution_count": 19,
     "metadata": {},
     "output_type": "execute_result"
    }
   ],
   "source": [
    "    F[\"Hello {0}, you the {1}\"](\"y'all\", \"greatest\")"
   ]
  },
  {
   "cell_type": "markdown",
   "id": "e46ed31e",
   "metadata": {},
   "source": [
    "### `Jinja` templates"
   ]
  },
  {
   "cell_type": "code",
   "execution_count": 20,
   "id": "d1231d58",
   "metadata": {},
   "outputs": [
    {
     "data": {
      "text/plain": [
       "\"Hello folks, you're the sweetest\""
      ]
     },
     "execution_count": 20,
     "metadata": {},
     "output_type": "execute_result"
    }
   ],
   "source": [
    "    Jinja[\"Hello {{name}}, you're the {{description}}\"](name=\"folks\", description=\"sweetest\")"
   ]
  },
  {
   "cell_type": "markdown",
   "id": "2843675d",
   "metadata": {},
   "source": [
    "## `String` `mediatypes`\n",
    "\n",
    "adding `mediatypes` to `String` objects may effect the display of the objects in your notebooks. it also brings loads and dumps methods"
   ]
  },
  {
   "cell_type": "markdown",
   "id": "6b6dd039",
   "metadata": {},
   "source": [
    "### `mediatypes.Markdown`"
   ]
  },
  {
   "cell_type": "code",
   "execution_count": 21,
   "id": "5f9fc4f1",
   "metadata": {},
   "outputs": [
    {
     "data": {
      "text/markdown": [
       "* I'm a markdown list"
      ],
      "text/plain": [
       "\"* I'm a markdown list\""
      ]
     },
     "execution_count": 21,
     "metadata": {},
     "output_type": "execute_result"
    }
   ],
   "source": [
    "    String.add(mediatypes.Markdown)(\"* I'm a markdown list\")"
   ]
  },
  {
   "cell_type": "code",
   "execution_count": 22,
   "id": "c7347da0",
   "metadata": {},
   "outputs": [
    {
     "data": {
      "text/markdown": [
       "* hi\n",
       "* bye"
      ],
      "text/plain": [
       "'* hi\\n* bye'"
      ]
     },
     "execution_count": 22,
     "metadata": {},
     "output_type": "execute_result"
    }
   ],
   "source": [
    "    F[\"* {}\\n* {}\"].add(mediatypes.Markdown)(\"hi\", \"bye\")"
   ]
  },
  {
   "cell_type": "markdown",
   "id": "54e7e3a2",
   "metadata": {},
   "source": [
    "### `mediatypes.Html`"
   ]
  },
  {
   "cell_type": "code",
   "execution_count": 23,
   "id": "6ff097a8",
   "metadata": {},
   "outputs": [
    {
     "data": {
      "text/html": [
       "<span>a span</span>"
      ],
      "text/plain": [
       "'<span>a span</span>'"
      ]
     },
     "execution_count": 23,
     "metadata": {},
     "output_type": "execute_result"
    }
   ],
   "source": [
    "    F[\"<span>{}</span>\"].add(mediatypes.Html)(\"a span\")"
   ]
  },
  {
   "cell_type": "markdown",
   "id": "69842b94",
   "metadata": {},
   "source": [
    "### `mediatypes.Toml`"
   ]
  },
  {
   "cell_type": "code",
   "execution_count": 24,
   "id": "8b11de05",
   "metadata": {},
   "outputs": [
    {
     "data": {
      "text/plain": [
       "{'a': 1}"
      ]
     },
     "execution_count": 24,
     "metadata": {},
     "output_type": "execute_result"
    }
   ],
   "source": [
    "    String.add(mediatypes.Toml)(\"a= 1\").loads()"
   ]
  },
  {
   "cell_type": "markdown",
   "id": "7de159d3",
   "metadata": {},
   "source": [
    "### `mediatypes.Yaml`"
   ]
  },
  {
   "cell_type": "code",
   "execution_count": 25,
   "id": "53fa47d9",
   "metadata": {},
   "outputs": [
    {
     "data": {
      "text/plain": [
       "{'a': 1}"
      ]
     },
     "execution_count": 25,
     "metadata": {},
     "output_type": "execute_result"
    }
   ],
   "source": [
    "    String.add(mediatypes.Yaml)(\"a: 1\").loads()"
   ]
  }
 ],
 "metadata": {
  "kernelspec": {
   "display_name": "Python 3",
   "language": "python",
   "name": "python3"
  },
  "language_info": {
   "codemirror_mode": {
    "name": "ipython",
    "version": 3
   },
   "file_extension": ".py",
   "mimetype": "text/x-python",
   "name": "python",
   "nbconvert_exporter": "python",
   "pygments_lexer": "ipython3",
   "version": "3.7.7"
  }
 },
 "nbformat": 4,
 "nbformat_minor": 5
}
