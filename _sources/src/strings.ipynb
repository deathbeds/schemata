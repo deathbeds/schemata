{
 "cells": [
  {
   "cell_type": "markdown",
   "id": "d6d1f218",
   "metadata": {},
   "source": [
    "# the `String` types\n",
    "\n",
    "`jsonschema` provides the default `String` along with other `String.Format` types."
   ]
  },
  {
   "cell_type": "code",
   "execution_count": 1,
   "id": "f0b6c66b",
   "metadata": {},
   "outputs": [],
   "source": [
    "    from schemata import *"
   ]
  },
  {
   "cell_type": "code",
   "execution_count": 2,
   "id": "ae0913c3",
   "metadata": {},
   "outputs": [],
   "source": [
    "    assert String() == \"\" == str()"
   ]
  },
  {
   "cell_type": "markdown",
   "id": "df14ebf0",
   "metadata": {},
   "source": [
    "## constraining `String` types"
   ]
  },
  {
   "cell_type": "code",
   "execution_count": 3,
   "id": "e0ef6500",
   "metadata": {},
   "outputs": [],
   "source": [
    "    String.Pattern, String.MaxLength, String.MinLength, formats.Format;"
   ]
  },
  {
   "cell_type": "markdown",
   "id": "4945289b",
   "metadata": {},
   "source": [
    "### defining `String` patterns"
   ]
  },
  {
   "cell_type": "code",
   "execution_count": 4,
   "id": "0460bda1",
   "metadata": {},
   "outputs": [],
   "source": [
    "    assert String[\"^[a-z]\"] == String.pattern(\"^[a-z]\")"
   ]
  },
  {
   "cell_type": "markdown",
   "id": "5038bf46",
   "metadata": {},
   "source": [
    "### defining the length of a `String`"
   ]
  },
  {
   "cell_type": "code",
   "execution_count": 5,
   "id": "0e3ec471",
   "metadata": {},
   "outputs": [],
   "source": [
    "    constrained_length = String.minLength(3).maxLength(10)"
   ]
  },
  {
   "cell_type": "code",
   "execution_count": 6,
   "id": "a8a54b1c",
   "metadata": {},
   "outputs": [],
   "source": [
    "    assert String[3:10] == constrained_length"
   ]
  },
  {
   "cell_type": "code",
   "execution_count": 7,
   "id": "60ef4bed",
   "metadata": {},
   "outputs": [],
   "source": [
    "    assert String[\"^a\"].add(constrained_length) == String[3:10:\"^a\"]"
   ]
  },
  {
   "cell_type": "markdown",
   "id": "e76f0456",
   "metadata": {},
   "source": [
    "## `String.Format`s"
   ]
  },
  {
   "cell_type": "markdown",
   "id": "925e5933",
   "metadata": {},
   "source": [
    "## `DateTime, Date and Time`"
   ]
  },
  {
   "cell_type": "code",
   "execution_count": 8,
   "id": "a211697e",
   "metadata": {},
   "outputs": [],
   "source": [
    "    exceptions.assertIsInstance(strings.DateTime(), str)\n",
    "    exceptions.assertIsInstance(strings.Date(), str)\n",
    "    exceptions.assertIsInstance(strings.Time(), str)"
   ]
  },
  {
   "cell_type": "markdown",
   "id": "6f30c411",
   "metadata": {},
   "source": [
    "there a single datetime flavored type while the prior ones are strings"
   ]
  },
  {
   "cell_type": "code",
   "execution_count": 9,
   "id": "1549e783",
   "metadata": {},
   "outputs": [],
   "source": [
    "    exceptions.assertIsInstance(DateTime(), __import__(\"datetime\").datetime)"
   ]
  },
  {
   "cell_type": "markdown",
   "id": "9abe2d2b",
   "metadata": {},
   "source": [
    "### `Uri and UriTemplate`s"
   ]
  },
  {
   "cell_type": "code",
   "execution_count": 10,
   "id": "9c844554",
   "metadata": {},
   "outputs": [],
   "source": [
    "    Uri, UriTemplate, Email, JsonPointer, Uuid;"
   ]
  },
  {
   "cell_type": "code",
   "execution_count": 11,
   "id": "d3eaaec2",
   "metadata": {},
   "outputs": [],
   "source": [
    "    url = Uri(\"https://api.github.com\")"
   ]
  },
  {
   "cell_type": "code",
   "execution_count": 12,
   "id": "288a6a11",
   "metadata": {},
   "outputs": [
    {
     "data": {
      "text/plain": [
       "'https://api.github.com/users{/user}/gists{?page,time}'"
      ]
     },
     "execution_count": 12,
     "metadata": {},
     "output_type": "execute_result"
    }
   ],
   "source": [
    "    template = UriTemplate(url + \"/users{/user}/gists{?page,time}\"); template"
   ]
  },
  {
   "cell_type": "code",
   "execution_count": 13,
   "id": "f6bc54c7",
   "metadata": {},
   "outputs": [
    {
     "data": {
      "text/plain": [
       "'https://api.github.com/users/mona/gists?page=1'"
      ]
     },
     "execution_count": 13,
     "metadata": {},
     "output_type": "execute_result"
    }
   ],
   "source": [
    "    template.render(user=\"mona\", page=\"1\")"
   ]
  },
  {
   "cell_type": "code",
   "execution_count": 14,
   "id": "e182e372",
   "metadata": {},
   "outputs": [
    {
     "data": {
      "text/plain": [
       "'https://api.github.com/users/tonyfast/gists?page=1'"
      ]
     },
     "execution_count": 14,
     "metadata": {},
     "output_type": "execute_result"
    }
   ],
   "source": [
    "    Uri.cache()[template](\"tonyfast\", 1)"
   ]
  },
  {
   "cell_type": "code",
   "execution_count": 15,
   "id": "eabecd5d",
   "metadata": {},
   "outputs": [
    {
     "data": {
      "text/plain": [
       "'https://api.github.com/users/tonyfast/gists'"
      ]
     },
     "execution_count": 15,
     "metadata": {},
     "output_type": "execute_result"
    }
   ],
   "source": [
    "    Uri[template](\"tonyfast\")"
   ]
  },
  {
   "cell_type": "markdown",
   "id": "99775ef1",
   "metadata": {},
   "source": [
    "### `Email`"
   ]
  },
  {
   "cell_type": "code",
   "execution_count": 16,
   "id": "81dadd93",
   "metadata": {},
   "outputs": [],
   "source": [
    "    Email(\"tony@email.com\")\n",
    "    exceptions.raises(Email, \"\")"
   ]
  },
  {
   "cell_type": "markdown",
   "id": "4ad4126b",
   "metadata": {},
   "source": [
    "### `Uuid` universally unique identifiers"
   ]
  },
  {
   "cell_type": "code",
   "execution_count": 17,
   "id": "f2e4060a",
   "metadata": {},
   "outputs": [],
   "source": [
    "    assert Uuid() == '00000000-0000-0000-0000-000000000000'"
   ]
  },
  {
   "cell_type": "code",
   "execution_count": 18,
   "id": "2098989f",
   "metadata": {},
   "outputs": [],
   "source": [
    "    assert Uuid[1](), Uuid[4]()\n",
    "    exceptions.raises(Uuid, \"what\")"
   ]
  },
  {
   "cell_type": "markdown",
   "id": "c148869b",
   "metadata": {},
   "source": [
    "### `JsonPointer`"
   ]
  },
  {
   "cell_type": "code",
   "execution_count": 19,
   "id": "2c2a359f",
   "metadata": {},
   "outputs": [],
   "source": [
    "    JsonPointer(\"/a/b\") == \"/a/b\"\n",
    "    assert (JsonPointer(\"/a/b\") / \"c\") == \"/a/b/c\"\n",
    "    assert JsonPointer(\"/foo/bar\").resolve(dict(foo=dict(bar=\"baz\"))) == \"baz\""
   ]
  },
  {
   "cell_type": "markdown",
   "id": "5093f612",
   "metadata": {},
   "source": [
    "## string templates\n",
    "\n",
    "`schemata` defines template types than can be used to enforce the form of a string."
   ]
  },
  {
   "cell_type": "code",
   "execution_count": 20,
   "id": "2a658ddd",
   "metadata": {},
   "outputs": [],
   "source": [
    "    F, Jinja;"
   ]
  },
  {
   "cell_type": "markdown",
   "id": "6baa41e8",
   "metadata": {},
   "source": [
    "### `F`-string templates"
   ]
  },
  {
   "cell_type": "code",
   "execution_count": 21,
   "id": "20e849fe",
   "metadata": {},
   "outputs": [
    {
     "data": {
      "text/plain": [
       "\"Hello y'all, you the greatest\""
      ]
     },
     "execution_count": 21,
     "metadata": {},
     "output_type": "execute_result"
    }
   ],
   "source": [
    "    F[\"Hello {0}, you the {1}\"](\"y'all\", \"greatest\")"
   ]
  },
  {
   "cell_type": "markdown",
   "id": "2838a5fe",
   "metadata": {},
   "source": [
    "### `Jinja` templates"
   ]
  },
  {
   "cell_type": "code",
   "execution_count": 22,
   "id": "289313b7",
   "metadata": {},
   "outputs": [
    {
     "data": {
      "text/plain": [
       "\"Hello folks, you're the sweetest\""
      ]
     },
     "execution_count": 22,
     "metadata": {},
     "output_type": "execute_result"
    }
   ],
   "source": [
    "    Jinja[\"Hello {{name}}, you're the {{description}}\"](name=\"folks\", description=\"sweetest\")"
   ]
  },
  {
   "cell_type": "markdown",
   "id": "4d523bfd",
   "metadata": {},
   "source": [
    "## `String` `mediatypes`\n",
    "\n",
    "adding `mediatypes` to `String` objects may effect the display of the objects in your notebooks. it also brings loads and dumps methods"
   ]
  },
  {
   "cell_type": "markdown",
   "id": "49021b57",
   "metadata": {},
   "source": [
    "### `mediatypes.Markdown`"
   ]
  },
  {
   "cell_type": "code",
   "execution_count": 23,
   "id": "20ac10be",
   "metadata": {},
   "outputs": [
    {
     "data": {
      "text/markdown": [
       "* I'm a markdown list"
      ],
      "text/plain": [
       "\"* I'm a markdown list\""
      ]
     },
     "execution_count": 23,
     "metadata": {},
     "output_type": "execute_result"
    }
   ],
   "source": [
    "    String.add(mediatypes.Markdown)(\"* I'm a markdown list\")"
   ]
  },
  {
   "cell_type": "code",
   "execution_count": 24,
   "id": "381779fd",
   "metadata": {},
   "outputs": [
    {
     "data": {
      "text/markdown": [
       "* hi\n",
       "* bye"
      ],
      "text/plain": [
       "'* hi\\n* bye'"
      ]
     },
     "execution_count": 24,
     "metadata": {},
     "output_type": "execute_result"
    }
   ],
   "source": [
    "    F[\"* {}\\n* {}\"].add(mediatypes.Markdown)(\"hi\", \"bye\")"
   ]
  },
  {
   "cell_type": "markdown",
   "id": "5123488c",
   "metadata": {},
   "source": [
    "### `mediatypes.Html`"
   ]
  },
  {
   "cell_type": "code",
   "execution_count": 25,
   "id": "6b54ea62",
   "metadata": {},
   "outputs": [
    {
     "data": {
      "text/html": [
       "<span>a span</span>"
      ],
      "text/plain": [
       "'<span>a span</span>'"
      ]
     },
     "execution_count": 25,
     "metadata": {},
     "output_type": "execute_result"
    }
   ],
   "source": [
    "    F[\"<span>{}</span>\"].add(mediatypes.Html)(\"a span\")"
   ]
  },
  {
   "cell_type": "markdown",
   "id": "31ef8e02",
   "metadata": {},
   "source": [
    "### `mediatypes.Toml`"
   ]
  },
  {
   "cell_type": "code",
   "execution_count": 26,
   "id": "ffa64f41",
   "metadata": {},
   "outputs": [
    {
     "data": {
      "text/plain": [
       "{'a': 1}"
      ]
     },
     "execution_count": 26,
     "metadata": {},
     "output_type": "execute_result"
    }
   ],
   "source": [
    "    String.add(mediatypes.Toml)(\"a= 1\").loads()"
   ]
  },
  {
   "cell_type": "markdown",
   "id": "dee0b7e6",
   "metadata": {},
   "source": [
    "### `mediatypes.Yaml`"
   ]
  },
  {
   "cell_type": "code",
   "execution_count": 27,
   "id": "afc09f63",
   "metadata": {},
   "outputs": [
    {
     "data": {
      "text/plain": [
       "{'a': 1}"
      ]
     },
     "execution_count": 27,
     "metadata": {},
     "output_type": "execute_result"
    }
   ],
   "source": [
    "    String.add(mediatypes.Yaml)(\"a: 1\").loads()"
   ]
  }
 ],
 "metadata": {
  "kernelspec": {
   "display_name": "Python 3",
   "language": "python",
   "name": "python3"
  },
  "language_info": {
   "codemirror_mode": {
    "name": "ipython",
    "version": 3
   },
   "file_extension": ".py",
   "mimetype": "text/x-python",
   "name": "python",
   "nbconvert_exporter": "python",
   "pygments_lexer": "ipython3",
   "version": "3.7.7"
  }
 },
 "nbformat": 4,
 "nbformat_minor": 5
}
