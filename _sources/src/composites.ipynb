{
 "cells": [
  {
   "cell_type": "markdown",
   "id": "ee6d56f0",
   "metadata": {},
   "source": [
    "# `composites`"
   ]
  },
  {
   "cell_type": "code",
   "execution_count": 1,
   "id": "f48e8740",
   "metadata": {},
   "outputs": [],
   "source": [
    "    from schemata import *; import pytest"
   ]
  },
  {
   "cell_type": "markdown",
   "id": "8fb22580",
   "metadata": {},
   "source": [
    "`composites` are types that define conditions on other type. the composites are:"
   ]
  },
  {
   "cell_type": "code",
   "execution_count": 2,
   "id": "eb624e2b",
   "metadata": {},
   "outputs": [
    {
     "name": "stdout",
     "output_type": "stream",
     "text": [
      "AllOf, AnyOf, OneOf, Not, If, Else, Then\n"
     ]
    }
   ],
   "source": [
    "    print(\"AllOf, AnyOf, OneOf, Not, If, Else, Then\")"
   ]
  },
  {
   "cell_type": "code",
   "execution_count": 3,
   "id": "ab8650d4",
   "metadata": {},
   "outputs": [],
   "source": [
    "    Number = AnyOf[Integer, Float]"
   ]
  },
  {
   "cell_type": "code",
   "execution_count": 6,
   "id": "7a80ce34",
   "metadata": {},
   "outputs": [],
   "source": [
    "    PositiveNumber = AllOf[\n",
    "        Number, Integer.ExclusiveMinimum[0]\n",
    "    ]"
   ]
  },
  {
   "cell_type": "code",
   "execution_count": 8,
   "id": "d18fcd23",
   "metadata": {},
   "outputs": [],
   "source": [
    "    assert (\n",
    "        AllOf[Integer, Integer.Minimum[0], Integer.Maximum[6]]\n",
    "    )"
   ]
  }
 ],
 "metadata": {
  "kernelspec": {
   "display_name": "Python 3",
   "language": "python",
   "name": "python3"
  },
  "language_info": {
   "codemirror_mode": {
    "name": "ipython",
    "version": 3
   },
   "file_extension": ".py",
   "mimetype": "text/x-python",
   "name": "python",
   "nbconvert_exporter": "python",
   "pygments_lexer": "ipython3",
   "version": "3.7.7"
  }
 },
 "nbformat": 4,
 "nbformat_minor": 5
}
