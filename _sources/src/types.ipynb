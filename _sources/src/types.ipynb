{
 "cells": [
  {
   "cell_type": "markdown",
   "id": "77331bec",
   "metadata": {},
   "source": [
    "# the `schemata` types"
   ]
  },
  {
   "cell_type": "markdown",
   "id": "8fa21d7e",
   "metadata": {},
   "source": [
    "we begin with the `Any` type, this is common type declaration, but it is rarely used for instantiation. `schemata` implements creating `Any` type `object`s that carry a schema with them."
   ]
  },
  {
   "cell_type": "code",
   "execution_count": 1,
   "id": "cf7fca13",
   "metadata": {},
   "outputs": [],
   "source": [
    "    from schemata import *\n",
    "    import typing"
   ]
  },
  {
   "cell_type": "code",
   "execution_count": 2,
   "id": "6da6687f",
   "metadata": {},
   "outputs": [],
   "source": [
    "    assert Any(\"1\").schema() == String.schema()"
   ]
  },
  {
   "cell_type": "markdown",
   "id": "106c91a1",
   "metadata": {},
   "source": [
    "## the common types\n",
    "\n",
    "`schemata` provides the common python types"
   ]
  },
  {
   "cell_type": "code",
   "execution_count": 3,
   "id": "d7dbc041",
   "metadata": {},
   "outputs": [],
   "source": [
    "    None, bool, int, float, str, list, dict;"
   ]
  },
  {
   "cell_type": "markdown",
   "id": "24b996eb",
   "metadata": {},
   "source": [
    "it also provides implementations for modern types like"
   ]
  },
  {
   "cell_type": "code",
   "execution_count": 4,
   "id": "fd6ae1da",
   "metadata": {},
   "outputs": [],
   "source": [
    "    Uri, JsonPointer, Json;"
   ]
  },
  {
   "cell_type": "markdown",
   "id": "daa17013",
   "metadata": {},
   "source": [
    "### the `Null` type"
   ]
  },
  {
   "cell_type": "code",
   "execution_count": 5,
   "id": "57c940c0",
   "metadata": {},
   "outputs": [],
   "source": [
    "    assert Type[\"null\"] is Null\n",
    "    assert Null() is Null(None) is None\n",
    "    assert Null.py() is type(None)"
   ]
  },
  {
   "cell_type": "markdown",
   "id": "e49baaaf",
   "metadata": {},
   "source": [
    "### the `Bool` type"
   ]
  },
  {
   "cell_type": "code",
   "execution_count": 6,
   "id": "75ac555b",
   "metadata": {},
   "outputs": [],
   "source": [
    "    assert Type[\"boolean\"] is Bool\n",
    "    assert Bool() is Bool(False) is false\n",
    "    assert Bool(True) is Bool.default(True)() is true\n",
    "    assert Bool.py() is bool\n",
    "    assert isinstance(Type(True), Bool)"
   ]
  },
  {
   "cell_type": "markdown",
   "id": "8d608f19",
   "metadata": {},
   "source": [
    "### the `Integer` type"
   ]
  },
  {
   "cell_type": "code",
   "execution_count": 7,
   "id": "8a8018c8",
   "metadata": {},
   "outputs": [],
   "source": [
    "    assert Integer is Type[\"integer\"]\n",
    "    assert Integer() == Integer(0) == int() == 0\n",
    "    assert Integer(1) == Integer.default(1)() == 1\n",
    "    assert Integer.py() is int\n",
    "    assert isinstance(Type(1), Integer)"
   ]
  },
  {
   "cell_type": "markdown",
   "id": "32d25fe0",
   "metadata": {},
   "source": [
    "> `Integer and Float`s have other properties you can learn about in `numbers.ipynb`"
   ]
  },
  {
   "cell_type": "markdown",
   "id": "b0e918fb",
   "metadata": {},
   "source": [
    "### the `Float` type"
   ]
  },
  {
   "cell_type": "code",
   "execution_count": 8,
   "id": "43cab86d",
   "metadata": {},
   "outputs": [],
   "source": [
    "    assert Float is Type[\"number\"]\n",
    "    assert Float() == Float(0.) == float() == 0.\n",
    "    assert Float(1.1) == Float.default(1.1)() == 1.1\n",
    "    assert Float.py() is float\n",
    "    assert isinstance(Type(1.1), Float)    "
   ]
  },
  {
   "cell_type": "markdown",
   "id": "5b19355f",
   "metadata": {},
   "source": [
    "### the `String` type"
   ]
  },
  {
   "cell_type": "code",
   "execution_count": 9,
   "id": "5a9507ca",
   "metadata": {},
   "outputs": [],
   "source": [
    "    assert String is Type[\"string\"]\n",
    "    assert String() == str() == \"\"\n",
    "    assert String(\"abc\") == str(\"abc\") == \"abc\"\n",
    "    assert String.py() is str\n",
    "    assert isinstance(Type(\"abc\"), String)    "
   ]
  },
  {
   "cell_type": "markdown",
   "id": "8319f2fe",
   "metadata": {},
   "source": [
    "#### `String` patterns\n",
    "\n",
    "a primary definition for strings includes a regular expression pattern for the string. the `String` type defines patterns using the getitem square bracket syntax. \n",
    "\n",
    "for example, a string beginning with the letter `a` is defined by the regular expression`\"^a\"`"
   ]
  },
  {
   "cell_type": "code",
   "execution_count": 10,
   "id": "2dc54b4d",
   "metadata": {},
   "outputs": [
    {
     "data": {
      "text/plain": [
       "abc.String"
      ]
     },
     "metadata": {},
     "output_type": "display_data"
    },
    {
     "data": {
      "text/plain": [
       "{'type': 'string', 'pattern': '^a'}"
      ]
     },
     "metadata": {},
     "output_type": "display_data"
    }
   ],
   "source": [
    "    display(String[\"^a\"], String[\"^a\"].schema())"
   ]
  },
  {
   "cell_type": "code",
   "execution_count": 11,
   "id": "b40f05a9",
   "metadata": {},
   "outputs": [],
   "source": [
    "    assert String[\"^a\"](\"abc\") == \"abc\""
   ]
  },
  {
   "cell_type": "code",
   "execution_count": 12,
   "id": "18d1fc5f",
   "metadata": {},
   "outputs": [],
   "source": [
    "    exceptions.raises(String[\"^a\"], \"123\")"
   ]
  },
  {
   "cell_type": "markdown",
   "id": "df1896ac",
   "metadata": {},
   "source": [
    "the pattern is stored as part of the schema and carried along with the object"
   ]
  },
  {
   "cell_type": "markdown",
   "id": "5463aeb5",
   "metadata": {},
   "source": [
    "> `String`s have other properties you can learn about in `strings.ipynb`"
   ]
  },
  {
   "cell_type": "markdown",
   "id": "263d2de3",
   "metadata": {},
   "source": [
    "### the `List` type"
   ]
  },
  {
   "cell_type": "code",
   "execution_count": 13,
   "id": "8bc8d506",
   "metadata": {},
   "outputs": [],
   "source": [
    "    assert List is Type[\"array\"]\n",
    "    assert List() == list() == []\n",
    "    assert List(list(\"abc\")) == list(\"abc\")\n",
    "    assert List.py() is list\n",
    "    assert isinstance(Type([]), List)    "
   ]
  },
  {
   "cell_type": "markdown",
   "id": "894bacdb",
   "metadata": {},
   "source": [
    "> `List`s have other properties you can learn about in `arrays.ipynb`"
   ]
  },
  {
   "cell_type": "markdown",
   "id": "c92979c0",
   "metadata": {},
   "source": [
    "### the `Dict` type"
   ]
  },
  {
   "cell_type": "code",
   "execution_count": 14,
   "id": "49e0312c",
   "metadata": {},
   "outputs": [
    {
     "data": {
      "text/plain": [
       "{}"
      ]
     },
     "execution_count": 14,
     "metadata": {},
     "output_type": "execute_result"
    }
   ],
   "source": [
    "    Type({})"
   ]
  },
  {
   "cell_type": "code",
   "execution_count": 15,
   "id": "08aa46fd",
   "metadata": {},
   "outputs": [],
   "source": [
    "    assert Dict is Type[\"object\"]\n",
    "    assert Dict() == dict() == {}\n",
    "    assert Dict(foo=\"a\") == dict(foo=\"a\")\n",
    "    assert Dict.py() is dict\n",
    "    assert isinstance(Type({}), Dict)    "
   ]
  },
  {
   "cell_type": "markdown",
   "id": "42541120",
   "metadata": {},
   "source": [
    "> `Dict`s have other properties you can learn about in `objects.ipynb`"
   ]
  },
  {
   "cell_type": "markdown",
   "id": "44cb3636",
   "metadata": {},
   "source": [
    "### the `Enum` type"
   ]
  },
  {
   "cell_type": "code",
   "execution_count": 16,
   "id": "fa85be62",
   "metadata": {},
   "outputs": [],
   "source": [
    "    assert Enum[\"a b\"]().value == Enum[\"a b\"](\"a\").value\n",
    "    assert Enum[\"a\", 1](1).value == 1\n"
   ]
  },
  {
   "cell_type": "markdown",
   "id": "b36334a7",
   "metadata": {},
   "source": [
    "> `Enum`s have other properties you can learn about in `enums.ipynb`"
   ]
  },
  {
   "cell_type": "markdown",
   "id": "c8e98401",
   "metadata": {},
   "source": [
    "## combined types"
   ]
  },
  {
   "cell_type": "code",
   "execution_count": 17,
   "id": "b5bbe559",
   "metadata": {},
   "outputs": [
    {
     "data": {
      "text/plain": [
       "{'type': ('string', 'integer')}"
      ]
     },
     "execution_count": 17,
     "metadata": {},
     "output_type": "execute_result"
    }
   ],
   "source": [
    "   string_or_int = Type[\"string\", \"integer\"]; string_or_int.schema()"
   ]
  },
  {
   "cell_type": "code",
   "execution_count": 18,
   "id": "750dc4cd",
   "metadata": {},
   "outputs": [],
   "source": [
    "    assert string_or_int(\"abc\")\n",
    "    assert string_or_int(1)\n",
    "    exceptions.raises(string_or_int, 1.1)"
   ]
  },
  {
   "cell_type": "markdown",
   "id": "4f515eb2",
   "metadata": {},
   "source": [
    "## type metadata"
   ]
  },
  {
   "cell_type": "markdown",
   "id": "977d4820",
   "metadata": {},
   "source": [
    "#### constants and defaults"
   ]
  },
  {
   "cell_type": "code",
   "execution_count": 19,
   "id": "a4542572",
   "metadata": {},
   "outputs": [],
   "source": [
    "    Default, Const;"
   ]
  },
  {
   "cell_type": "markdown",
   "id": "2f955693",
   "metadata": {},
   "source": [
    "#### meta-data descriptions"
   ]
  },
  {
   "cell_type": "markdown",
   "id": "237d8f2e",
   "metadata": {},
   "source": [
    "these types have no effect on validation or instantiation"
   ]
  },
  {
   "cell_type": "code",
   "execution_count": 20,
   "id": "adef4075",
   "metadata": {},
   "outputs": [],
   "source": [
    "    Comment_, Definitions, Deprecated, Description, \\\n",
    "    Examples, Optional, ReadOnly, Ref_, Title, WriteOnly;"
   ]
  },
  {
   "cell_type": "markdown",
   "id": "8850ab37",
   "metadata": {},
   "source": [
    "#### interactive docstrings\n",
    "\n",
    "`schemata` uses the meta-data types to construct `numpy` docstrings."
   ]
  },
  {
   "cell_type": "markdown",
   "id": "172074c8",
   "metadata": {},
   "source": [
    "## extra `schemata` types\n",
    "\n",
    "`schemata` provides an extended type system based on the `jsonschema` specification. below are some other types available to `schemata`"
   ]
  },
  {
   "cell_type": "code",
   "execution_count": 21,
   "id": "76146080",
   "metadata": {},
   "outputs": [],
   "source": [
    "    Uri, File, JsonPointer;"
   ]
  },
  {
   "cell_type": "markdown",
   "id": "9bbc6aa6",
   "metadata": {},
   "source": [
    "## combinations of types\n",
    "\n",
    "types can combine into different conformations that describe more complex types."
   ]
  },
  {
   "cell_type": "code",
   "execution_count": 22,
   "id": "deb358e3",
   "metadata": {},
   "outputs": [],
   "source": [
    "    Not, AnyOf, AllOf, OneOf, If, Then, Else;"
   ]
  },
  {
   "cell_type": "markdown",
   "id": "b80432ed",
   "metadata": {},
   "source": [
    "### union types\n",
    "\n",
    "the `Type and AnyOf` types provide commonly supported union types. "
   ]
  },
  {
   "cell_type": "code",
   "execution_count": 23,
   "id": "41e4d6eb",
   "metadata": {},
   "outputs": [],
   "source": [
    "    assert typing.Union[int, float] == Type[int, float].py() == (Integer | Float).py() == Integer.or_(Float).py()"
   ]
  },
  {
   "cell_type": "code",
   "execution_count": 24,
   "id": "87eb4244",
   "metadata": {},
   "outputs": [],
   "source": [
    "    assert Type[int, float](1) == 1"
   ]
  },
  {
   "cell_type": "code",
   "execution_count": 25,
   "id": "645aed1c",
   "metadata": {},
   "outputs": [],
   "source": [
    "    assert Integer | Float == Integer.or_(Float)"
   ]
  },
  {
   "cell_type": "code",
   "execution_count": 26,
   "id": "528fce47",
   "metadata": {},
   "outputs": [],
   "source": [
    "    assert Integer ^ Float == Integer.xor(Float)"
   ]
  }
 ],
 "metadata": {
  "kernelspec": {
   "display_name": "Python 3",
   "language": "python",
   "name": "python3"
  },
  "language_info": {
   "codemirror_mode": {
    "name": "ipython",
    "version": 3
   },
   "file_extension": ".py",
   "mimetype": "text/x-python",
   "name": "python",
   "nbconvert_exporter": "python",
   "pygments_lexer": "ipython3",
   "version": "3.7.7"
  }
 },
 "nbformat": 4,
 "nbformat_minor": 5
}
