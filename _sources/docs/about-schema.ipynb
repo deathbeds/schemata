{
 "cells": [
  {
   "cell_type": "markdown",
   "id": "2b68eae1-7f0d-4125-9e63-9637ee0c3e34",
   "metadata": {},
   "source": [
    "# what can schema do for you!\n",
    "\n",
    "schema are critical to strong software interfaces. we can note this in modern python, type annotations, sql schema, numpy and pandas dtypes. the open web is driven off of schema such resource description frameworks that description html metadata. there are standards for presenting schema in `json`. \n",
    "\n",
    "in all, schema, non-empircal rules, are consistent features across programming interfaces, and cultures at large. perhaps, schema are so embedded into our systems because it was first discussed [Plato and Aristotle's philosopical camps](https://plato.stanford.edu/entries/schema/#ScheHistLogi).\n",
    "\n",
    "in this work we will not define what schema are, we will discuss different forms of schema and what their definitions provide.\n",
    "\n",
    "from here on we'll use schemata to demonstrate what external affordances schema provide us. what we will observe are different forms, or outward representations, of schema in different contexts. for example, `repr` and `str` are contents `object` with _perhaps_ differing forms. within interactive computing environments, like `jupyter`, we can extend our schema to interactive, modern web displays."
   ]
  },
  {
   "cell_type": "markdown",
   "id": "7e20b326-875a-48f3-a877-1caaff3ca418",
   "metadata": {},
   "source": [
    "\n",
    "## a practical study of the github api schema\n",
    "\n",
    "the github api defines an openapi specification. this is helpful to their product because this schema provides a general description, in json, that can be translated into different systems or environments. one immediate benefit to github, by having a conventional schema, is they api documentation and playground for free https://docs.github.com/en/rest\n",
    "\n",
    "another position we can view that api schema from is the `https://api.github.com` endpoint. we could explore the schema in our web browser or `pandas` to observe different forms of our schema."
   ]
  },
  {
   "cell_type": "code",
   "execution_count": 1,
   "id": "647e5d93-f435-40c2-88f0-14881efcdd7b",
   "metadata": {},
   "outputs": [],
   "source": [
    "    import pandas"
   ]
  },
  {
   "cell_type": "code",
   "execution_count": 2,
   "id": "6825383a-f27f-4137-acab-84f4094e664f",
   "metadata": {},
   "outputs": [
    {
     "data": {
      "text/html": [
       "<div>\n",
       "<style scoped>\n",
       "    .dataframe tbody tr th:only-of-type {\n",
       "        vertical-align: middle;\n",
       "    }\n",
       "\n",
       "    .dataframe tbody tr th {\n",
       "        vertical-align: top;\n",
       "    }\n",
       "\n",
       "    .dataframe thead th {\n",
       "        text-align: right;\n",
       "    }\n",
       "</style>\n",
       "<table border=\"1\" class=\"dataframe\">\n",
       "  <thead>\n",
       "    <tr style=\"text-align: right;\">\n",
       "      <th></th>\n",
       "      <th>current_user_url</th>\n",
       "      <th>current_user_authorizations_html_url</th>\n",
       "      <th>authorizations_url</th>\n",
       "      <th>code_search_url</th>\n",
       "      <th>commit_search_url</th>\n",
       "      <th>emails_url</th>\n",
       "      <th>emojis_url</th>\n",
       "      <th>events_url</th>\n",
       "      <th>feeds_url</th>\n",
       "      <th>followers_url</th>\n",
       "      <th>...</th>\n",
       "      <th>rate_limit_url</th>\n",
       "      <th>repository_url</th>\n",
       "      <th>repository_search_url</th>\n",
       "      <th>current_user_repositories_url</th>\n",
       "      <th>starred_url</th>\n",
       "      <th>starred_gists_url</th>\n",
       "      <th>user_url</th>\n",
       "      <th>user_organizations_url</th>\n",
       "      <th>user_repositories_url</th>\n",
       "      <th>user_search_url</th>\n",
       "    </tr>\n",
       "  </thead>\n",
       "  <tbody>\n",
       "    <tr>\n",
       "      <th>github api</th>\n",
       "      <td>https://api.github.com/user</td>\n",
       "      <td>https://github.com/settings/connections/applic...</td>\n",
       "      <td>https://api.github.com/authorizations</td>\n",
       "      <td>https://api.github.com/search/code?q={query}{&amp;...</td>\n",
       "      <td>https://api.github.com/search/commits?q={query...</td>\n",
       "      <td>https://api.github.com/user/emails</td>\n",
       "      <td>https://api.github.com/emojis</td>\n",
       "      <td>https://api.github.com/events</td>\n",
       "      <td>https://api.github.com/feeds</td>\n",
       "      <td>https://api.github.com/user/followers</td>\n",
       "      <td>...</td>\n",
       "      <td>https://api.github.com/rate_limit</td>\n",
       "      <td>https://api.github.com/repos/{owner}/{repo}</td>\n",
       "      <td>https://api.github.com/search/repositories?q={...</td>\n",
       "      <td>https://api.github.com/user/repos{?type,page,p...</td>\n",
       "      <td>https://api.github.com/user/starred{/owner}{/r...</td>\n",
       "      <td>https://api.github.com/gists/starred</td>\n",
       "      <td>https://api.github.com/users/{user}</td>\n",
       "      <td>https://api.github.com/user/orgs</td>\n",
       "      <td>https://api.github.com/users/{user}/repos{?typ...</td>\n",
       "      <td>https://api.github.com/search/users?q={query}{...</td>\n",
       "    </tr>\n",
       "  </tbody>\n",
       "</table>\n",
       "<p>1 rows × 32 columns</p>\n",
       "</div>"
      ],
      "text/plain": [
       "                       current_user_url  \\\n",
       "github api  https://api.github.com/user   \n",
       "\n",
       "                         current_user_authorizations_html_url  \\\n",
       "github api  https://github.com/settings/connections/applic...   \n",
       "\n",
       "                               authorizations_url  \\\n",
       "github api  https://api.github.com/authorizations   \n",
       "\n",
       "                                              code_search_url  \\\n",
       "github api  https://api.github.com/search/code?q={query}{&...   \n",
       "\n",
       "                                            commit_search_url  \\\n",
       "github api  https://api.github.com/search/commits?q={query...   \n",
       "\n",
       "                                    emails_url                     emojis_url  \\\n",
       "github api  https://api.github.com/user/emails  https://api.github.com/emojis   \n",
       "\n",
       "                               events_url                     feeds_url  \\\n",
       "github api  https://api.github.com/events  https://api.github.com/feeds   \n",
       "\n",
       "                                    followers_url  ...  \\\n",
       "github api  https://api.github.com/user/followers  ...   \n",
       "\n",
       "                               rate_limit_url  \\\n",
       "github api  https://api.github.com/rate_limit   \n",
       "\n",
       "                                         repository_url  \\\n",
       "github api  https://api.github.com/repos/{owner}/{repo}   \n",
       "\n",
       "                                        repository_search_url  \\\n",
       "github api  https://api.github.com/search/repositories?q={...   \n",
       "\n",
       "                                current_user_repositories_url  \\\n",
       "github api  https://api.github.com/user/repos{?type,page,p...   \n",
       "\n",
       "                                                  starred_url  \\\n",
       "github api  https://api.github.com/user/starred{/owner}{/r...   \n",
       "\n",
       "                               starred_gists_url  \\\n",
       "github api  https://api.github.com/gists/starred   \n",
       "\n",
       "                                       user_url  \\\n",
       "github api  https://api.github.com/users/{user}   \n",
       "\n",
       "                      user_organizations_url  \\\n",
       "github api  https://api.github.com/user/orgs   \n",
       "\n",
       "                                        user_repositories_url  \\\n",
       "github api  https://api.github.com/users/{user}/repos{?typ...   \n",
       "\n",
       "                                              user_search_url  \n",
       "github api  https://api.github.com/search/users?q={query}{...  \n",
       "\n",
       "[1 rows x 32 columns]"
      ]
     },
     "execution_count": 2,
     "metadata": {},
     "output_type": "execute_result"
    }
   ],
   "source": [
    "    if \"api\" not in locals():\n",
    "        api = __import__(\"pandas\").read_json(\"https://api.github.com\", typ=pandas.Series).to_frame(\"github api\")\n",
    "    api.T"
   ]
  },
  {
   "cell_type": "markdown",
   "id": "529d343b-480e-4357-9cb8-308a5ec906ce",
   "metadata": {},
   "source": [
    "because github obeys a schema, we can be confident that the shape of this data we consistently be the same, and if something is wrong we know their is documentation in the open api docs."
   ]
  },
  {
   "cell_type": "markdown",
   "id": "d63d6a2d-991e-4564-b4d4-093f6709433f",
   "metadata": {},
   "source": [
    "an important feature of schema are that they may translated and applied into different languages. for example, when we load the github api into pandas we can translate the schema to dtypes or json table schema."
   ]
  },
  {
   "cell_type": "markdown",
   "id": "e893d23d-6a68-4ab8-9d71-949f99f973fc",
   "metadata": {},
   "source": [
    "### dtypes"
   ]
  },
  {
   "cell_type": "code",
   "execution_count": 3,
   "id": "ed43c65a-1e69-49e0-8bc7-44784b705aa7",
   "metadata": {},
   "outputs": [
    {
     "data": {
      "text/plain": [
       "current_user_url                        object\n",
       "current_user_authorizations_html_url    object\n",
       "authorizations_url                      object\n",
       "code_search_url                         object\n",
       "commit_search_url                       object\n",
       "emails_url                              object\n",
       "emojis_url                              object\n",
       "events_url                              object\n",
       "feeds_url                               object\n",
       "followers_url                           object\n",
       "following_url                           object\n",
       "gists_url                               object\n",
       "hub_url                                 object\n",
       "issue_search_url                        object\n",
       "issues_url                              object\n",
       "keys_url                                object\n",
       "label_search_url                        object\n",
       "notifications_url                       object\n",
       "organization_url                        object\n",
       "organization_repositories_url           object\n",
       "organization_teams_url                  object\n",
       "public_gists_url                        object\n",
       "rate_limit_url                          object\n",
       "repository_url                          object\n",
       "repository_search_url                   object\n",
       "current_user_repositories_url           object\n",
       "starred_url                             object\n",
       "starred_gists_url                       object\n",
       "user_url                                object\n",
       "user_organizations_url                  object\n",
       "user_repositories_url                   object\n",
       "user_search_url                         object\n",
       "dtype: object"
      ]
     },
     "execution_count": 3,
     "metadata": {},
     "output_type": "execute_result"
    }
   ],
   "source": [
    "    api.T.dtypes"
   ]
  },
  {
   "cell_type": "markdown",
   "id": "8a4ec14d-62ac-4293-8aa2-215873f73e44",
   "metadata": {},
   "source": [
    "### table schema"
   ]
  },
  {
   "cell_type": "code",
   "execution_count": 4,
   "id": "0743a853-5057-421d-baf0-f88657c19186",
   "metadata": {},
   "outputs": [
    {
     "data": {
      "text/plain": [
       "{'fields': [{'name': 'index', 'type': 'string'},\n",
       "  {'name': 'github api', 'type': 'string'}],\n",
       " 'primaryKey': ['index'],\n",
       " 'pandas_version': '0.20.0'}"
      ]
     },
     "execution_count": 4,
     "metadata": {},
     "output_type": "execute_result"
    }
   ],
   "source": [
    "    pandas.read_json(api.to_json(orient=\"table\"), typ=pandas.Series)[\"schema\"]"
   ]
  },
  {
   "cell_type": "markdown",
   "id": "31b28cd5-3ee6-40cc-a591-7fe126145408",
   "metadata": {},
   "source": [
    "https://github.blog/2020-07-27-introducing-githubs-openapi-description/\n",
    "https://github.com/github/rest-api-description"
   ]
  },
  {
   "cell_type": "markdown",
   "id": "9deb8671-5d5e-434f-8f47-3f916cd26689",
   "metadata": {},
   "source": [
    "## learning some schema by writing it"
   ]
  },
  {
   "cell_type": "code",
   "execution_count": 5,
   "id": "c560a866-372e-4013-9ec9-cdd11aeecf5a",
   "metadata": {},
   "outputs": [],
   "source": [
    "    from schemata import *\n",
    "    import math, pytest"
   ]
  },
  {
   "cell_type": "code",
   "execution_count": 6,
   "id": "0b1a0670-15c6-4571-b408-0637aabc4ea4",
   "metadata": {},
   "outputs": [
    {
     "data": {
      "text/plain": [
       "{'exclusiveMaximum': 0}"
      ]
     },
     "execution_count": 6,
     "metadata": {},
     "output_type": "execute_result"
    }
   ],
   "source": [
    "    NegativeNumber = Numeric.ExclusiveMaximum[0] \n",
    "    NegativeNumber.schema(ravel=True)"
   ]
  },
  {
   "cell_type": "code",
   "execution_count": 7,
   "id": "47c85f07-4f33-435a-96df-1187ce4c1ce3",
   "metadata": {},
   "outputs": [
    {
     "data": {
      "text/plain": [
       "{'type': 'number', 'exclusiveMaximum': 0}"
      ]
     },
     "execution_count": 7,
     "metadata": {},
     "output_type": "execute_result"
    }
   ],
   "source": [
    "    NegativeNumber = Float[NegativeNumber]\n",
    "    NegativeNumber.schema(ravel=True)"
   ]
  },
  {
   "cell_type": "markdown",
   "id": "0ff92640-910a-4379-9aec-5cc1b5035a00",
   "metadata": {},
   "source": [
    "### schema provides validation\n",
    "\n",
    "one of the most immediate of defining is schema is that it provides validation."
   ]
  },
  {
   "cell_type": "code",
   "execution_count": 8,
   "id": "944b9818-165c-41be-a38c-fd2c31c58147",
   "metadata": {},
   "outputs": [],
   "source": [
    "    with pytest.raises(BaseException):\n",
    "        NegativeNumber(1.)"
   ]
  },
  {
   "cell_type": "code",
   "execution_count": 9,
   "id": "abd68fce-01b3-4490-bd81-12c33394d135",
   "metadata": {},
   "outputs": [],
   "source": [
    "    assert NegativeNumber(-1.) == -1"
   ]
  },
  {
   "cell_type": "markdown",
   "id": "0426d074-a1d7-4001-a318-860753dc6928",
   "metadata": {},
   "source": [
    "### schema define the null space"
   ]
  },
  {
   "cell_type": "markdown",
   "id": "f4828808-d59e-4ee2-a725-f4df46e3ae22",
   "metadata": {},
   "source": [
    "sometimes what a thing is can only be defined by what it is not."
   ]
  },
  {
   "cell_type": "code",
   "execution_count": 10,
   "id": "4fd740e9-1e08-4bc7-b782-20c79153cad2",
   "metadata": {},
   "outputs": [
    {
     "data": {
      "text/plain": [
       "{'not': {'type': 'number', 'exclusiveMaximum': 0}}"
      ]
     },
     "execution_count": 10,
     "metadata": {},
     "output_type": "execute_result"
    }
   ],
   "source": [
    "    NotNegativeNumber = -NegativeNumber\n",
    "    NotNegativeNumber.schema(ravel=True)"
   ]
  },
  {
   "cell_type": "markdown",
   "id": "155c6fea-0524-44a8-bf47-7849d6607b5c",
   "metadata": {},
   "source": [
    "### schema describe things"
   ]
  },
  {
   "cell_type": "code",
   "execution_count": 11,
   "id": "04b32431-dd90-4e04-ada3-08437bb9bcbc",
   "metadata": {},
   "outputs": [
    {
     "data": {
      "text/plain": [
       "{'type': 'number',\n",
       " 'exclusiveMaximum': 0,\n",
       " 'examples': (-3.141592653589793, -42.0),\n",
       " 'description': 'a castable negative float'}"
      ]
     },
     "execution_count": 11,
     "metadata": {},
     "output_type": "execute_result"
    }
   ],
   "source": [
    "    class NegativeNumber(NegativeNumber, Examples[-math.pi, -42.] + Description[\n",
    "        \"a castable negative float\"\n",
    "    ]): \n",
    "        pass\n",
    "    NegativeNumber.schema()"
   ]
  },
  {
   "cell_type": "code",
   "execution_count": 12,
   "id": "4910b6db-cd68-42a4-b4fc-1624c0d987d8",
   "metadata": {},
   "outputs": [
    {
     "data": {
      "text/plain": [
       "{'not': __main__.NegativeNumber,\n",
       " 'examples': (0, 3.141592653589793, 100),\n",
       " 'description': 'the null space of negative numbers'}"
      ]
     },
     "execution_count": 12,
     "metadata": {},
     "output_type": "execute_result"
    }
   ],
   "source": [
    "    class NotNegativeNumber(-NegativeNumber, Examples[0, math.pi, 100], Description[\n",
    "        \"the null space of negative numbers\"\n",
    "    ]):\n",
    "        pass\n",
    "    NotNegativeNumber.schema()"
   ]
  },
  {
   "cell_type": "markdown",
   "id": "f8537f7a-2876-4c4d-8105-0ab776c2dc26",
   "metadata": {},
   "source": [
    "based on the enriched schema we can infer `numpy` style docstrings as shown for `NegativeNumber` and `NotNegativeNumber` below."
   ]
  },
  {
   "cell_type": "markdown",
   "id": "93c548cf-0131-4898-8889-4e6b86c67f7a",
   "metadata": {},
   "source": [
    "### schema generate documentation"
   ]
  },
  {
   "cell_type": "raw",
   "id": "8ed38c72-ca18-4ea8-bda4-141ef2e7ea06",
   "metadata": {},
   "source": [
    "<details open><sumary>numpy docstring</summary>"
   ]
  },
  {
   "cell_type": "code",
   "execution_count": 13,
   "id": "e1222cc5-deeb-4401-a122-607600bcfe25",
   "metadata": {},
   "outputs": [
    {
     "name": "stdout",
     "output_type": "stream",
     "text": [
      "a castable negative float\n",
      "\n",
      "Examples\n",
      "--------\n",
      "\n",
      ">>> NegativeNumber(-3.141592653589793)\n",
      "-3.141592653589793\n",
      ">>> NegativeNumber(-42.0)\n",
      "-42.0 \n",
      "\n",
      "\n",
      " the null space of negative numbers\n",
      "\n",
      "Examples\n",
      "--------\n",
      "\n",
      ">>> NotNegativeNumber(0)\n",
      "0\n",
      ">>> NotNegativeNumber(3.141592653589793)\n",
      "3.141592653589793\n",
      ">>> NotNegativeNumber(100)\n",
      "100\n",
      ">>> with __import__(\"pytest\").raises(BaseException): NotNegativeNumber(-3.141592653589793)\n",
      ">>> with __import__(\"pytest\").raises(BaseException): NotNegativeNumber(-42.0)\n"
     ]
    }
   ],
   "source": [
    "    print(NegativeNumber.__doc__, \"\\n\"*3, NotNegativeNumber.__doc__)"
   ]
  },
  {
   "cell_type": "markdown",
   "id": "e684c545-7b8a-4f2f-b2fc-0ed4639b5302",
   "metadata": {},
   "source": [
    "by formalizing a schema as numpy docstrings we can immediately use the `builtins` `doctest` module to test our types. with the test results shown below."
   ]
  },
  {
   "cell_type": "markdown",
   "id": "f01d1593-a2bd-4e19-ad7c-da25e5433826",
   "metadata": {},
   "source": [
    "these generated docstrings also enrich the translation to documentation using the `autodoc` and `napolean` `sphinx` extensions.\n",
    "\n",
    "https://schemata--4.org.readthedocs.build/en/4/src/schemata/tests/readme.html"
   ]
  },
  {
   "cell_type": "markdown",
   "id": "b190158b-cdd8-4593-9698-043a122ea51f",
   "metadata": {},
   "source": [
    "#### `sphinx-jsonschema`\n",
    "\n",
    "https://schemata--4.org.readthedocs.build/en/4/src/schema.html"
   ]
  },
  {
   "cell_type": "markdown",
   "id": "1fcbdb9d-3535-4871-8424-3a50d6114050",
   "metadata": {},
   "source": [
    "### schema generate test cases"
   ]
  },
  {
   "cell_type": "code",
   "execution_count": 14,
   "id": "94d1a947-5827-46b2-831e-f832788f2ee2",
   "metadata": {},
   "outputs": [
    {
     "name": "stdout",
     "output_type": "stream",
     "text": [
      "Trying:\n",
      "    NegativeNumber(-3.141592653589793)\n",
      "Expecting:\n",
      "    -3.141592653589793\n",
      "ok\n",
      "Trying:\n",
      "    NegativeNumber(-42.0)\n",
      "Expecting:\n",
      "    -42.0\n",
      "ok\n",
      "Trying:\n",
      "    NotNegativeNumber(0)\n",
      "Expecting:\n",
      "    0\n",
      "ok\n",
      "Trying:\n",
      "    NotNegativeNumber(3.141592653589793)\n",
      "Expecting:\n",
      "    3.141592653589793\n",
      "ok\n",
      "Trying:\n",
      "    NotNegativeNumber(100)\n",
      "Expecting:\n",
      "    100\n",
      "ok\n",
      "Trying:\n",
      "    with __import__(\"pytest\").raises(BaseException): NotNegativeNumber(-3.141592653589793)\n",
      "Expecting nothing\n",
      "ok\n",
      "Trying:\n",
      "    with __import__(\"pytest\").raises(BaseException): NotNegativeNumber(-42.0)\n",
      "Expecting nothing\n",
      "ok\n",
      "1 items had no tests:\n",
      "    __main__\n",
      "2 items passed all tests:\n",
      "   2 tests in __main__.NegativeNumber\n",
      "   5 tests in __main__.NotNegativeNumber\n",
      "7 tests in 3 items.\n",
      "7 passed and 0 failed.\n",
      "Test passed.\n"
     ]
    },
    {
     "data": {
      "text/plain": [
       "TestResults(failed=0, attempted=7)"
      ]
     },
     "execution_count": 14,
     "metadata": {},
     "output_type": "execute_result"
    }
   ],
   "source": [
    "    import doctest;doctest.testmod(verbose=2, optionflags=doctest.ELLIPSIS)"
   ]
  },
  {
   "cell_type": "raw",
   "id": "c4297d52-2380-4738-9da3-bc93aa764989",
   "metadata": {},
   "source": [
    "</details>"
   ]
  },
  {
   "cell_type": "markdown",
   "id": "0b1f65bb-364f-44c7-ac63-ba470b33abb3",
   "metadata": {},
   "source": [
    "let's catch our breath here. we just demonstrated that python can be used to write `jsonschema` specifications describing a `NegativeNumber` and it's null space `NotNegativeNumber`. by using specific keys, described in the `jsonschema` specification would could infer:\n",
    "* numpy docstrings\n",
    "    * include `doctest`s \n",
    "* evaluated both the null and non-space of our `NegativeNumber`"
   ]
  },
  {
   "cell_type": "markdown",
   "id": "308ea26b-12d8-4634-8f1b-7a937a4468da",
   "metadata": {},
   "source": [
    "#### advanced testing with `hypothesis`\n",
    "\n",
    "an advanced application in statistically samples tests with `hypothesis`"
   ]
  },
  {
   "cell_type": "code",
   "execution_count": 15,
   "id": "0f5e545c-cf50-4b9c-be78-3efebac9c36d",
   "metadata": {},
   "outputs": [],
   "source": [
    "    import hypothesis\n",
    "    types = hypothesis.strategies.sampled_from((NegativeNumber, NotNegativeNumber))\n",
    "\n",
    "    @hypothesis.strategies.composite\n",
    "    def draw_pair(draw, type=types):\n",
    "        t = draw(type)\n",
    "        return t, draw(t.strategy())\n",
    "\n",
    "    @hypothesis.given(draw_pair())\n",
    "    @hypothesis.settings(max_examples=4)\n",
    "    def test_types(pair):\n",
    "        global counter\n",
    "        counter += 1\n",
    "        cls, value = pair\n",
    "        assert cls(value) == value"
   ]
  },
  {
   "cell_type": "markdown",
   "id": "3b0b6602-38f5-4590-8fa7-4b892d56ee48",
   "metadata": {},
   "source": [
    "running the test type functions same types and values."
   ]
  },
  {
   "cell_type": "code",
   "execution_count": 16,
   "id": "d5133720-f770-4efc-b29c-3e0a5ecb8586",
   "metadata": {},
   "outputs": [
    {
     "data": {
      "text/plain": [
       "'4 tests run'"
      ]
     },
     "execution_count": 16,
     "metadata": {},
     "output_type": "execute_result"
    }
   ],
   "source": [
    "    counter = 0; test_types()\n",
    "    F\"{counter} tests run\""
   ]
  },
  {
   "cell_type": "markdown",
   "id": "2320cbc4-2193-49c2-b406-8868672cf45c",
   "metadata": {},
   "source": [
    "at this point we haven't really made our own instance, the python form of the schema, of `NegativeNumber`."
   ]
  },
  {
   "cell_type": "markdown",
   "id": "de704584-ff7c-47c5-b4cb-762a10c481bb",
   "metadata": {},
   "source": [
    "### schema constrains form\n",
    "\n",
    "the form is what it looks like."
   ]
  },
  {
   "cell_type": "markdown",
   "id": "725cab7f-7141-44ec-9bc5-451c9d2e10c2",
   "metadata": {},
   "source": [
    "there are different context that this `NegativeNumber` can be printed in like:\n",
    "\n",
    "* the standard python `print`"
   ]
  },
  {
   "cell_type": "code",
   "execution_count": 17,
   "id": "cea6f5bb-42f1-4460-afbb-4aaa72ea58aa",
   "metadata": {},
   "outputs": [
    {
     "data": {
      "text/plain": [
       "-3.141592653589793"
      ]
     },
     "execution_count": 17,
     "metadata": {},
     "output_type": "execute_result"
    }
   ],
   "source": [
    "    NegativeNumber(-math.pi)"
   ]
  },
  {
   "cell_type": "markdown",
   "id": "3e82737a-1e33-465a-ba08-06874f8a4ab4",
   "metadata": {},
   "source": [
    "* a richer ascii representation using the `rich` library"
   ]
  },
  {
   "cell_type": "code",
   "execution_count": 18,
   "id": "1cdb47fc-365a-4b9b-a42d-44fad29c40a7",
   "metadata": {},
   "outputs": [
    {
     "data": {
      "text/html": [
       "<pre style=\"white-space:pre;overflow-x:auto;line-height:normal;font-family:Menlo,'DejaVu Sans Mono',consolas,'Courier New',monospace\"><span style=\"color: #000080; text-decoration-color: #000080; font-weight: bold\">-3.141592653589793</span>\n",
       "</pre>\n"
      ],
      "text/plain": [
       "<rich.jupyter.JupyterRenderable at 0x7f3650aae590>"
      ]
     },
     "metadata": {},
     "output_type": "display_data"
    }
   ],
   "source": [
    "    # NBVAL_IGNORE_OUTPUT\n",
    "    NegativeNumber(-math.pi).print()"
   ]
  },
  {
   "cell_type": "markdown",
   "id": "b6250d20-f14e-48ee-9291-bf1ddf5b9bdb",
   "metadata": {},
   "source": [
    "#### schema and form"
   ]
  },
  {
   "cell_type": "markdown",
   "id": "be964455-4ae9-4d92-91ba-591210f2cc7a",
   "metadata": {},
   "source": [
    "i think now is a good place for a little wordplay. to me, i find validation in the nearness of __schema__ and __form__ in the name of the popular `react-jsonschema-form` library that presents user interfaces bases on schema. it has widespread use in other in the javascript community.\n",
    "\n",
    "`schemata` ~loosely~ adopts  `react-jsonschema-form` to encode user interfaces, including layout and styling. the back haul for `schemata` UI are the popular `ipywidgets` that construct similar widgets to rjsf"
   ]
  },
  {
   "cell_type": "code",
   "execution_count": 19,
   "id": "6860c463-fb71-4739-b9de-a047558e53f8",
   "metadata": {},
   "outputs": [
    {
     "data": {
      "text/plain": [
       "{'ui:widget': 'slider',\n",
       " 'layout': {'width': '60%'},\n",
       " 'style': {'width': '100px'},\n",
       " 'minimum': -10}"
      ]
     },
     "execution_count": 19,
     "metadata": {},
     "output_type": "execute_result"
    }
   ],
   "source": [
    "    WideSlider = ui.Slider + ui.Layout[dict(width=\"60%\")] + ui.Style[dict(width=\"100px\")] + Numeric.Minimum[-10]\n",
    "    WideSlider.schema()"
   ]
  },
  {
   "cell_type": "code",
   "execution_count": 20,
   "id": "f5ed5d48-58bd-43b0-af71-b64307e8fd90",
   "metadata": {},
   "outputs": [
    {
     "data": {
      "application/vnd.jupyter.widget-view+json": {
       "model_id": "b94332ab35794725a1f95d82cd2e22e6",
       "version_major": 2,
       "version_minor": 0
      },
      "text/plain": [
       "FloatSlider(value=-3.141592653589793, description='a castable negative float', layout=Layout(width='60%'), max…"
      ]
     },
     "metadata": {},
     "output_type": "display_data"
    }
   ],
   "source": [
    "    NegativeNumber[WideSlider](-math.pi)"
   ]
  },
  {
   "cell_type": "code",
   "execution_count": 21,
   "id": "7769ad18-ab47-4afa-babf-ab4e9d28afab",
   "metadata": {},
   "outputs": [
    {
     "data": {
      "application/vnd.jupyter.widget-view+json": {
       "model_id": "a04142341ffc4bb6ba8daf797bc08526",
       "version_major": 2,
       "version_minor": 0
      },
      "text/plain": [
       "FloatText(value=-6.283185307179586, description='a castable negative float')"
      ]
     },
     "metadata": {},
     "output_type": "display_data"
    }
   ],
   "source": [
    "    NegativeNumber.text()(-math.tau)"
   ]
  },
  {
   "cell_type": "markdown",
   "id": "e15d991c-8225-4aee-bd53-75bd66d84f27",
   "metadata": {},
   "source": [
    "## conclusion\n",
    "\n",
    "a general feature of schema, particularly `jsonschema`, is that its definition impacts documentation, testing, and interactive programming experiences. \n",
    "\n",
    "there is a healthy practice into translating code or ideas in schema. it is a pathway to understanding the basis of a thing."
   ]
  },
  {
   "cell_type": "markdown",
   "id": "7e6b1b4c-d21d-4de8-b44f-5d20843b6ab8",
   "metadata": {},
   "source": [
    "---"
   ]
  },
  {
   "cell_type": "markdown",
   "id": "75543665-ed24-4a04-b2bd-017a7b8ea98d",
   "metadata": {},
   "source": [
    "## understanding schema takes time.\n",
    "\n",
    "this document has been a journey from me, i've approached schema from literary, scientific, and computable schema hunting for a ghost. because, at best, a schema is an informal abstract.\n",
    "\n",
    "while learning schema, it is important to observe many positions for schema, and the extended outcomes of well described systems. schema can move between systems and define constraints. each schema translated into a different system creates a different. these are the forms we must observe.\n",
    "\n",
    "so to understand schema, i wrote code about schema, and explored tools that extended schema to help me do more with less. the outcome of these studies is a python library called `schemata` that implements, and extends, `jsonschema` conventions to python in general."
   ]
  },
  {
   "cell_type": "markdown",
   "id": "4bea7b7b-b384-4bca-b4ae-d54398b07e49",
   "metadata": {},
   "source": [
    "on the open web however, we have explicit specifications for schema, written in terse language, that all others to adopt implementations in their language. these implementations are forms of schema, the specification languages enable consistent interfaces across programming systems."
   ]
  }
 ],
 "metadata": {
  "kernelspec": {
   "display_name": "Python 3",
   "language": "python",
   "name": "python3"
  },
  "language_info": {
   "codemirror_mode": {
    "name": "ipython",
    "version": 3
   },
   "file_extension": ".py",
   "mimetype": "text/x-python",
   "name": "python",
   "nbconvert_exporter": "python",
   "pygments_lexer": "ipython3",
   "version": "3.7.7"
  }
 },
 "nbformat": 4,
 "nbformat_minor": 5
}
